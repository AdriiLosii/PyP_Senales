{
 "cells": [
  {
   "cell_type": "markdown",
   "id": "8cac63d9",
   "metadata": {},
   "source": [
    "# Percepción y procesado de señales \n",
    "# Examen final prácticas - 1º convocatoria\n",
    "### Fecha: 31/05/2021\n",
    "\n",
    "\n",
    "Instrucciones para el examen\n",
    "\n",
    "\n",
    "* Podeis usar/consultar la teoría para realizar los ejercicios\n",
    "* Salvo que se pida expresamente una implementación vuestra, no es necesario que implementeis funciones que ya existan en las librerías que usamos\n",
    "* Podéis usar los manuales de usuario proporcionados para la práctica\n",
    "* **No podéis emplear los Notebooks de las prácticas anteriores**\n",
    "* **No podéis usar Internet** \n",
    "* Los ejercicios tienen que tener todo el código necesario para llegar a la solución\n",
    "\n",
    "Subida de los resultados\n",
    "* Al terminar la práctica, la tenéis que subir al aula virtual \n",
    "* Solo es necesario subir el Notebook \n",
    "* Fijaos en que estéis subiendo el Notebook modificado y no el original descargado\n",
    "    * Podéis fijaros en que el tamaño que ocupa sea diferente para estar seguros de que es el vuestro\n",
    "    \n",
    "**Evaluación**\n",
    "\n",
    "* El alumno recibirá la nota más alta entre este examen y las prácticas entregables realizadas durante el semestre\n",
    "* La nota de prácticas representa el 60% de la asignatura\n",
    "* Es necesario obtener al menos un 4 para hacer media con la teoría\n",
    "* Las notas de prácticas mayores o iguales a 5 se conservan para la segunda convocatoria\n",
    "\n",
    "\n"
   ]
  },
  {
   "cell_type": "markdown",
   "id": "d0242f28",
   "metadata": {},
   "source": [
    "## Información sobre los números complejos\n",
    "$z=a+bj$\n",
    "\n",
    "$z=re^{j\\theta}$\n",
    "\n",
    "$r=\\sqrt{a^2 + b^2}$\n",
    "\n",
    "$\\theta= arctan(\\frac{b}{a})$\n",
    "\n",
    "$z=\\frac{a+bj}{c+dj}, \\theta(z)= arctan(\\frac{b}{a})-arctan(\\frac{d}{c})$\n",
    "\n",
    "\n",
    "$|\\frac{z_1}{z_2}|=\\frac{|z_1|}{|z_2|}$\n"
   ]
  },
  {
   "cell_type": "markdown",
   "id": "7a283f00",
   "metadata": {},
   "source": [
    "### Lista de funciones que pueden ser útiles\n",
    "No necesariamente tenéis que usarlas todas. Es un recordatorio de algunas de las funciones vistas en clase\n",
    "\n",
    "* numpy.fft.fft()\n",
    "* numpy.fft.ifft()\n",
    "* numpy.fft.fftfreq()\n",
    "* numpy.fft.fftshift()\n",
    "* numpy.fft.ifftshift()\n",
    "* numpy.sqrt()\n",
    "* numpy.arctan()\n",
    "* numpy.convolve()\n",
    "* numpy.argmax()\n",
    "\n",
    "* scipy.signal.correlate()\n",
    "* scipy.signal.correlation_lags()\n",
    "* scipy.signal.deconvolve()\n",
    "\n",
    "\n",
    "\n",
    "* sympy.fourier_series()\n",
    "* sympy.plot()\n",
    "* sympy.N()\n",
    "* sympy.I\n",
    "* sympy.exp()\n",
    "* sympy.integrate()\n",
    "* sympy.fourier_transform()\n",
    "* sp.sympify()\n",
    "* sp.expand()\n",
    "* sp.Heaviside()\n",
    "* sympy.symbols()"
   ]
  },
  {
   "cell_type": "markdown",
   "id": "9a91f45b",
   "metadata": {},
   "source": [
    "## Funciones disponibles\n",
    "\n",
    "\n",
    "Las siguientes funciones las dejo disponibles pero no tenéis que emplearlas Podéis emplear propias vuestras implementaciones o las de Python"
   ]
  },
  {
   "cell_type": "code",
   "execution_count": 59,
   "id": "cc944085",
   "metadata": {},
   "outputs": [],
   "source": [
    "#Librerías necesarias para el desarrollo\n",
    "import matplotlib\n",
    "import matplotlib.pyplot as plt\n",
    "from scipy import signal\n",
    "import sympy as sp\n",
    "import numpy as np\n",
    "from IPython.display import display\n",
    "from collections import deque  \n",
    "from sympy.abc import t\n",
    "plt.rcParams[\"figure.figsize\"] = (14,4) #dimensiones por defecto al plotear (width, height)"
   ]
  },
  {
   "cell_type": "code",
   "execution_count": 2,
   "id": "f6b6396f",
   "metadata": {},
   "outputs": [],
   "source": [
    "#Este es un método de visualización muy básico para hacer pruebas\n",
    "def plot_stem( t , y, y_lim=None, view_baseline=True, title=None):\n",
    "    \"\"\"Función que configura y visualiza un gráfico stem \n",
    "\n",
    "       Parámetros:\n",
    "       t -- muestras de tiempo\n",
    "       y -- secuencia para visualizar\n",
    "       y_lim -- tupla de la forma (min, max) que establece los límites en el eje de ordenadas. Por defecto None\n",
    "       view_baseline -- Establece una línea horizontal en el eje de las x a la altura de  y=0 . Por defecto False\n",
    "\n",
    "    \"\"\"\n",
    "    markerline, stemlines, baseline = plt.stem(t, y)\n",
    "    plt.setp(baseline, visible=view_baseline, color=\"black\")\n",
    "    plt.setp(markerline, color=\"crimson\",markersize = 10)\n",
    "    plt.setp(stemlines, color=\"crimson\", linewidth = 4)\n",
    "    plt.axvline(x=0, linewidth=1,color=\"black\")\n",
    "    plt.ylim(y_lim)\n",
    "    if title is not None:\n",
    "        plt.title(title)\n",
    "    plt.show()"
   ]
  },
  {
   "cell_type": "code",
   "execution_count": 3,
   "id": "312561d6",
   "metadata": {},
   "outputs": [],
   "source": [
    "def get_frequencies(X, freq,elements):\n",
    "        \"\"\"Función que devuelve los valores y las frecuencias positivas asociadas a los 'n' valores máximos del espectro\n",
    "\n",
    "       Parámetros:\n",
    "       \n",
    "       X: array con los resultados de la DFT\n",
    "       freq: array con las frecuencias asociadas a la DFT\n",
    "       elements -- número de picos máximos a buscar \n",
    "       \n",
    "\n",
    "        \"\"\"\n",
    "        X_modules=abs(X.copy())\n",
    "        #argsort devuelve una lista ordenada con los índices con los valores máximos\n",
    "        #al negarlo consigo darle la vuelta al orden y me es más fácil recuperar lo que \n",
    "        #me interesa. \n",
    "        idx=  (-X_modules).argsort()\n",
    "        #Creo un array que solo tiene las frecuencias positivas ordenadas y devuelvo los\n",
    "        # \"elements\" que me piden\n",
    "        return [ (round(X_modules[i],3), round(freq[i],3)) for i in idx if freq[i]>0][:elements] "
   ]
  },
  {
   "cell_type": "code",
   "execution_count": 4,
   "id": "363430b9",
   "metadata": {},
   "outputs": [],
   "source": [
    "def plot_sympy(signals, limits, title=None, xlabel=None, ylabel=None ):\n",
    "    '''\n",
    "        Función para plotear diferentes funciones cada una con un color diferente (max.7)\n",
    "        Parámetros:\n",
    "        \n",
    "        signals: lista con las funciones. Tiene que recibir siempre una lista aunque solo tenga 1 elemento\n",
    "        limits: tripla de sympy con la forma (sym, start, end)\n",
    "        title: cadena de texto con el título del gráfico\n",
    "        xlabel: cadena de texto con el título del eje X del gráfico\n",
    "        ylabel: cadena de texto con el título del eje Y del gráfico\n",
    "    '''\n",
    "    \n",
    "    colors=[\"black\",\"blue\", \"red\", \"green\", \"yellow\", \"pink\", \"cyan\"]\n",
    "   \n",
    "    p=sp.plot(*signals,limits, show=False, legend=False, title=title, xlabel=xlabel, ylabel=ylabel)\n",
    "    for i in range(len(signals)):\n",
    "        p[i].line_color=colors[i]\n",
    "  \n",
    "    \n",
    "    p.show()\n",
    "    \n",
    "    "
   ]
  },
  {
   "cell_type": "code",
   "execution_count": 5,
   "id": "ff6faca4",
   "metadata": {},
   "outputs": [],
   "source": [
    "def own_correlation_lags(in1_len, in2_len):\n",
    "    '''\n",
    "    Calcula el array de índices que representan los lags o desplazamientos para la correlación 1-D\n",
    "    \n",
    "    Parámetros\n",
    "    in1_len: longitud de la primera señal en la operación de correlación\n",
    "    in2_len: longitud de la segunda señal en la operación de correlación\n",
    "    Return\n",
    "    array de índices que representan los lags\n",
    "    '''\n",
    "    return np.arange(-in2_len + 1, in1_len)"
   ]
  },
  {
   "cell_type": "markdown",
   "id": "1b036437",
   "metadata": {},
   "source": [
    "## Ejercicio 1\n",
    "Dado el sistema LTI representado por el siguiente diagrama de bloques (os lo doy implementado)\n",
    "\n",
    "* Obtener la **respuesta impulsional** en el rango $0<=n<10$ (10 muestras)\n",
    "* **Obtener la entrada al sistema** (x[n]) que genera la siguiente salida\n",
    "\n",
    "$y[n]=[1,1,1,1,2,2,2,2,3,3,3,3,4,4,4,4]$\n",
    "\n",
    "**Nota importante**\n",
    "* Con los datos proporcionados solo se pueden obtener los 6 primeros elementos de x[n]\n",
    "* Obviamente el objetivo no es probar de forma aleatoria entradas hasta conseguir $y[n]$\n",
    "\n",
    "\n",
    "![title](diagrama_bloques2.png)"
   ]
  },
  {
   "cell_type": "code",
   "execution_count": null,
   "id": "8e1dca53",
   "metadata": {},
   "outputs": [],
   "source": [
    "#implementación de los bloques básicos\n",
    "class sumador:\n",
    "    def __init__(self):\n",
    "        pass\n",
    "    def suma(self, x1,x2):\n",
    "        if not isinstance(x1, list): x1=[x1]\n",
    "           \n",
    "        if not isinstance(x2, list):   x2=[x2]\n",
    "          \n",
    "        #TODO:  comprobar que son de la misma logitud y actuar en consecuencia\n",
    "        rdo= [a+b for a,b in zip(x1,x2)]\n",
    "        return rdo if len(rdo)>1 else rdo[0]\n",
    "class multiplicador:\n",
    "    def __init__(self):\n",
    "        pass\n",
    "    def multiplica(self, x1,x2):\n",
    "        if not isinstance(x1, list): x1=[x1]\n",
    "           \n",
    "        if not isinstance(x2, list):   x2=[x2]\n",
    "        rdo= [a*b for a,b in zip(x1,x2)]\n",
    "        return rdo if len(rdo)>1 else rdo[0]\n",
    "    def escala(self, x1,c):\n",
    "        return x1*c\n",
    "    \n",
    "    \n",
    "    \n",
    "class retardador:\n",
    "    def __init__(self, retardos,init_value=0):\n",
    "        retardos=retardos if retardos >0 else 1\n",
    "        self.buffer=deque([init_value]*retardos, maxlen=retardos)\n",
    "        \n",
    "    def add(self, item):\n",
    "        self.buffer.append(item)\n",
    "    def get(self):\n",
    "        return self.buffer[0]\n",
    "    def print(self):\n",
    "        print(self.buffer)\n",
    "         \n",
    "#implementación del diagrama de bloques\n",
    "def diagrama_bloques(x):\n",
    "    signal=x.copy()\n",
    "    \n",
    "    entrada_retardo=retardador(1)\n",
    "    salida_retardo=retardador(1)\n",
    "    suma=sumador()\n",
    "    multiplica=multiplicador()\n",
    "    y=[]\n",
    "    for i in signal:\n",
    "\n",
    "        aux=suma.suma(i, entrada_retardo.get())\n",
    "        entrada_retardo.add(i)\n",
    "        aux=multiplica.escala(aux, 0.5)\n",
    "        rdo=suma.suma(aux, multiplica.escala(salida_retardo.get(), 1/4))\n",
    "        salida_retardo.add(rdo)\n",
    "        y.append(rdo)\n",
    "    return y    \n",
    "\n"
   ]
  },
  {
   "cell_type": "code",
   "execution_count": null,
   "id": "b9cf9061",
   "metadata": {},
   "outputs": [],
   "source": [
    "## Implementación del ejercicio 1\n",
    "retardo_ent=retardador(1)\n",
    "retardo_sal=retardador(1)\n",
    "y=[1,1,1,1,2,2,2,2,3,3,3,3,4,4,4,4]\n",
    "suma=sumador()\n",
    "multiplica=multiplicador()\n",
    "muestras=np.arange(0,11,1)\n",
    "\n",
    "\n"
   ]
  },
  {
   "cell_type": "markdown",
   "id": "5897fddc",
   "metadata": {},
   "source": [
    "## Ejercicio 2\n",
    "\n",
    "Calcula la convolución y visualiza el resultado de las siguientes parejas de señales:\n",
    "\n",
    "1. Pareja 1\n",
    "    * $ x[n]=\\frac{1}{2}^n u[n]$\n",
    "    * $ h[n]=\\frac{1}{3}^{-n} u[n]$\n",
    "    \n",
    "    \n",
    "2. Pareja 2\n",
    "    * $ x_2[n]=u[n]-u[n-5]$\n",
    "    * $  h_2[n]=u[n-2]-u[n-8]+u[n-11]-u[n-17]$\n",
    "    \n",
    "    \n",
    "3. Pareja 3\n",
    "    * $ x_3[n]= u[n+1]−u[n−4]−\\delta[n−5]$\n",
    "    * $h_3[n]= [u(n+2)−u(n−3)]~(3−|n|)$ \n",
    "        + ojo que  $h_3$ tiene una multiplicación \n",
    "\n",
    "\n",
    "        \n",
    "**Nota**\n",
    "Desarrollar las señales en el rango $0<=n<10$"
   ]
  },
  {
   "cell_type": "code",
   "execution_count": 26,
   "id": "76dfed7b",
   "metadata": {},
   "outputs": [
    {
     "data": {
      "image/png": "[encoded data removed]",
      "text/plain": [
       "<Figure size 1008x288 with 1 Axes>"
      ]
     },
     "metadata": {
      "needs_background": "light"
     },
     "output_type": "display_data"
    },
    {
     "data": {
      "image/png": "[encoded data removed]",
      "text/plain": [
       "<Figure size 1008x288 with 1 Axes>"
      ]
     },
     "metadata": {
      "needs_background": "light"
     },
     "output_type": "display_data"
    },
    {
     "data": {
      "image/png": "[encoded data removed]",
      "text/plain": [
       "<Figure size 1008x288 with 1 Axes>"
      ]
     },
     "metadata": {
      "needs_background": "light"
     },
     "output_type": "display_data"
    }
   ],
   "source": [
    "# Implementación del ejercicio 2\n",
    "def impulso_unitario(x):\n",
    "    return 1*(x==0)\n",
    "def escalon_unitario(x):\n",
    "    return 1*(x>=0)\n",
    "\n",
    "def create_x1(muestras):\n",
    "    return [(1/2)**i if i>=0 else 0 for i in muestras] \n",
    "def create_h1(muestras):\n",
    "    return [(1/3)**-i if i>=0 else 0 for i in muestras] \n",
    "\n",
    "def create_x2(muestras):\n",
    "    return escalon_unitario(muestras)-escalon_unitario(muestras-5)\n",
    "def create_h2(muestras):\n",
    "    return escalon_unitario(muestras-2)-escalon_unitario(muestras-8)+escalon_unitario(muestras-11)-escalon_unitario(muestras-17)\n",
    "\n",
    "def create_x3(muestras):\n",
    "    return escalon_unitario(muestras+1)-escalon_unitario(muestras-4)-impulso_unitario(muestras-5)\n",
    "def create_h3(muestras):\n",
    "    return (escalon_unitario(muestras+2)-escalon_unitario(muestras-3))*(3-abs(muestras))\n",
    "muestras=np.arange(0,11,1)\n",
    "limites=np.arange(0,21,1)\n",
    "\n",
    "x1=create_x1(muestras)\n",
    "h1=create_h1(muestras)\n",
    "conv1=np.convolve(x1,h1)\n",
    "plot_stem(limites,conv1)\n",
    "\n",
    "\n",
    "x2=create_x2(muestras)\n",
    "h2=create_h2(muestras)\n",
    "conv2=np.convolve(x2,h2)\n",
    "plot_stem(limites,conv2)\n",
    "\n",
    "x3=create_x3(muestras)\n",
    "h3=create_h3(muestras)\n",
    "conv3=np.convolve(x3,h3)\n",
    "plot_stem(limites,conv3)\n"
   ]
  },
  {
   "cell_type": "markdown",
   "id": "0e817f30",
   "metadata": {},
   "source": [
    "## Ejercicio 3\n",
    "\n",
    "### Parte 1\n",
    "\n",
    "Desarrolla una señal compuesta de señales sinusoidales (especificamente cosinusoidales)\n",
    "\n",
    "$signal=signal_1+signal_2 +signal_3$\n",
    "\n",
    "La señal resultante tendrá 120 muestras en total. \n",
    "\n",
    "La señal resultante representa la captura de 1 minuto de datos (120/2), es decir,el contenido de la señal resultante representa un **muestreo cada  0.5 segundos**.\n",
    "\n",
    "\n",
    "La sinusoidales básicas que formarán la señal final tendrán los siguientes parámetros:\n",
    "\n",
    "* sinusoidal1:\n",
    "    + A=1\n",
    "    + frecuencia=0.1\n",
    "    + $\\phi=0.2$\n",
    "    \n",
    "* sinusoidal2:\n",
    "    + A=1.5\n",
    "    + período=20\n",
    "    + $\\phi=0$\n",
    "    \n",
    "* sinusoidal3:\n",
    "    + A=0.5\n",
    "    + $\\large\\omega=\\frac{\\pi}{30}$\n",
    "    + $\\phi=0.3$\n",
    "    \n",
    "\n",
    "### Parte 2\n",
    "\n",
    "Analiza los datos de la señal compuesta que habéis creado a través de la **DFT y obtener los períodos de las señales sinusoidales en segundos**.\n",
    "\n",
    "\n",
    "\n",
    "\n"
   ]
  },
  {
   "cell_type": "code",
   "execution_count": 42,
   "id": "37d7bacc",
   "metadata": {},
   "outputs": [
    {
     "name": "stdout",
     "output_type": "stream",
     "text": [
      "Freq1: 58.8235294117647 Freq2: 30.3030303030303 Freq3: 20.0\n"
     ]
    }
   ],
   "source": [
    "#Implementación ejercicio 3\n",
    "def sinusoidal(x,f=0,rad=None,amplitud=1,fase=0):\n",
    "    rad=(2*np.pi*f) if rad is None else rad\n",
    "    return amplitud*np.cos(rad*x+fase)\n",
    "frecuencia=0.5\n",
    "x=np.arange(0,121,1)\n",
    "\n",
    "sinusoide1=sinusoidal(x,f=0.1,fase=0.2)\n",
    "sinusoide2=sinusoidal(x,f=1/20,amplitud=1.5)\n",
    "sinusoide3=sinusoidal(x,rad=np.pi/30,amplitud=0.5,fase=0.3)\n",
    "\n",
    "signal=sinusoide1+sinusoide2+sinusoide3\n",
    "\n",
    "ft=np.fft.fft(x)\n",
    "x_freq=np.fft.fftfreq(len(ft),frecuencia)\n",
    "\n",
    "sol=get_frequencies(ft,x_freq,3)\n",
    "freq1=sol[0][1]\n",
    "freq2=sol[1][1]\n",
    "freq3=sol[2][1]\n",
    "\n",
    "print('Freq1:',1/freq1,'Freq2:',1/freq2,'Freq3:',1/freq3)\n"
   ]
  },
  {
   "cell_type": "markdown",
   "id": "b45f3d16",
   "metadata": {},
   "source": [
    "## Ejercicio 4\n",
    "\n",
    "Un robot está posicionado en el medio de un escenario con diferentes obstáculos a su alrededor. Con un radar emite una señal en cuatro direcciones (arriba, abajo, derecha e izquierda). La información recibida por el radar, así como la señal original enviada, las tenemos almacenadas en ficheros. \n",
    "* Procesa y analiza cada señal recibida y averigua:\n",
    " \n",
    "    * Si la dirección (arriba, abajo, derecha e izquierda) está libre o existe algún obstáculo\n",
    "    * En caso de existir un obstáculo, averigua la distancia a la que está situado \n",
    "        + Las señales están muestreadas cada segundo\n",
    "        + La velocidad de desplazamiento de la señal es 343 m/s\n",
    "    * Averigua la energía en la señal original enviada por el radar\n",
    "    \n",
    "    \n",
    "    \n",
    "**Notas importantes**\n",
    "- Todas las operaciones del ejercicio tienen que realizarse empleando la correlación/autocorrelación de señales (incluyendo la energía)\n",
    "- Si alguna persona no está ejecutando la versión de numpy que tiene la máquina virtual puede que no tenga la función *signal.correlation_lags*. Puede emplear la alternativa propuesta en las funciones que os he dado (*own_correlation_lags()*) o realizar el ejercicio teniendo en cuenta que la señal original tiene 100 muestras y estimando el punto central.\n",
    "- Una función útil para el ejercicio es *argmax()* \n",
    "    * <b>Recordad que los arrays empiezan en 0!!</b>. Una posición de índice 10 representa la muestra 11."
   ]
  },
  {
   "cell_type": "code",
   "execution_count": null,
   "id": "6ac7415f",
   "metadata": {},
   "outputs": [],
   "source": [
    "#help(np.argmax)\n",
    "#help(own_correlation_lags)"
   ]
  },
  {
   "cell_type": "code",
   "execution_count": 63,
   "id": "9d6471d5",
   "metadata": {},
   "outputs": [],
   "source": [
    "##Carga de datos\n",
    "\n",
    "radar=np.load(\"signal_radar.npy\")\n",
    "signal_arriba=np.load(\"signal_arriba.npy\")\n",
    "signal_izquierda=np.load(\"signal_izquierda.npy\")\n",
    "signal_derecha=np.load(\"signal_derecha.npy\")\n",
    "signal_abajo=np.load(\"signal_abajo.npy\")"
   ]
  },
  {
   "cell_type": "code",
   "execution_count": 68,
   "id": "b4b38a11",
   "metadata": {},
   "outputs": [
    {
     "ename": "ValueError",
     "evalue": "x and y must have same first dimension, but have shapes (100,) and (199,)",
     "output_type": "error",
     "traceback": [
      "\u001b[0;31m---------------------------------------------------------------------------\u001b[0m",
      "\u001b[0;31mValueError\u001b[0m                                Traceback (most recent call last)",
      "\u001b[0;32m<ipython-input-68-007bc77d7786>\u001b[0m in \u001b[0;36m<module>\u001b[0;34m\u001b[0m\n\u001b[1;32m      3\u001b[0m \u001b[0mcorr_arriba\u001b[0m\u001b[0;34m/=\u001b[0m\u001b[0mnp\u001b[0m\u001b[0;34m.\u001b[0m\u001b[0mmax\u001b[0m\u001b[0;34m(\u001b[0m\u001b[0mcorr_arriba\u001b[0m\u001b[0;34m)\u001b[0m\u001b[0;34m\u001b[0m\u001b[0;34m\u001b[0m\u001b[0m\n\u001b[1;32m      4\u001b[0m \u001b[0mlags_arriba\u001b[0m\u001b[0;34m=\u001b[0m\u001b[0msignal\u001b[0m\u001b[0;34m.\u001b[0m\u001b[0mcorrelation_lags\u001b[0m\u001b[0;34m(\u001b[0m\u001b[0mlen\u001b[0m\u001b[0;34m(\u001b[0m\u001b[0mradar\u001b[0m\u001b[0;34m)\u001b[0m\u001b[0;34m,\u001b[0m\u001b[0mlen\u001b[0m\u001b[0;34m(\u001b[0m\u001b[0msignal_arriba\u001b[0m\u001b[0;34m)\u001b[0m\u001b[0;34m)\u001b[0m\u001b[0;34m\u001b[0m\u001b[0;34m\u001b[0m\u001b[0m\n\u001b[0;32m----> 5\u001b[0;31m \u001b[0mplot_stem\u001b[0m\u001b[0;34m(\u001b[0m\u001b[0mradar\u001b[0m\u001b[0;34m,\u001b[0m\u001b[0mcorr_arriba\u001b[0m\u001b[0;34m)\u001b[0m\u001b[0;34m\u001b[0m\u001b[0;34m\u001b[0m\u001b[0m\n\u001b[0m\u001b[1;32m      6\u001b[0m \u001b[0mprint\u001b[0m\u001b[0;34m(\u001b[0m\u001b[0mlags_arriba\u001b[0m\u001b[0;34m)\u001b[0m\u001b[0;34m\u001b[0m\u001b[0;34m\u001b[0m\u001b[0m\n\u001b[1;32m      7\u001b[0m \u001b[0;34m\u001b[0m\u001b[0m\n",
      "\u001b[0;32m<ipython-input-2-d231e435f123>\u001b[0m in \u001b[0;36mplot_stem\u001b[0;34m(t, y, y_lim, view_baseline, title)\u001b[0m\n\u001b[1;32m     10\u001b[0m \u001b[0;34m\u001b[0m\u001b[0m\n\u001b[1;32m     11\u001b[0m     \"\"\"\n\u001b[0;32m---> 12\u001b[0;31m     \u001b[0mmarkerline\u001b[0m\u001b[0;34m,\u001b[0m \u001b[0mstemlines\u001b[0m\u001b[0;34m,\u001b[0m \u001b[0mbaseline\u001b[0m \u001b[0;34m=\u001b[0m \u001b[0mplt\u001b[0m\u001b[0;34m.\u001b[0m\u001b[0mstem\u001b[0m\u001b[0;34m(\u001b[0m\u001b[0mt\u001b[0m\u001b[0;34m,\u001b[0m \u001b[0my\u001b[0m\u001b[0;34m)\u001b[0m\u001b[0;34m\u001b[0m\u001b[0;34m\u001b[0m\u001b[0m\n\u001b[0m\u001b[1;32m     13\u001b[0m     \u001b[0mplt\u001b[0m\u001b[0;34m.\u001b[0m\u001b[0msetp\u001b[0m\u001b[0;34m(\u001b[0m\u001b[0mbaseline\u001b[0m\u001b[0;34m,\u001b[0m \u001b[0mvisible\u001b[0m\u001b[0;34m=\u001b[0m\u001b[0mview_baseline\u001b[0m\u001b[0;34m,\u001b[0m \u001b[0mcolor\u001b[0m\u001b[0;34m=\u001b[0m\u001b[0;34m\"black\"\u001b[0m\u001b[0;34m)\u001b[0m\u001b[0;34m\u001b[0m\u001b[0;34m\u001b[0m\u001b[0m\n\u001b[1;32m     14\u001b[0m     \u001b[0mplt\u001b[0m\u001b[0;34m.\u001b[0m\u001b[0msetp\u001b[0m\u001b[0;34m(\u001b[0m\u001b[0mmarkerline\u001b[0m\u001b[0;34m,\u001b[0m \u001b[0mcolor\u001b[0m\u001b[0;34m=\u001b[0m\u001b[0;34m\"crimson\"\u001b[0m\u001b[0;34m,\u001b[0m\u001b[0mmarkersize\u001b[0m \u001b[0;34m=\u001b[0m \u001b[0;36m10\u001b[0m\u001b[0;34m)\u001b[0m\u001b[0;34m\u001b[0m\u001b[0;34m\u001b[0m\u001b[0m\n",
      "\u001b[0;32m~/miniconda3/envs/dsp/lib/python3.9/site-packages/matplotlib/pyplot.py\u001b[0m in \u001b[0;36mstem\u001b[0;34m(linefmt, markerfmt, basefmt, bottom, label, use_line_collection, data, *args)\u001b[0m\n\u001b[1;32m   2954\u001b[0m         \u001b[0;34m*\u001b[0m\u001b[0margs\u001b[0m\u001b[0;34m,\u001b[0m \u001b[0mlinefmt\u001b[0m\u001b[0;34m=\u001b[0m\u001b[0;32mNone\u001b[0m\u001b[0;34m,\u001b[0m \u001b[0mmarkerfmt\u001b[0m\u001b[0;34m=\u001b[0m\u001b[0;32mNone\u001b[0m\u001b[0;34m,\u001b[0m \u001b[0mbasefmt\u001b[0m\u001b[0;34m=\u001b[0m\u001b[0;32mNone\u001b[0m\u001b[0;34m,\u001b[0m \u001b[0mbottom\u001b[0m\u001b[0;34m=\u001b[0m\u001b[0;36m0\u001b[0m\u001b[0;34m,\u001b[0m\u001b[0;34m\u001b[0m\u001b[0;34m\u001b[0m\u001b[0m\n\u001b[1;32m   2955\u001b[0m         label=None, use_line_collection=True, data=None):\n\u001b[0;32m-> 2956\u001b[0;31m     return gca().stem(\n\u001b[0m\u001b[1;32m   2957\u001b[0m         \u001b[0;34m*\u001b[0m\u001b[0margs\u001b[0m\u001b[0;34m,\u001b[0m \u001b[0mlinefmt\u001b[0m\u001b[0;34m=\u001b[0m\u001b[0mlinefmt\u001b[0m\u001b[0;34m,\u001b[0m \u001b[0mmarkerfmt\u001b[0m\u001b[0;34m=\u001b[0m\u001b[0mmarkerfmt\u001b[0m\u001b[0;34m,\u001b[0m \u001b[0mbasefmt\u001b[0m\u001b[0;34m=\u001b[0m\u001b[0mbasefmt\u001b[0m\u001b[0;34m,\u001b[0m\u001b[0;34m\u001b[0m\u001b[0;34m\u001b[0m\u001b[0m\n\u001b[1;32m   2958\u001b[0m         \u001b[0mbottom\u001b[0m\u001b[0;34m=\u001b[0m\u001b[0mbottom\u001b[0m\u001b[0;34m,\u001b[0m \u001b[0mlabel\u001b[0m\u001b[0;34m=\u001b[0m\u001b[0mlabel\u001b[0m\u001b[0;34m,\u001b[0m\u001b[0;34m\u001b[0m\u001b[0;34m\u001b[0m\u001b[0m\n",
      "\u001b[0;32m~/miniconda3/envs/dsp/lib/python3.9/site-packages/matplotlib/__init__.py\u001b[0m in \u001b[0;36minner\u001b[0;34m(ax, data, *args, **kwargs)\u001b[0m\n\u001b[1;32m   1436\u001b[0m     \u001b[0;32mdef\u001b[0m \u001b[0minner\u001b[0m\u001b[0;34m(\u001b[0m\u001b[0max\u001b[0m\u001b[0;34m,\u001b[0m \u001b[0;34m*\u001b[0m\u001b[0margs\u001b[0m\u001b[0;34m,\u001b[0m \u001b[0mdata\u001b[0m\u001b[0;34m=\u001b[0m\u001b[0;32mNone\u001b[0m\u001b[0;34m,\u001b[0m \u001b[0;34m**\u001b[0m\u001b[0mkwargs\u001b[0m\u001b[0;34m)\u001b[0m\u001b[0;34m:\u001b[0m\u001b[0;34m\u001b[0m\u001b[0;34m\u001b[0m\u001b[0m\n\u001b[1;32m   1437\u001b[0m         \u001b[0;32mif\u001b[0m \u001b[0mdata\u001b[0m \u001b[0;32mis\u001b[0m \u001b[0;32mNone\u001b[0m\u001b[0;34m:\u001b[0m\u001b[0;34m\u001b[0m\u001b[0;34m\u001b[0m\u001b[0m\n\u001b[0;32m-> 1438\u001b[0;31m             \u001b[0;32mreturn\u001b[0m \u001b[0mfunc\u001b[0m\u001b[0;34m(\u001b[0m\u001b[0max\u001b[0m\u001b[0;34m,\u001b[0m \u001b[0;34m*\u001b[0m\u001b[0mmap\u001b[0m\u001b[0;34m(\u001b[0m\u001b[0msanitize_sequence\u001b[0m\u001b[0;34m,\u001b[0m \u001b[0margs\u001b[0m\u001b[0;34m)\u001b[0m\u001b[0;34m,\u001b[0m \u001b[0;34m**\u001b[0m\u001b[0mkwargs\u001b[0m\u001b[0;34m)\u001b[0m\u001b[0;34m\u001b[0m\u001b[0;34m\u001b[0m\u001b[0m\n\u001b[0m\u001b[1;32m   1439\u001b[0m \u001b[0;34m\u001b[0m\u001b[0m\n\u001b[1;32m   1440\u001b[0m         \u001b[0mbound\u001b[0m \u001b[0;34m=\u001b[0m \u001b[0mnew_sig\u001b[0m\u001b[0;34m.\u001b[0m\u001b[0mbind\u001b[0m\u001b[0;34m(\u001b[0m\u001b[0max\u001b[0m\u001b[0;34m,\u001b[0m \u001b[0;34m*\u001b[0m\u001b[0margs\u001b[0m\u001b[0;34m,\u001b[0m \u001b[0;34m**\u001b[0m\u001b[0mkwargs\u001b[0m\u001b[0;34m)\u001b[0m\u001b[0;34m\u001b[0m\u001b[0;34m\u001b[0m\u001b[0m\n",
      "\u001b[0;32m~/miniconda3/envs/dsp/lib/python3.9/site-packages/matplotlib/axes/_axes.py\u001b[0m in \u001b[0;36mstem\u001b[0;34m(self, linefmt, markerfmt, basefmt, bottom, label, use_line_collection, *args)\u001b[0m\n\u001b[1;32m   2866\u001b[0m                 \u001b[0mstemlines\u001b[0m\u001b[0;34m.\u001b[0m\u001b[0mappend\u001b[0m\u001b[0;34m(\u001b[0m\u001b[0ml\u001b[0m\u001b[0;34m)\u001b[0m\u001b[0;34m\u001b[0m\u001b[0;34m\u001b[0m\u001b[0m\n\u001b[1;32m   2867\u001b[0m \u001b[0;34m\u001b[0m\u001b[0m\n\u001b[0;32m-> 2868\u001b[0;31m         markerline, = self.plot(x, y, color=markercolor, linestyle=markerstyle,\n\u001b[0m\u001b[1;32m   2869\u001b[0m                                 marker=markermarker, label=\"_nolegend_\")\n\u001b[1;32m   2870\u001b[0m \u001b[0;34m\u001b[0m\u001b[0m\n",
      "\u001b[0;32m~/miniconda3/envs/dsp/lib/python3.9/site-packages/matplotlib/axes/_axes.py\u001b[0m in \u001b[0;36mplot\u001b[0;34m(self, scalex, scaley, data, *args, **kwargs)\u001b[0m\n\u001b[1;32m   1741\u001b[0m         \"\"\"\n\u001b[1;32m   1742\u001b[0m         \u001b[0mkwargs\u001b[0m \u001b[0;34m=\u001b[0m \u001b[0mcbook\u001b[0m\u001b[0;34m.\u001b[0m\u001b[0mnormalize_kwargs\u001b[0m\u001b[0;34m(\u001b[0m\u001b[0mkwargs\u001b[0m\u001b[0;34m,\u001b[0m \u001b[0mmlines\u001b[0m\u001b[0;34m.\u001b[0m\u001b[0mLine2D\u001b[0m\u001b[0;34m)\u001b[0m\u001b[0;34m\u001b[0m\u001b[0;34m\u001b[0m\u001b[0m\n\u001b[0;32m-> 1743\u001b[0;31m         \u001b[0mlines\u001b[0m \u001b[0;34m=\u001b[0m \u001b[0;34m[\u001b[0m\u001b[0;34m*\u001b[0m\u001b[0mself\u001b[0m\u001b[0;34m.\u001b[0m\u001b[0m_get_lines\u001b[0m\u001b[0;34m(\u001b[0m\u001b[0;34m*\u001b[0m\u001b[0margs\u001b[0m\u001b[0;34m,\u001b[0m \u001b[0mdata\u001b[0m\u001b[0;34m=\u001b[0m\u001b[0mdata\u001b[0m\u001b[0;34m,\u001b[0m \u001b[0;34m**\u001b[0m\u001b[0mkwargs\u001b[0m\u001b[0;34m)\u001b[0m\u001b[0;34m]\u001b[0m\u001b[0;34m\u001b[0m\u001b[0;34m\u001b[0m\u001b[0m\n\u001b[0m\u001b[1;32m   1744\u001b[0m         \u001b[0;32mfor\u001b[0m \u001b[0mline\u001b[0m \u001b[0;32min\u001b[0m \u001b[0mlines\u001b[0m\u001b[0;34m:\u001b[0m\u001b[0;34m\u001b[0m\u001b[0;34m\u001b[0m\u001b[0m\n\u001b[1;32m   1745\u001b[0m             \u001b[0mself\u001b[0m\u001b[0;34m.\u001b[0m\u001b[0madd_line\u001b[0m\u001b[0;34m(\u001b[0m\u001b[0mline\u001b[0m\u001b[0;34m)\u001b[0m\u001b[0;34m\u001b[0m\u001b[0;34m\u001b[0m\u001b[0m\n",
      "\u001b[0;32m~/miniconda3/envs/dsp/lib/python3.9/site-packages/matplotlib/axes/_base.py\u001b[0m in \u001b[0;36m__call__\u001b[0;34m(self, data, *args, **kwargs)\u001b[0m\n\u001b[1;32m    271\u001b[0m                 \u001b[0mthis\u001b[0m \u001b[0;34m+=\u001b[0m \u001b[0margs\u001b[0m\u001b[0;34m[\u001b[0m\u001b[0;36m0\u001b[0m\u001b[0;34m]\u001b[0m\u001b[0;34m,\u001b[0m\u001b[0;34m\u001b[0m\u001b[0;34m\u001b[0m\u001b[0m\n\u001b[1;32m    272\u001b[0m                 \u001b[0margs\u001b[0m \u001b[0;34m=\u001b[0m \u001b[0margs\u001b[0m\u001b[0;34m[\u001b[0m\u001b[0;36m1\u001b[0m\u001b[0;34m:\u001b[0m\u001b[0;34m]\u001b[0m\u001b[0;34m\u001b[0m\u001b[0;34m\u001b[0m\u001b[0m\n\u001b[0;32m--> 273\u001b[0;31m             \u001b[0;32myield\u001b[0m \u001b[0;32mfrom\u001b[0m \u001b[0mself\u001b[0m\u001b[0;34m.\u001b[0m\u001b[0m_plot_args\u001b[0m\u001b[0;34m(\u001b[0m\u001b[0mthis\u001b[0m\u001b[0;34m,\u001b[0m \u001b[0mkwargs\u001b[0m\u001b[0;34m)\u001b[0m\u001b[0;34m\u001b[0m\u001b[0;34m\u001b[0m\u001b[0m\n\u001b[0m\u001b[1;32m    274\u001b[0m \u001b[0;34m\u001b[0m\u001b[0m\n\u001b[1;32m    275\u001b[0m     \u001b[0;32mdef\u001b[0m \u001b[0mget_next_color\u001b[0m\u001b[0;34m(\u001b[0m\u001b[0mself\u001b[0m\u001b[0;34m)\u001b[0m\u001b[0;34m:\u001b[0m\u001b[0;34m\u001b[0m\u001b[0;34m\u001b[0m\u001b[0m\n",
      "\u001b[0;32m~/miniconda3/envs/dsp/lib/python3.9/site-packages/matplotlib/axes/_base.py\u001b[0m in \u001b[0;36m_plot_args\u001b[0;34m(self, tup, kwargs)\u001b[0m\n\u001b[1;32m    397\u001b[0m \u001b[0;34m\u001b[0m\u001b[0m\n\u001b[1;32m    398\u001b[0m         \u001b[0;32mif\u001b[0m \u001b[0mx\u001b[0m\u001b[0;34m.\u001b[0m\u001b[0mshape\u001b[0m\u001b[0;34m[\u001b[0m\u001b[0;36m0\u001b[0m\u001b[0;34m]\u001b[0m \u001b[0;34m!=\u001b[0m \u001b[0my\u001b[0m\u001b[0;34m.\u001b[0m\u001b[0mshape\u001b[0m\u001b[0;34m[\u001b[0m\u001b[0;36m0\u001b[0m\u001b[0;34m]\u001b[0m\u001b[0;34m:\u001b[0m\u001b[0;34m\u001b[0m\u001b[0;34m\u001b[0m\u001b[0m\n\u001b[0;32m--> 399\u001b[0;31m             raise ValueError(f\"x and y must have same first dimension, but \"\n\u001b[0m\u001b[1;32m    400\u001b[0m                              f\"have shapes {x.shape} and {y.shape}\")\n\u001b[1;32m    401\u001b[0m         \u001b[0;32mif\u001b[0m \u001b[0mx\u001b[0m\u001b[0;34m.\u001b[0m\u001b[0mndim\u001b[0m \u001b[0;34m>\u001b[0m \u001b[0;36m2\u001b[0m \u001b[0;32mor\u001b[0m \u001b[0my\u001b[0m\u001b[0;34m.\u001b[0m\u001b[0mndim\u001b[0m \u001b[0;34m>\u001b[0m \u001b[0;36m2\u001b[0m\u001b[0;34m:\u001b[0m\u001b[0;34m\u001b[0m\u001b[0;34m\u001b[0m\u001b[0m\n",
      "\u001b[0;31mValueError\u001b[0m: x and y must have same first dimension, but have shapes (100,) and (199,)"
     ]
    },
    {
     "data": {
      "image/png": "[encoded data removed]",
      "text/plain": [
       "<Figure size 1008x288 with 1 Axes>"
      ]
     },
     "metadata": {
      "needs_background": "light"
     },
     "output_type": "display_data"
    }
   ],
   "source": [
    "#Implementación del ejercicio 4\n",
    "corr_arriba=signal.correlate(radar,signal_arriba)\n",
    "corr_arriba/=np.max(corr_arriba)\n",
    "lags_arriba=signal.correlation_lags(len(radar),len(signal_arriba))\n",
    "plot_stem(radar,corr_arriba)\n",
    "print(lags_arriba)\n",
    "\n"
   ]
  },
  {
   "cell_type": "markdown",
   "id": "bd4cb212",
   "metadata": {},
   "source": [
    "##  Ejercicio 5\n",
    "Considerando la interconexión de sistemas LTI mostrado en la figura:\n",
    "* **Obtén la respuesta impulso global h[n]** en función de $h_1[n]$, $h_2[n]$, $h_3[n]$ y $h_4[n]$. \n",
    "\n",
    "  +  $ h_1[n] = \\left \\{ \\begin{matrix} \\frac{1}{2}, & n=0\n",
    "  \\\\ \\frac{1}{4}, & n=1\n",
    "  \\\\ \\frac{1}{2}, & n=2\n",
    "\\\\ 0, & en~otro~caso\\end{matrix}\\right.$ \n",
    "<br>\n",
    "  + $ h_2[n]=h_3[n]=(n+1)u[n]$\n",
    "\n",
    "  + $h_4[n]=\\delta[n-2]$\n",
    "  \n",
    "  \n",
    "* **Obtén la salida del sistema mediante convolución** para la señal (y[n]=x[n]*h[n])\n",
    "\n",
    "    * $ x[n]=\\delta[n+2]+3\\delta[n-1]-4\\delta[n-3],~~~~~0<=n<10$ \n",
    "\n",
    "  \n",
    "\n",
    "\n",
    "**Notas**\n",
    "\n",
    "* Para la creación de las señales podés utilizar el rango: $0<=n<10$ \n",
    "\n",
    "* Para realizar este ejercicio es necesario tener en cuenta las <b>propiedades de interconexión de los sistemas LTI</b>\n",
    "\n",
    "\n",
    "\n",
    "![Esquema interconexión de sistemas LTI](interconexion_individual.png)"
   ]
  },
  {
   "cell_type": "code",
   "execution_count": 56,
   "id": "4db352c9",
   "metadata": {},
   "outputs": [
    {
     "data": {
      "image/png": "[encoded data removed]",
      "text/plain": [
       "<Figure size 1008x288 with 1 Axes>"
      ]
     },
     "metadata": {
      "needs_background": "light"
     },
     "output_type": "display_data"
    }
   ],
   "source": [
    "# Implementación del ejercicio 5\n",
    "def h1_signal(muestras):\n",
    "    señal=[]\n",
    "    for i in muestras:\n",
    "        if i==0:\n",
    "            señal.append(1/2)\n",
    "        elif i==1:\n",
    "            señal.append(1/4)\n",
    "        elif i==2:\n",
    "            señal.append(1/2)\n",
    "        else:\n",
    "            señal.append(0)\n",
    "    return señal\n",
    "\n",
    "def h2_h3_signal(muestras):\n",
    "    return (muestras+1)*escalon_unitario(muestras)\n",
    "def h4_signal(muestras):\n",
    "    return impulso_unitario(muestras-2)\n",
    "muestras=np.arange(0,11,1)\n",
    "h1=h1_signal(muestras)\n",
    "h2=h3=h2_h3_signal(muestras)\n",
    "h4=h4_signal(muestras)\n",
    "\n",
    "y=(h1*h2)+(h1*h3*h4)\n",
    "plot_stem(muestras,y)"
   ]
  },
  {
   "cell_type": "markdown",
   "id": "14c12d7d",
   "metadata": {},
   "source": [
    "## Ejercicio 6\n",
    "\n",
    "Analiza en el dominio de la frecuencia la siguiente señal continua y aperiódica:\n",
    "\n",
    "$\\Large x(t)=-2e^{3t}u(-t)$\n",
    "\n",
    "\n",
    "![imagen_exp_neg](exp_neg.png)\n",
    "\n",
    "\n",
    "\n",
    "\n",
    "\n",
    "* Valida la relación de Parseval (dominio del tiempo y de la frecuencia)\n",
    "* Calcula y visualiza el espectro de módulo en el intervalo (-5,5)\n",
    "* Calcula y visualiza el espectro de fase en el intervalo (-5,5)\n",
    "\n",
    "\n",
    "\n",
    "\n",
    "**Notas importantes**\n",
    "\n",
    "* Recordad que para emplear la función escalón con sympy tenéis que usar la función **sympy.Heaviside()**\n",
    "\n",
    "* El problema no dice expresamente que tipo de análisis de Fourier tenéis que emplear pero lo tenéis que sacar sin problema por la información proporcionada\n",
    "\n",
    "* Recordad que la información para construir los espectros se saca de analizar el resultado en el dominio de la frecuencia\n",
    "\n",
    "* Si no se resuelve correctamente la expresión de sympy suele ser por que la declaración alguna variable simbólica requiere de algun atributo (ej. nonzero=True, real=True, etc)\n",
    "\n",
    "* Si no es posible calcular/visualizar algún espectro o tiene alguna característica que lo dificulte podéis usar un <code> print</code> con la explicación que querais dar.\n",
    "\n"
   ]
  },
  {
   "cell_type": "code",
   "execution_count": 49,
   "id": "4c929c73",
   "metadata": {},
   "outputs": [
    {
     "data": {
      "text/latex": [
       "$\\displaystyle \\frac{2}{3}$"
      ],
      "text/plain": [
       "2/3"
      ]
     },
     "metadata": {},
     "output_type": "display_data"
    },
    {
     "data": {
      "text/latex": [
       "$\\displaystyle \\frac{2}{3}$"
      ],
      "text/plain": [
       "2/3"
      ]
     },
     "metadata": {},
     "output_type": "display_data"
    },
    {
     "data": {
      "text/latex": [
       "$\\displaystyle \\frac{2}{2 i \\pi F - 3}$"
      ],
      "text/plain": [
       "2/(2*I*pi*F - 3)"
      ]
     },
     "metadata": {},
     "output_type": "display_data"
    },
    {
     "ename": "AttributeError",
     "evalue": "'ImmutableDenseNDimArray' object has no attribute 'as_coefficient'",
     "output_type": "error",
     "traceback": [
      "\u001b[0;31m---------------------------------------------------------------------------\u001b[0m",
      "\u001b[0;31mTypeError\u001b[0m                                 Traceback (most recent call last)",
      "\u001b[0;32m~/miniconda3/envs/dsp/lib/python3.9/site-packages/sympy/core/cache.py\u001b[0m in \u001b[0;36mwrapper\u001b[0;34m(*args, **kwargs)\u001b[0m\n\u001b[1;32m     71\u001b[0m             \u001b[0;32mtry\u001b[0m\u001b[0;34m:\u001b[0m\u001b[0;34m\u001b[0m\u001b[0;34m\u001b[0m\u001b[0m\n\u001b[0;32m---> 72\u001b[0;31m                 \u001b[0mretval\u001b[0m \u001b[0;34m=\u001b[0m \u001b[0mcfunc\u001b[0m\u001b[0;34m(\u001b[0m\u001b[0;34m*\u001b[0m\u001b[0margs\u001b[0m\u001b[0;34m,\u001b[0m \u001b[0;34m**\u001b[0m\u001b[0mkwargs\u001b[0m\u001b[0;34m)\u001b[0m\u001b[0;34m\u001b[0m\u001b[0;34m\u001b[0m\u001b[0m\n\u001b[0m\u001b[1;32m     73\u001b[0m             \u001b[0;32mexcept\u001b[0m \u001b[0mTypeError\u001b[0m\u001b[0;34m:\u001b[0m\u001b[0;34m\u001b[0m\u001b[0;34m\u001b[0m\u001b[0m\n",
      "\u001b[0;31mTypeError\u001b[0m: unhashable type: 'numpy.ndarray'",
      "\nDuring handling of the above exception, another exception occurred:\n",
      "\u001b[0;31mTypeError\u001b[0m                                 Traceback (most recent call last)",
      "\u001b[0;32m~/miniconda3/envs/dsp/lib/python3.9/site-packages/sympy/core/cache.py\u001b[0m in \u001b[0;36mwrapper\u001b[0;34m(*args, **kwargs)\u001b[0m\n\u001b[1;32m     71\u001b[0m             \u001b[0;32mtry\u001b[0m\u001b[0;34m:\u001b[0m\u001b[0;34m\u001b[0m\u001b[0;34m\u001b[0m\u001b[0m\n\u001b[0;32m---> 72\u001b[0;31m                 \u001b[0mretval\u001b[0m \u001b[0;34m=\u001b[0m \u001b[0mcfunc\u001b[0m\u001b[0;34m(\u001b[0m\u001b[0;34m*\u001b[0m\u001b[0margs\u001b[0m\u001b[0;34m,\u001b[0m \u001b[0;34m**\u001b[0m\u001b[0mkwargs\u001b[0m\u001b[0;34m)\u001b[0m\u001b[0;34m\u001b[0m\u001b[0;34m\u001b[0m\u001b[0m\n\u001b[0m\u001b[1;32m     73\u001b[0m             \u001b[0;32mexcept\u001b[0m \u001b[0mTypeError\u001b[0m\u001b[0;34m:\u001b[0m\u001b[0;34m\u001b[0m\u001b[0;34m\u001b[0m\u001b[0m\n",
      "\u001b[0;31mTypeError\u001b[0m: unhashable type: 'numpy.ndarray'",
      "\nDuring handling of the above exception, another exception occurred:\n",
      "\u001b[0;31mAttributeError\u001b[0m                            Traceback (most recent call last)",
      "\u001b[0;32m<ipython-input-49-87c5cd412a7d>\u001b[0m in \u001b[0;36m<module>\u001b[0;34m\u001b[0m\n\u001b[1;32m     12\u001b[0m \u001b[0mdisplay\u001b[0m\u001b[0;34m(\u001b[0m\u001b[0mft\u001b[0m\u001b[0;34m)\u001b[0m\u001b[0;34m\u001b[0m\u001b[0;34m\u001b[0m\u001b[0m\n\u001b[1;32m     13\u001b[0m \u001b[0mmuestras\u001b[0m\u001b[0;34m=\u001b[0m\u001b[0mnp\u001b[0m\u001b[0;34m.\u001b[0m\u001b[0marange\u001b[0m\u001b[0;34m(\u001b[0m\u001b[0;34m-\u001b[0m\u001b[0;36m5\u001b[0m\u001b[0;34m,\u001b[0m\u001b[0;36m6\u001b[0m\u001b[0;34m,\u001b[0m\u001b[0;36m1\u001b[0m\u001b[0;34m)\u001b[0m\u001b[0;34m\u001b[0m\u001b[0;34m\u001b[0m\u001b[0m\n\u001b[0;32m---> 14\u001b[0;31m \u001b[0mf\u001b[0m\u001b[0;34m=\u001b[0m\u001b[0mnp\u001b[0m\u001b[0;34m.\u001b[0m\u001b[0mfft\u001b[0m\u001b[0;34m.\u001b[0m\u001b[0mfft\u001b[0m\u001b[0;34m(\u001b[0m\u001b[0msignal\u001b[0m\u001b[0;34m(\u001b[0m\u001b[0mmuestras\u001b[0m\u001b[0;34m)\u001b[0m\u001b[0;34m)\u001b[0m\u001b[0;34m\u001b[0m\u001b[0;34m\u001b[0m\u001b[0m\n\u001b[0m\u001b[1;32m     15\u001b[0m \u001b[0mesp_mod\u001b[0m\u001b[0;34m=\u001b[0m\u001b[0mabs\u001b[0m\u001b[0;34m(\u001b[0m\u001b[0mf\u001b[0m\u001b[0;34m)\u001b[0m\u001b[0;34m\u001b[0m\u001b[0;34m\u001b[0m\u001b[0m\n\u001b[1;32m     16\u001b[0m \u001b[0mesp_fas\u001b[0m\u001b[0;34m=\u001b[0m\u001b[0mfase\u001b[0m\u001b[0;34m(\u001b[0m\u001b[0mf\u001b[0m\u001b[0;34m)\u001b[0m\u001b[0;34m\u001b[0m\u001b[0;34m\u001b[0m\u001b[0m\n",
      "\u001b[0;32m<ipython-input-49-87c5cd412a7d>\u001b[0m in \u001b[0;36msignal\u001b[0;34m(t)\u001b[0m\n\u001b[1;32m      1\u001b[0m \u001b[0;31m# Implementación del ejercicio 6\u001b[0m\u001b[0;34m\u001b[0m\u001b[0;34m\u001b[0m\u001b[0;34m\u001b[0m\u001b[0m\n\u001b[1;32m      2\u001b[0m \u001b[0;32mdef\u001b[0m \u001b[0msignal\u001b[0m\u001b[0;34m(\u001b[0m\u001b[0mt\u001b[0m\u001b[0;34m)\u001b[0m\u001b[0;34m:\u001b[0m\u001b[0;34m\u001b[0m\u001b[0;34m\u001b[0m\u001b[0m\n\u001b[0;32m----> 3\u001b[0;31m     \u001b[0;32mreturn\u001b[0m \u001b[0;34m-\u001b[0m\u001b[0;36m2\u001b[0m\u001b[0;34m*\u001b[0m\u001b[0msp\u001b[0m\u001b[0;34m.\u001b[0m\u001b[0mexp\u001b[0m\u001b[0;34m(\u001b[0m\u001b[0;36m3\u001b[0m\u001b[0;34m*\u001b[0m\u001b[0mt\u001b[0m\u001b[0;34m)\u001b[0m\u001b[0;34m*\u001b[0m\u001b[0msp\u001b[0m\u001b[0;34m.\u001b[0m\u001b[0mHeaviside\u001b[0m\u001b[0;34m(\u001b[0m\u001b[0;34m-\u001b[0m\u001b[0mt\u001b[0m\u001b[0;34m)\u001b[0m\u001b[0;34m\u001b[0m\u001b[0;34m\u001b[0m\u001b[0m\n\u001b[0m\u001b[1;32m      4\u001b[0m \u001b[0;32mdef\u001b[0m \u001b[0mfase\u001b[0m\u001b[0;34m(\u001b[0m\u001b[0mx\u001b[0m\u001b[0;34m)\u001b[0m\u001b[0;34m:\u001b[0m\u001b[0;34m\u001b[0m\u001b[0;34m\u001b[0m\u001b[0m\n\u001b[1;32m      5\u001b[0m     \u001b[0;32mreturn\u001b[0m \u001b[0;34m[\u001b[0m\u001b[0mnp\u001b[0m\u001b[0;34m.\u001b[0m\u001b[0marctan\u001b[0m\u001b[0;34m(\u001b[0m\u001b[0mb\u001b[0m\u001b[0;34m/\u001b[0m\u001b[0ma\u001b[0m\u001b[0;34m)\u001b[0m \u001b[0;32mfor\u001b[0m \u001b[0ma\u001b[0m\u001b[0;34m,\u001b[0m\u001b[0mb\u001b[0m \u001b[0;32min\u001b[0m \u001b[0mzip\u001b[0m\u001b[0;34m(\u001b[0m\u001b[0mx\u001b[0m\u001b[0;34m.\u001b[0m\u001b[0mreal\u001b[0m\u001b[0;34m,\u001b[0m\u001b[0mx\u001b[0m\u001b[0;34m.\u001b[0m\u001b[0mimag\u001b[0m\u001b[0;34m)\u001b[0m\u001b[0;34m]\u001b[0m\u001b[0;34m\u001b[0m\u001b[0;34m\u001b[0m\u001b[0m\n",
      "\u001b[0;32m~/miniconda3/envs/dsp/lib/python3.9/site-packages/sympy/functions/special/delta_functions.py\u001b[0m in \u001b[0;36m__new__\u001b[0;34m(cls, arg, H0, **options)\u001b[0m\n\u001b[1;32m    498\u001b[0m \u001b[0;34m\u001b[0m\u001b[0m\n\u001b[1;32m    499\u001b[0m         \u001b[0;32mif\u001b[0m \u001b[0mH0\u001b[0m \u001b[0;32mis\u001b[0m \u001b[0;32mNone\u001b[0m\u001b[0;34m:\u001b[0m\u001b[0;34m\u001b[0m\u001b[0;34m\u001b[0m\u001b[0m\n\u001b[0;32m--> 500\u001b[0;31m             \u001b[0;32mreturn\u001b[0m \u001b[0msuper\u001b[0m\u001b[0;34m(\u001b[0m\u001b[0mcls\u001b[0m\u001b[0;34m,\u001b[0m \u001b[0mcls\u001b[0m\u001b[0;34m)\u001b[0m\u001b[0;34m.\u001b[0m\u001b[0m__new__\u001b[0m\u001b[0;34m(\u001b[0m\u001b[0mcls\u001b[0m\u001b[0;34m,\u001b[0m \u001b[0marg\u001b[0m\u001b[0;34m,\u001b[0m \u001b[0;34m**\u001b[0m\u001b[0moptions\u001b[0m\u001b[0;34m)\u001b[0m\u001b[0;34m\u001b[0m\u001b[0;34m\u001b[0m\u001b[0m\n\u001b[0m\u001b[1;32m    501\u001b[0m         \u001b[0;32mreturn\u001b[0m \u001b[0msuper\u001b[0m\u001b[0;34m(\u001b[0m\u001b[0mcls\u001b[0m\u001b[0;34m,\u001b[0m \u001b[0mcls\u001b[0m\u001b[0;34m)\u001b[0m\u001b[0;34m.\u001b[0m\u001b[0m__new__\u001b[0m\u001b[0;34m(\u001b[0m\u001b[0mcls\u001b[0m\u001b[0;34m,\u001b[0m \u001b[0marg\u001b[0m\u001b[0;34m,\u001b[0m \u001b[0mH0\u001b[0m\u001b[0;34m,\u001b[0m \u001b[0;34m**\u001b[0m\u001b[0moptions\u001b[0m\u001b[0;34m)\u001b[0m\u001b[0;34m\u001b[0m\u001b[0;34m\u001b[0m\u001b[0m\n\u001b[1;32m    502\u001b[0m \u001b[0;34m\u001b[0m\u001b[0m\n",
      "\u001b[0;32m~/miniconda3/envs/dsp/lib/python3.9/site-packages/sympy/core/cache.py\u001b[0m in \u001b[0;36mwrapper\u001b[0;34m(*args, **kwargs)\u001b[0m\n\u001b[1;32m     72\u001b[0m                 \u001b[0mretval\u001b[0m \u001b[0;34m=\u001b[0m \u001b[0mcfunc\u001b[0m\u001b[0;34m(\u001b[0m\u001b[0;34m*\u001b[0m\u001b[0margs\u001b[0m\u001b[0;34m,\u001b[0m \u001b[0;34m**\u001b[0m\u001b[0mkwargs\u001b[0m\u001b[0;34m)\u001b[0m\u001b[0;34m\u001b[0m\u001b[0;34m\u001b[0m\u001b[0m\n\u001b[1;32m     73\u001b[0m             \u001b[0;32mexcept\u001b[0m \u001b[0mTypeError\u001b[0m\u001b[0;34m:\u001b[0m\u001b[0;34m\u001b[0m\u001b[0;34m\u001b[0m\u001b[0m\n\u001b[0;32m---> 74\u001b[0;31m                 \u001b[0mretval\u001b[0m \u001b[0;34m=\u001b[0m \u001b[0mfunc\u001b[0m\u001b[0;34m(\u001b[0m\u001b[0;34m*\u001b[0m\u001b[0margs\u001b[0m\u001b[0;34m,\u001b[0m \u001b[0;34m**\u001b[0m\u001b[0mkwargs\u001b[0m\u001b[0;34m)\u001b[0m\u001b[0;34m\u001b[0m\u001b[0;34m\u001b[0m\u001b[0m\n\u001b[0m\u001b[1;32m     75\u001b[0m             \u001b[0;32mreturn\u001b[0m \u001b[0mretval\u001b[0m\u001b[0;34m\u001b[0m\u001b[0;34m\u001b[0m\u001b[0m\n\u001b[1;32m     76\u001b[0m \u001b[0;34m\u001b[0m\u001b[0m\n",
      "\u001b[0;32m~/miniconda3/envs/dsp/lib/python3.9/site-packages/sympy/core/function.py\u001b[0m in \u001b[0;36m__new__\u001b[0;34m(cls, *args, **options)\u001b[0m\n\u001b[1;32m    471\u001b[0m \u001b[0;34m\u001b[0m\u001b[0m\n\u001b[1;32m    472\u001b[0m         \u001b[0mevaluate\u001b[0m \u001b[0;34m=\u001b[0m \u001b[0moptions\u001b[0m\u001b[0;34m.\u001b[0m\u001b[0mget\u001b[0m\u001b[0;34m(\u001b[0m\u001b[0;34m'evaluate'\u001b[0m\u001b[0;34m,\u001b[0m \u001b[0mglobal_parameters\u001b[0m\u001b[0;34m.\u001b[0m\u001b[0mevaluate\u001b[0m\u001b[0;34m)\u001b[0m\u001b[0;34m\u001b[0m\u001b[0;34m\u001b[0m\u001b[0m\n\u001b[0;32m--> 473\u001b[0;31m         \u001b[0mresult\u001b[0m \u001b[0;34m=\u001b[0m \u001b[0msuper\u001b[0m\u001b[0;34m(\u001b[0m\u001b[0;34m)\u001b[0m\u001b[0;34m.\u001b[0m\u001b[0m__new__\u001b[0m\u001b[0;34m(\u001b[0m\u001b[0mcls\u001b[0m\u001b[0;34m,\u001b[0m \u001b[0;34m*\u001b[0m\u001b[0margs\u001b[0m\u001b[0;34m,\u001b[0m \u001b[0;34m**\u001b[0m\u001b[0moptions\u001b[0m\u001b[0;34m)\u001b[0m\u001b[0;34m\u001b[0m\u001b[0;34m\u001b[0m\u001b[0m\n\u001b[0m\u001b[1;32m    474\u001b[0m         \u001b[0;32mif\u001b[0m \u001b[0mevaluate\u001b[0m \u001b[0;32mand\u001b[0m \u001b[0misinstance\u001b[0m\u001b[0;34m(\u001b[0m\u001b[0mresult\u001b[0m\u001b[0;34m,\u001b[0m \u001b[0mcls\u001b[0m\u001b[0;34m)\u001b[0m \u001b[0;32mand\u001b[0m \u001b[0mresult\u001b[0m\u001b[0;34m.\u001b[0m\u001b[0margs\u001b[0m\u001b[0;34m:\u001b[0m\u001b[0;34m\u001b[0m\u001b[0;34m\u001b[0m\u001b[0m\n\u001b[1;32m    475\u001b[0m             \u001b[0mpr2\u001b[0m \u001b[0;34m=\u001b[0m \u001b[0mmin\u001b[0m\u001b[0;34m(\u001b[0m\u001b[0mcls\u001b[0m\u001b[0;34m.\u001b[0m\u001b[0m_should_evalf\u001b[0m\u001b[0;34m(\u001b[0m\u001b[0ma\u001b[0m\u001b[0;34m)\u001b[0m \u001b[0;32mfor\u001b[0m \u001b[0ma\u001b[0m \u001b[0;32min\u001b[0m \u001b[0mresult\u001b[0m\u001b[0;34m.\u001b[0m\u001b[0margs\u001b[0m\u001b[0;34m)\u001b[0m\u001b[0;34m\u001b[0m\u001b[0;34m\u001b[0m\u001b[0m\n",
      "\u001b[0;32m~/miniconda3/envs/dsp/lib/python3.9/site-packages/sympy/core/cache.py\u001b[0m in \u001b[0;36mwrapper\u001b[0;34m(*args, **kwargs)\u001b[0m\n\u001b[1;32m     72\u001b[0m                 \u001b[0mretval\u001b[0m \u001b[0;34m=\u001b[0m \u001b[0mcfunc\u001b[0m\u001b[0;34m(\u001b[0m\u001b[0;34m*\u001b[0m\u001b[0margs\u001b[0m\u001b[0;34m,\u001b[0m \u001b[0;34m**\u001b[0m\u001b[0mkwargs\u001b[0m\u001b[0;34m)\u001b[0m\u001b[0;34m\u001b[0m\u001b[0;34m\u001b[0m\u001b[0m\n\u001b[1;32m     73\u001b[0m             \u001b[0;32mexcept\u001b[0m \u001b[0mTypeError\u001b[0m\u001b[0;34m:\u001b[0m\u001b[0;34m\u001b[0m\u001b[0;34m\u001b[0m\u001b[0m\n\u001b[0;32m---> 74\u001b[0;31m                 \u001b[0mretval\u001b[0m \u001b[0;34m=\u001b[0m \u001b[0mfunc\u001b[0m\u001b[0;34m(\u001b[0m\u001b[0;34m*\u001b[0m\u001b[0margs\u001b[0m\u001b[0;34m,\u001b[0m \u001b[0;34m**\u001b[0m\u001b[0mkwargs\u001b[0m\u001b[0;34m)\u001b[0m\u001b[0;34m\u001b[0m\u001b[0;34m\u001b[0m\u001b[0m\n\u001b[0m\u001b[1;32m     75\u001b[0m             \u001b[0;32mreturn\u001b[0m \u001b[0mretval\u001b[0m\u001b[0;34m\u001b[0m\u001b[0;34m\u001b[0m\u001b[0m\n\u001b[1;32m     76\u001b[0m \u001b[0;34m\u001b[0m\u001b[0m\n",
      "\u001b[0;32m~/miniconda3/envs/dsp/lib/python3.9/site-packages/sympy/core/function.py\u001b[0m in \u001b[0;36m__new__\u001b[0;34m(cls, *args, **options)\u001b[0m\n\u001b[1;32m    283\u001b[0m \u001b[0;34m\u001b[0m\u001b[0m\n\u001b[1;32m    284\u001b[0m         \u001b[0;32mif\u001b[0m \u001b[0mevaluate\u001b[0m\u001b[0;34m:\u001b[0m\u001b[0;34m\u001b[0m\u001b[0;34m\u001b[0m\u001b[0m\n\u001b[0;32m--> 285\u001b[0;31m             \u001b[0mevaluated\u001b[0m \u001b[0;34m=\u001b[0m \u001b[0mcls\u001b[0m\u001b[0;34m.\u001b[0m\u001b[0meval\u001b[0m\u001b[0;34m(\u001b[0m\u001b[0;34m*\u001b[0m\u001b[0margs\u001b[0m\u001b[0;34m)\u001b[0m\u001b[0;34m\u001b[0m\u001b[0;34m\u001b[0m\u001b[0m\n\u001b[0m\u001b[1;32m    286\u001b[0m             \u001b[0;32mif\u001b[0m \u001b[0mevaluated\u001b[0m \u001b[0;32mis\u001b[0m \u001b[0;32mnot\u001b[0m \u001b[0;32mNone\u001b[0m\u001b[0;34m:\u001b[0m\u001b[0;34m\u001b[0m\u001b[0;34m\u001b[0m\u001b[0m\n\u001b[1;32m    287\u001b[0m                 \u001b[0;32mreturn\u001b[0m \u001b[0mevaluated\u001b[0m\u001b[0;34m\u001b[0m\u001b[0;34m\u001b[0m\u001b[0m\n",
      "\u001b[0;32m~/miniconda3/envs/dsp/lib/python3.9/site-packages/sympy/functions/special/delta_functions.py\u001b[0m in \u001b[0;36meval\u001b[0;34m(cls, arg, H0)\u001b[0m\n\u001b[1;32m    566\u001b[0m         \u001b[0;32melif\u001b[0m \u001b[0marg\u001b[0m \u001b[0;32mis\u001b[0m \u001b[0mS\u001b[0m\u001b[0;34m.\u001b[0m\u001b[0mNaN\u001b[0m\u001b[0;34m:\u001b[0m\u001b[0;34m\u001b[0m\u001b[0;34m\u001b[0m\u001b[0m\n\u001b[1;32m    567\u001b[0m             \u001b[0;32mreturn\u001b[0m \u001b[0mS\u001b[0m\u001b[0;34m.\u001b[0m\u001b[0mNaN\u001b[0m\u001b[0;34m\u001b[0m\u001b[0;34m\u001b[0m\u001b[0m\n\u001b[0;32m--> 568\u001b[0;31m         \u001b[0;32melif\u001b[0m \u001b[0mfuzzy_not\u001b[0m\u001b[0;34m(\u001b[0m\u001b[0mim\u001b[0m\u001b[0;34m(\u001b[0m\u001b[0marg\u001b[0m\u001b[0;34m)\u001b[0m\u001b[0;34m.\u001b[0m\u001b[0mis_zero\u001b[0m\u001b[0;34m)\u001b[0m\u001b[0;34m:\u001b[0m\u001b[0;34m\u001b[0m\u001b[0;34m\u001b[0m\u001b[0m\n\u001b[0m\u001b[1;32m    569\u001b[0m             \u001b[0;32mraise\u001b[0m \u001b[0mValueError\u001b[0m\u001b[0;34m(\u001b[0m\u001b[0;34m\"Function defined only for Real Values. Complex part: %s  found in %s .\"\u001b[0m \u001b[0;34m%\u001b[0m \u001b[0;34m(\u001b[0m\u001b[0mrepr\u001b[0m\u001b[0;34m(\u001b[0m\u001b[0mim\u001b[0m\u001b[0;34m(\u001b[0m\u001b[0marg\u001b[0m\u001b[0;34m)\u001b[0m\u001b[0;34m)\u001b[0m\u001b[0;34m,\u001b[0m \u001b[0mrepr\u001b[0m\u001b[0;34m(\u001b[0m\u001b[0marg\u001b[0m\u001b[0;34m)\u001b[0m\u001b[0;34m)\u001b[0m \u001b[0;34m)\u001b[0m\u001b[0;34m\u001b[0m\u001b[0;34m\u001b[0m\u001b[0m\n\u001b[1;32m    570\u001b[0m \u001b[0;34m\u001b[0m\u001b[0m\n",
      "\u001b[0;32m~/miniconda3/envs/dsp/lib/python3.9/site-packages/sympy/core/cache.py\u001b[0m in \u001b[0;36mwrapper\u001b[0;34m(*args, **kwargs)\u001b[0m\n\u001b[1;32m     70\u001b[0m         \u001b[0;32mdef\u001b[0m \u001b[0mwrapper\u001b[0m\u001b[0;34m(\u001b[0m\u001b[0;34m*\u001b[0m\u001b[0margs\u001b[0m\u001b[0;34m,\u001b[0m \u001b[0;34m**\u001b[0m\u001b[0mkwargs\u001b[0m\u001b[0;34m)\u001b[0m\u001b[0;34m:\u001b[0m\u001b[0;34m\u001b[0m\u001b[0;34m\u001b[0m\u001b[0m\n\u001b[1;32m     71\u001b[0m             \u001b[0;32mtry\u001b[0m\u001b[0;34m:\u001b[0m\u001b[0;34m\u001b[0m\u001b[0;34m\u001b[0m\u001b[0m\n\u001b[0;32m---> 72\u001b[0;31m                 \u001b[0mretval\u001b[0m \u001b[0;34m=\u001b[0m \u001b[0mcfunc\u001b[0m\u001b[0;34m(\u001b[0m\u001b[0;34m*\u001b[0m\u001b[0margs\u001b[0m\u001b[0;34m,\u001b[0m \u001b[0;34m**\u001b[0m\u001b[0mkwargs\u001b[0m\u001b[0;34m)\u001b[0m\u001b[0;34m\u001b[0m\u001b[0;34m\u001b[0m\u001b[0m\n\u001b[0m\u001b[1;32m     73\u001b[0m             \u001b[0;32mexcept\u001b[0m \u001b[0mTypeError\u001b[0m\u001b[0;34m:\u001b[0m\u001b[0;34m\u001b[0m\u001b[0;34m\u001b[0m\u001b[0m\n\u001b[1;32m     74\u001b[0m                 \u001b[0mretval\u001b[0m \u001b[0;34m=\u001b[0m \u001b[0mfunc\u001b[0m\u001b[0;34m(\u001b[0m\u001b[0;34m*\u001b[0m\u001b[0margs\u001b[0m\u001b[0;34m,\u001b[0m \u001b[0;34m**\u001b[0m\u001b[0mkwargs\u001b[0m\u001b[0;34m)\u001b[0m\u001b[0;34m\u001b[0m\u001b[0;34m\u001b[0m\u001b[0m\n",
      "\u001b[0;32m~/miniconda3/envs/dsp/lib/python3.9/site-packages/sympy/core/function.py\u001b[0m in \u001b[0;36m__new__\u001b[0;34m(cls, *args, **options)\u001b[0m\n\u001b[1;32m    471\u001b[0m \u001b[0;34m\u001b[0m\u001b[0m\n\u001b[1;32m    472\u001b[0m         \u001b[0mevaluate\u001b[0m \u001b[0;34m=\u001b[0m \u001b[0moptions\u001b[0m\u001b[0;34m.\u001b[0m\u001b[0mget\u001b[0m\u001b[0;34m(\u001b[0m\u001b[0;34m'evaluate'\u001b[0m\u001b[0;34m,\u001b[0m \u001b[0mglobal_parameters\u001b[0m\u001b[0;34m.\u001b[0m\u001b[0mevaluate\u001b[0m\u001b[0;34m)\u001b[0m\u001b[0;34m\u001b[0m\u001b[0;34m\u001b[0m\u001b[0m\n\u001b[0;32m--> 473\u001b[0;31m         \u001b[0mresult\u001b[0m \u001b[0;34m=\u001b[0m \u001b[0msuper\u001b[0m\u001b[0;34m(\u001b[0m\u001b[0;34m)\u001b[0m\u001b[0;34m.\u001b[0m\u001b[0m__new__\u001b[0m\u001b[0;34m(\u001b[0m\u001b[0mcls\u001b[0m\u001b[0;34m,\u001b[0m \u001b[0;34m*\u001b[0m\u001b[0margs\u001b[0m\u001b[0;34m,\u001b[0m \u001b[0;34m**\u001b[0m\u001b[0moptions\u001b[0m\u001b[0;34m)\u001b[0m\u001b[0;34m\u001b[0m\u001b[0;34m\u001b[0m\u001b[0m\n\u001b[0m\u001b[1;32m    474\u001b[0m         \u001b[0;32mif\u001b[0m \u001b[0mevaluate\u001b[0m \u001b[0;32mand\u001b[0m \u001b[0misinstance\u001b[0m\u001b[0;34m(\u001b[0m\u001b[0mresult\u001b[0m\u001b[0;34m,\u001b[0m \u001b[0mcls\u001b[0m\u001b[0;34m)\u001b[0m \u001b[0;32mand\u001b[0m \u001b[0mresult\u001b[0m\u001b[0;34m.\u001b[0m\u001b[0margs\u001b[0m\u001b[0;34m:\u001b[0m\u001b[0;34m\u001b[0m\u001b[0;34m\u001b[0m\u001b[0m\n\u001b[1;32m    475\u001b[0m             \u001b[0mpr2\u001b[0m \u001b[0;34m=\u001b[0m \u001b[0mmin\u001b[0m\u001b[0;34m(\u001b[0m\u001b[0mcls\u001b[0m\u001b[0;34m.\u001b[0m\u001b[0m_should_evalf\u001b[0m\u001b[0;34m(\u001b[0m\u001b[0ma\u001b[0m\u001b[0;34m)\u001b[0m \u001b[0;32mfor\u001b[0m \u001b[0ma\u001b[0m \u001b[0;32min\u001b[0m \u001b[0mresult\u001b[0m\u001b[0;34m.\u001b[0m\u001b[0margs\u001b[0m\u001b[0;34m)\u001b[0m\u001b[0;34m\u001b[0m\u001b[0;34m\u001b[0m\u001b[0m\n",
      "\u001b[0;32m~/miniconda3/envs/dsp/lib/python3.9/site-packages/sympy/core/cache.py\u001b[0m in \u001b[0;36mwrapper\u001b[0;34m(*args, **kwargs)\u001b[0m\n\u001b[1;32m     70\u001b[0m         \u001b[0;32mdef\u001b[0m \u001b[0mwrapper\u001b[0m\u001b[0;34m(\u001b[0m\u001b[0;34m*\u001b[0m\u001b[0margs\u001b[0m\u001b[0;34m,\u001b[0m \u001b[0;34m**\u001b[0m\u001b[0mkwargs\u001b[0m\u001b[0;34m)\u001b[0m\u001b[0;34m:\u001b[0m\u001b[0;34m\u001b[0m\u001b[0;34m\u001b[0m\u001b[0m\n\u001b[1;32m     71\u001b[0m             \u001b[0;32mtry\u001b[0m\u001b[0;34m:\u001b[0m\u001b[0;34m\u001b[0m\u001b[0;34m\u001b[0m\u001b[0m\n\u001b[0;32m---> 72\u001b[0;31m                 \u001b[0mretval\u001b[0m \u001b[0;34m=\u001b[0m \u001b[0mcfunc\u001b[0m\u001b[0;34m(\u001b[0m\u001b[0;34m*\u001b[0m\u001b[0margs\u001b[0m\u001b[0;34m,\u001b[0m \u001b[0;34m**\u001b[0m\u001b[0mkwargs\u001b[0m\u001b[0;34m)\u001b[0m\u001b[0;34m\u001b[0m\u001b[0;34m\u001b[0m\u001b[0m\n\u001b[0m\u001b[1;32m     73\u001b[0m             \u001b[0;32mexcept\u001b[0m \u001b[0mTypeError\u001b[0m\u001b[0;34m:\u001b[0m\u001b[0;34m\u001b[0m\u001b[0;34m\u001b[0m\u001b[0m\n\u001b[1;32m     74\u001b[0m                 \u001b[0mretval\u001b[0m \u001b[0;34m=\u001b[0m \u001b[0mfunc\u001b[0m\u001b[0;34m(\u001b[0m\u001b[0;34m*\u001b[0m\u001b[0margs\u001b[0m\u001b[0;34m,\u001b[0m \u001b[0;34m**\u001b[0m\u001b[0mkwargs\u001b[0m\u001b[0;34m)\u001b[0m\u001b[0;34m\u001b[0m\u001b[0;34m\u001b[0m\u001b[0m\n",
      "\u001b[0;32m~/miniconda3/envs/dsp/lib/python3.9/site-packages/sympy/core/function.py\u001b[0m in \u001b[0;36m__new__\u001b[0;34m(cls, *args, **options)\u001b[0m\n\u001b[1;32m    283\u001b[0m \u001b[0;34m\u001b[0m\u001b[0m\n\u001b[1;32m    284\u001b[0m         \u001b[0;32mif\u001b[0m \u001b[0mevaluate\u001b[0m\u001b[0;34m:\u001b[0m\u001b[0;34m\u001b[0m\u001b[0;34m\u001b[0m\u001b[0m\n\u001b[0;32m--> 285\u001b[0;31m             \u001b[0mevaluated\u001b[0m \u001b[0;34m=\u001b[0m \u001b[0mcls\u001b[0m\u001b[0;34m.\u001b[0m\u001b[0meval\u001b[0m\u001b[0;34m(\u001b[0m\u001b[0;34m*\u001b[0m\u001b[0margs\u001b[0m\u001b[0;34m)\u001b[0m\u001b[0;34m\u001b[0m\u001b[0;34m\u001b[0m\u001b[0m\n\u001b[0m\u001b[1;32m    286\u001b[0m             \u001b[0;32mif\u001b[0m \u001b[0mevaluated\u001b[0m \u001b[0;32mis\u001b[0m \u001b[0;32mnot\u001b[0m \u001b[0;32mNone\u001b[0m\u001b[0;34m:\u001b[0m\u001b[0;34m\u001b[0m\u001b[0;34m\u001b[0m\u001b[0m\n\u001b[1;32m    287\u001b[0m                 \u001b[0;32mreturn\u001b[0m \u001b[0mevaluated\u001b[0m\u001b[0;34m\u001b[0m\u001b[0;34m\u001b[0m\u001b[0m\n",
      "\u001b[0;32m~/miniconda3/envs/dsp/lib/python3.9/site-packages/sympy/functions/elementary/complexes.py\u001b[0m in \u001b[0;36meval\u001b[0;34m(cls, arg)\u001b[0m\n\u001b[1;32m    206\u001b[0m             \u001b[0margs\u001b[0m \u001b[0;34m=\u001b[0m \u001b[0mAdd\u001b[0m\u001b[0;34m.\u001b[0m\u001b[0mmake_args\u001b[0m\u001b[0;34m(\u001b[0m\u001b[0marg\u001b[0m\u001b[0;34m)\u001b[0m\u001b[0;34m\u001b[0m\u001b[0;34m\u001b[0m\u001b[0m\n\u001b[1;32m    207\u001b[0m             \u001b[0;32mfor\u001b[0m \u001b[0mterm\u001b[0m \u001b[0;32min\u001b[0m \u001b[0margs\u001b[0m\u001b[0;34m:\u001b[0m\u001b[0;34m\u001b[0m\u001b[0;34m\u001b[0m\u001b[0m\n\u001b[0;32m--> 208\u001b[0;31m                 \u001b[0mcoeff\u001b[0m \u001b[0;34m=\u001b[0m \u001b[0mterm\u001b[0m\u001b[0;34m.\u001b[0m\u001b[0mas_coefficient\u001b[0m\u001b[0;34m(\u001b[0m\u001b[0mS\u001b[0m\u001b[0;34m.\u001b[0m\u001b[0mImaginaryUnit\u001b[0m\u001b[0;34m)\u001b[0m\u001b[0;34m\u001b[0m\u001b[0;34m\u001b[0m\u001b[0m\n\u001b[0m\u001b[1;32m    209\u001b[0m \u001b[0;34m\u001b[0m\u001b[0m\n\u001b[1;32m    210\u001b[0m                 \u001b[0;32mif\u001b[0m \u001b[0mcoeff\u001b[0m \u001b[0;32mis\u001b[0m \u001b[0;32mnot\u001b[0m \u001b[0;32mNone\u001b[0m\u001b[0;34m:\u001b[0m\u001b[0;34m\u001b[0m\u001b[0;34m\u001b[0m\u001b[0m\n",
      "\u001b[0;31mAttributeError\u001b[0m: 'ImmutableDenseNDimArray' object has no attribute 'as_coefficient'"
     ]
    }
   ],
   "source": [
    "# Implementación del ejercicio 6\n",
    "def signal(t):\n",
    "    return -2*sp.exp(3*t)*sp.Heaviside(-t)\n",
    "def fase(x):\n",
    "    return [np.arctan(b/a) for a,b in zip(x.real,x.imag)]\n",
    "F=sp.symbols('F',nonzero=True)\n",
    "ft=sp.fourier_transform(signal(t),t,F)\n",
    "e1=sp.integrate(abs(signal(t))**2,(t,-sp.oo,sp.oo))\n",
    "e2=sp.integrate(abs(ft)**2,(F,-sp.oo,sp.oo))\n",
    "display(e1)\n",
    "display(e2)\n",
    "display(ft)\n",
    "muestras=np.arange(-5,6,1)\n",
    "f=np.fft.fft(signal(muestras))\n",
    "esp_mod=abs(f)\n",
    "esp_fas=fase(f)"
   ]
  }
 ],
 "metadata": {
  "kernelspec": {
   "display_name": "Python 3",
   "language": "python",
   "name": "python3"
  },
  "language_info": {
   "codemirror_mode": {
    "name": "ipython",
    "version": 3
   },
   "file_extension": ".py",
   "mimetype": "text/x-python",
   "name": "python",
   "nbconvert_exporter": "python",
   "pygments_lexer": "ipython3",
   "version": "3.9.1"
  }
 },
 "nbformat": 4,
 "nbformat_minor": 5
}
