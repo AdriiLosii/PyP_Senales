{
 "cells": [
  {
   "cell_type": "markdown",
   "id": "massive-brown",
   "metadata": {},
   "source": [
    "\n",
    "\n",
    "#  Práctica entregable \n",
    "\n",
    "La siguiente práctica se entregará a través del aula virtual. \n",
    "\n",
    "Tiene ejercicios parecidos a los que estamos realizando en clase que implican implementar conceptos vistos en teoría. \n",
    "\n",
    "Instrucciones\n",
    "* Podeis usar/consultar la teoría para realizar los ejercicios\n",
    "* No podeis usar el código de las prácticas anteriores\n",
    "* No podeis emplear Internet \n",
    "* Los ejercicios tienen que tener todo el código necesario para llegar a la solución\n",
    "   "
   ]
  },
  {
   "cell_type": "code",
   "execution_count": 1,
   "id": "charitable-genius",
   "metadata": {},
   "outputs": [],
   "source": [
    "#librerias necesarias para la práctica\n",
    "%matplotlib inline \n",
    "from collections import deque  \n",
    "import matplotlib.pyplot as plt\n",
    "import numpy as np\n",
    "import IPython\n",
    "from scipy import signal\n",
    "from scipy.io import wavfile\n",
    "import seaborn as sns\n",
    "plt.rcParams[\"figure.figsize\"] = (14,4) #dimensiones por defecto al plotear (width, height)"
   ]
  },
  {
   "cell_type": "markdown",
   "id": "failing-surveillance",
   "metadata": {},
   "source": [
    "## Visualización \n",
    "\n",
    "Un gráfico típico que nos encontraremos en la teoría y en los libros es el de \"piruleta\" o stem (barras con un círculo encima). Este tipo de gráficos se pueden realizar facilmente con matplotlib.  Voy a dejar una función ya configurada que podeis modificar a vuestro gusto.\n"
   ]
  },
  {
   "cell_type": "code",
   "execution_count": 2,
   "id": "found-spank",
   "metadata": {},
   "outputs": [],
   "source": [
    "#Este es un método de visualización muy básico para hacer pruebas\n",
    "def plot_stem( t , y, y_lim=None, view_baseline=True, title=None):\n",
    "    \"\"\"Función que configura y visualiza un gráfico stem \n",
    "\n",
    "       Parámetros:\n",
    "       t -- muestras de tiempo\n",
    "       y -- secuencia para visualizar\n",
    "       y_lim -- tupla de la forma (min, max) que establece los límites en el eje de ordenadas. Por defecto None\n",
    "       view_baseline -- Establece una línea horizontal en el eje de las x a la altura de  y=0 . Por defecto False\n",
    "\n",
    "    \"\"\"\n",
    "    markerline, stemlines, baseline = plt.stem(t, y)\n",
    "    plt.setp(baseline, visible=view_baseline)\n",
    "    plt.setp(markerline, color=\"crimson\",markersize = 10)\n",
    "    plt.setp(stemlines, color=\"crimson\", linewidth = 4)\n",
    "    plt.axvline(x=0, linewidth=1,color=\"black\")\n",
    "    plt.ylim(y_lim)\n",
    "    if title is not None:\n",
    "        plt.title(title)\n",
    "    plt.show()"
   ]
  },
  {
   "cell_type": "markdown",
   "id": "fitting-intention",
   "metadata": {},
   "source": [
    "## Ejercicios\n",
    "\n",
    "\n",
    "\n",
    "### <span style='background :yellow' >Ejercicio 1</span>\n",
    "<b>1.1</b> Genera y visualiza el siguiente tren periódico de impulsos\n",
    "\n",
    "$p[n]=\\sum\\limits_{k=-\\infty}^{\\infty} \\delta[n-5k], ~~~~~~~~0<=n<=39$\n",
    "\n",
    "\n",
    "\n",
    "<b>1.2</b> Genera y visualiza la siguiente secuencia\n",
    "\n",
    "$x[n]=2\\delta[n+2]-\\delta[n-4],~~~~~-5<=n<=5$"
   ]
  },
  {
   "cell_type": "code",
   "execution_count": 3,
   "id": "adult-pension",
   "metadata": {},
   "outputs": [
    {
     "data": {
      "image/png": "[encoded data removed]",
      "text/plain": [
       "<Figure size 1008x288 with 1 Axes>"
      ]
     },
     "metadata": {
      "needs_background": "light"
     },
     "output_type": "display_data"
    }
   ],
   "source": [
    "#implementación 1.1\n",
    "def impulso(x):\n",
    "    return 1*(x==0)\n",
    "\n",
    "muestra1_1 = np.arange(0,40,1)\n",
    "x1_1 = sum([impulso(muestra1_1-i) for i in muestra1_1])\n",
    "plot_stem(muestra1_1, x1_1)"
   ]
  },
  {
   "cell_type": "code",
   "execution_count": 4,
   "id": "covered-thong",
   "metadata": {},
   "outputs": [
    {
     "data": {
      "image/png": "[encoded data removed]",
      "text/plain": [
       "<Figure size 1008x288 with 1 Axes>"
      ]
     },
     "metadata": {
      "needs_background": "light"
     },
     "output_type": "display_data"
    }
   ],
   "source": [
    "#implementación 1.2\n",
    "muestra1_2 = np.arange(-5,6,1)\n",
    "x1_2 = 2*impulso(muestra1_2+2) - impulso(muestra1_2-4)\n",
    "plot_stem(muestra1_2, x1_2)"
   ]
  },
  {
   "cell_type": "markdown",
   "id": "original-weather",
   "metadata": {},
   "source": [
    "###  <span style='background :yellow' >Ejercicio 2</span>\n",
    "\n",
    "<b>2.1</b> Escribe una función que genere señales sinusoidales. La cabecera de la función será:\n",
    "\n",
    "<code>def sinusoide (A, w0, fi, n0, n1):</code>\n",
    "\n",
    ", donde:\n",
    "\n",
    "<b>INPUTS</b>\n",
    "* A= amplitud\n",
    "* $w_0$= frecuencia en radianes\n",
    "* fi= fase en radianes\n",
    "* $n_0$= índice temporal de comienzo de la secuencia\n",
    "* $n_1$= índice temporal del final de la secuencia\n",
    "\n",
    "<b>OUTPUTS</b>\n",
    "\n",
    "La función devolverá:\n",
    "* La secuencia sinusoidal\n",
    "* Lista con los índices temporales para poder \"plotear\" la señal\n",
    "\n",
    "\n",
    "\n",
    "<b>2.2</b> Emplea los siguientes valores con la señal anterior y <b>calcula su potencia media</b>\n",
    "\n",
    "* |A|=4\n",
    "* $w_0=\\frac{\\pi}{15}$\n",
    "* $\\phi=\\frac{\\pi}{3}$\n",
    "* $n_0=-20$\n",
    "* $n_1=40$\n",
    "\n",
    "\n"
   ]
  },
  {
   "cell_type": "code",
   "execution_count": 5,
   "id": "facial-tiger",
   "metadata": {},
   "outputs": [],
   "source": [
    "#implementación 2.1\n",
    "def sinusoide (A, w0, fi, n0, n1):\n",
    "    muestra = np.arange(n0,n1+1,1)\n",
    "    return [A*np.cos(w0*i + fi) for i in muestra],muestra\n",
    "\n"
   ]
  },
  {
   "cell_type": "code",
   "execution_count": 6,
   "id": "present-board",
   "metadata": {},
   "outputs": [
    {
     "data": {
      "image/png": "[encoded data removed]",
      "text/plain": [
       "<Figure size 1008x288 with 1 Axes>"
      ]
     },
     "metadata": {
      "needs_background": "light"
     },
     "output_type": "display_data"
    }
   ],
   "source": [
    "#implementación 2.2\n",
    "A=4\n",
    "w0=np.pi/15\n",
    "fi=np.pi/3\n",
    "n0=-20\n",
    "n1=40\n",
    "\n",
    "sinu,t = sinusoide(A, w0, fi, n0, n1)\n",
    "plot_stem(t,sinu)"
   ]
  },
  {
   "cell_type": "markdown",
   "id": "worldwide-quality",
   "metadata": {},
   "source": [
    "###  <span style='background :yellow' >Ejercicio 3</span>\n",
    "\n",
    "Cualquier señal arbitraria puede expresarse como la suma de 2 componentes de señal (par e impar). Crea una función que reciba una señal y devuelva sus componentes par e impar\n",
    "\n",
    "<code>def genera_componentes(signal):</code>\n",
    "\n",
    "INPUTS\n",
    "* x= señal original\n",
    "\n",
    "OUTPUTS\n",
    "* par: componente par de la señal\n",
    "* impar: componente impar de la señal\n",
    "\n",
    "\n",
    "Si sumais las 2 componentes resultantes recuperareis la señal original\n",
    "\n",
    "<b>NOTAS</b>:\n",
    "\n",
    "* Podéis suponer que la señal arbitraria siempre tiene elementos impares y que el n=0 es el centro. Eso os ayudará a *doblar* la secuencia\n",
    "* No teneis que devolver información sobre los índices, solo las componentes par e impar\n",
    "\n",
    "\n",
    "<b>Ejemplo</b>\n",
    "\n",
    "$x[n]=\\{3,2,2,4,2\\}$\n",
    "\n",
    "$x_{par}=\\{\\frac{5}{2},3,2,3,\\frac{5}{2}\\}$\n",
    "\n",
    "\n",
    "$x_{impar}=\\{\\frac{1}{2},-1,0,1,-\\frac{1}{2}\\}$\n",
    "\n",
    "\n"
   ]
  },
  {
   "cell_type": "code",
   "execution_count": 7,
   "id": "august-biotechnology",
   "metadata": {},
   "outputs": [
    {
     "name": "stdout",
     "output_type": "stream",
     "text": [
      "Funcion par: [2.5 3.  2.  3.  2.5]\n",
      "Funcion impar: [ 0.5 -1.   0.   1.  -0.5]\n",
      "Suma: [3. 2. 2. 4. 2.]\n",
      "Señal base: [3, 2, 2, 4, 2]\n"
     ]
    }
   ],
   "source": [
    "#implementación 3\n",
    "def genera_componentes(signal):\n",
    "    x_par = 0.5*(np.array(signal) + np.array(signal[::-1]))\n",
    "    x_impar = 0.5*(np.array(signal) - np.array(signal[::-1]))\n",
    "    return x_par,x_impar\n",
    "\n",
    "x=[3,2,2,4,2]\n",
    "x_par,x_impar=genera_componentes(x)\n",
    "print(\"Funcion par:\",x_par)\n",
    "print(\"Funcion impar:\",x_impar)\n",
    "print(\"Suma:\",x_par+x_impar)\n",
    "print(\"Señal base:\",x)\n"
   ]
  },
  {
   "cell_type": "markdown",
   "id": "ethical-bernard",
   "metadata": {},
   "source": [
    "###  <span style='background :yellow' >Ejercicio 4</span>\n",
    "Considerando la interconexión de sistemas LTI mostrado en la figura:\n",
    "* Obtén la respuesta impulso global en función de $h_1[n]$, $h_2[n]$, $h_3[n]$ y $h_4[n]$. \n",
    "  * $h_1[n]=\\delta[n] + 0.5\\delta[n-1]$\n",
    "  * $h_2[n]=0.5\\delta[n]-0.25\\delta[n-1]$\n",
    "  * $h_3[n]=2\\delta[n]$\n",
    "  * $h_4[n]=-2(0.5)^n u[n]$\n",
    "  \n",
    "\n",
    "* Visualiza los primeros 10 elementos de la respuesta impulsional.\n",
    "\n",
    "\n",
    "\n",
    "\n",
    "Para realizar este ejercicio es necesario tener en cuenta las <b>propiedades de interconexión de los sistemas LTI</b>\n",
    "\n",
    "![Esquema interconexión de sistemas LTI](interconexion.png)"
   ]
  },
  {
   "cell_type": "code",
   "execution_count": 8,
   "id": "abroad-snake",
   "metadata": {},
   "outputs": [
    {
     "data": {
      "image/png": "[encoded data removed]",
      "text/plain": [
       "<Figure size 1008x288 with 1 Axes>"
      ]
     },
     "metadata": {
      "needs_background": "light"
     },
     "output_type": "display_data"
    }
   ],
   "source": [
    "#implementación 4\n",
    "def exponencial(x, A, alfa, unitario=False):\n",
    "    return [A*(alfa**i) if i>0 else 0 for i in x] if unitario else [A*(alfa**i)for i in x]\n",
    "    \n",
    "def inter_serie(entrada,signal1, signal2=None):\n",
    "    return np.convolve(entrada,signal1) if signal2==None else np.convolve((np.convolve(entrada,signal1),signal2))\n",
    "    \n",
    "def inter_paralelo(signal1,signal2):\n",
    "    if len(signal1)==len(signal2):\n",
    "        return signal1 + signal2 \n",
    "    else:\n",
    "        dif = len(signal1)-len(signal2)\n",
    "        return signal1 + np.array(list(signal2)+dif*[0]) if dif>0 else signal2 + np.array(list(signal1)+(-dif)*[0])\n",
    "muestra4 = np.arange(0,10)\n",
    "\n",
    "h1 = impulso(muestra4) + 0.5* impulso(muestra4-1)\n",
    "h2 = 0.5*impulso(muestra4) - 0.25*impulso(muestra4-1)\n",
    "h3 = 2*impulso(muestra4)\n",
    "h4 = exponencial(muestra4,-2,0.5,True)\n",
    "\n",
    "y = (inter_paralelo(inter_serie(impulso(muestra4), h1),\\\n",
    "    inter_paralelo(inter_serie(inter_serie(impulso(muestra4), h2), h3),\\\n",
    "    inter_serie(inter_serie(impulso(muestra4), h2),h4))))\n",
    "\n",
    "plot_stem(muestra4,y[0:10])"
   ]
  },
  {
   "cell_type": "markdown",
   "id": "drawn-immigration",
   "metadata": {},
   "source": [
    "###  <span style='background :yellow' >Ejercicio 5</span>\n",
    "\n",
    "Dado el sistema LTI que se proporciona (puedes tratarlo como una caja negra), obtén la respuesta $y[n]$ para la secuencia de entrada $x[n]$ empleando la convolución\n",
    "\n",
    "$x[n]=5\\delta[n-2]+2u[n]$\n",
    "\n",
    "\n",
    "\n",
    "* Os proporciono el sistema ya implementado\n",
    "* Podeis suponer que las secuencias empiezan en cero para no tener problemas con los índices (negativos) de la convolución\n",
    "* Podeis procesar $x[n]$ directamente a través del sistema para comprobar el resultado PERO la solución tiene que darse con la convolución\n",
    "    * Si haceis esta comprobación, tened en cuenta que los índices \"por la derecha\" pueden variar. Solo os coincidirán los índices comunes\n",
    "    \n",
    "    \n",
    "![title](diagrama_bloques2.png)\n"
   ]
  },
  {
   "cell_type": "code",
   "execution_count": 9,
   "id": "careful-health",
   "metadata": {},
   "outputs": [],
   "source": [
    "#implementación de los bloques básicos\n",
    "class sumador:\n",
    "    def __init__(self):\n",
    "        pass\n",
    "    def suma(self, x1,x2):\n",
    "        if not isinstance(x1, list): x1=[x1]\n",
    "           \n",
    "        if not isinstance(x2, list):   x2=[x2]\n",
    "          \n",
    "        #TODO:  comprobar que son de la misma logitud y actuar en consecuencia\n",
    "        rdo= [a+b for a,b in zip(x1,x2)]\n",
    "        return rdo if len(rdo)>1 else rdo[0]\n",
    "class multiplicador:\n",
    "    def __init__(self):\n",
    "        pass\n",
    "    def multiplica(self, x1,x2):\n",
    "        if not isinstance(x1, list): x1=[x1]\n",
    "           \n",
    "        if not isinstance(x2, list):   x2=[x2]\n",
    "        rdo= [a*b for a,b in zip(x1,x2)]\n",
    "        return rdo if len(rdo)>1 else rdo[0]\n",
    "    def escala(self, x1,c):\n",
    "        return x1*c\n",
    "    \n",
    "    \n",
    "    \n",
    "class retardador:\n",
    "    def __init__(self, retardos,init_value=0):\n",
    "        retardos=retardos if retardos >0 else 1\n",
    "        self.buffer=deque([init_value]*retardos, maxlen=retardos)\n",
    "        \n",
    "    def add(self, item):\n",
    "        self.buffer.append(item)\n",
    "    def get(self):\n",
    "        return self.buffer[0]\n",
    "    def print(self):\n",
    "        print(self.buffer)\n",
    "         \n",
    "#implementación del diagrama de bloques\n",
    "def diagrama_bloques(x):\n",
    "    signal=x.copy()\n",
    "    \n",
    "    entrada_retardo=retardador(1)\n",
    "    salida_retardo=retardador(1)\n",
    "    suma=sumador()\n",
    "    multiplica=multiplicador()\n",
    "    y=[]\n",
    "    for i in signal:\n",
    "\n",
    "        aux=suma.suma(i, entrada_retardo.get())\n",
    "        entrada_retardo.add(i)\n",
    "        aux=multiplica.escala(aux, 0.5)\n",
    "        rdo=suma.suma(aux, multiplica.escala(salida_retardo.get(), 1/4))\n",
    "        salida_retardo.add(rdo)\n",
    "        y.append(rdo)\n",
    "    return y          \n",
    "         "
   ]
  },
  {
   "cell_type": "code",
   "execution_count": 11,
   "id": "biblical-separation",
   "metadata": {},
   "outputs": [
    {
     "data": {
      "image/png": "[encoded data removed]",
      "text/plain": [
       "<Figure size 1008x288 with 1 Axes>"
      ]
     },
     "metadata": {
      "needs_background": "light"
     },
     "output_type": "display_data"
    },
    {
     "data": {
      "image/png": "[encoded data removed]",
      "text/plain": [
       "<Figure size 1008x288 with 1 Axes>"
      ]
     },
     "metadata": {
      "needs_background": "light"
     },
     "output_type": "display_data"
    },
    {
     "name": "stdout",
     "output_type": "stream",
     "text": [
      "[ True  True  True  True  True  True  True  True  True  True]\n"
     ]
    }
   ],
   "source": [
    "#implementación 5\n",
    "def escalon_unitario(x):\n",
    "    return 1*(x>=0)\n",
    "\n",
    "muestra5 = np.arange(0,10)\n",
    "\n",
    "x = 5*impulso(muestra5-2) + 2*escalon_unitario(muestra5)\n",
    "h = diagrama_bloques(impulso(muestra5))\n",
    "y_conv = np.convolve(x,h)\n",
    "plot_stem(muestra5,y_conv[0:10])\n",
    "\n",
    "\n",
    "y_diag = diagrama_bloques(x)\n",
    "plot_stem(muestra5,y_diag[0:10])\n",
    "\n",
    "print(y_conv[0:10]==y_diag[0:10])"
   ]
  },
  {
   "cell_type": "markdown",
   "id": "alleged-nashville",
   "metadata": {},
   "source": [
    "###  <span style='background :yellow' >Ejercicio 6</span>\n",
    "Un sistema LIT tiene una respuesta al impulso definida como:\n",
    "\n",
    "\n",
    " $h[n] = \\left \\{ \\begin{matrix} 0, & n<0\n",
    "\\\\1, & 0<=n<=3\n",
    "\\\\-2, & 4<=n<=5\n",
    "\\\\ 0 & n>5\\end{matrix}\\right.$ \n",
    "\n",
    "\n",
    "* Genera una respuesta impulsional $h[n]$ con $-10<=n<=10$\n",
    "* Calcula y visualiza $y[n]$ cuando la entrada $x[n]$ es: \n",
    "\n",
    "    * $x_1[n]=u[n]$\n",
    "    * $x_2[n]=u[n-4]$\n",
    "    * $x_3[n]=u[n]-u[n-4]$\n",
    "    \n",
    "<b>Nota:</b> Se valorará que se visualicen los resultados correctamente indexados (índices de la convolución)"
   ]
  },
  {
   "cell_type": "code",
   "execution_count": 12,
   "id": "historical-people",
   "metadata": {},
   "outputs": [
    {
     "data": {
      "image/png": "[encoded data removed]",
      "text/plain": [
       "<Figure size 1008x288 with 1 Axes>"
      ]
     },
     "metadata": {
      "needs_background": "light"
     },
     "output_type": "display_data"
    },
    {
     "data": {
      "image/png": "[encoded data removed]",
      "text/plain": [
       "<Figure size 1008x288 with 1 Axes>"
      ]
     },
     "metadata": {
      "needs_background": "light"
     },
     "output_type": "display_data"
    },
    {
     "data": {
      "image/png": "[encoded data removed]",
      "text/plain": [
       "<Figure size 1008x288 with 1 Axes>"
      ]
     },
     "metadata": {
      "needs_background": "light"
     },
     "output_type": "display_data"
    }
   ],
   "source": [
    "#implementación 6\n",
    "def make_h(signal):\n",
    "    return [(1 if i <= 3 else 2) if i>=0 and i<=5 else 0 for i in signal]\n",
    "\n",
    "def ind_conv(lim_x,lim_h,signal):\n",
    "    return signal[lim_x[0]+lim_h[0]:lim_x[1]+lim_h[1]],(lim_x[0]+lim_h[0],lim_x[1]+lim_h[1])\n",
    "\n",
    "muestra6 = np.arange(-10,11)\n",
    "h = make_h(muestra6)\n",
    "limh = (10,16)\n",
    "\n",
    "x1 = escalon_unitario(muestra6)\n",
    "limx1=(10,20)\n",
    "y1= np.convolve(x1,h)\n",
    "y1_situado,eje1 = ind_conv(limx1,limh,y1)\n",
    "plot_stem(np.arange(eje1[0],eje1[1]), y1_situado)\n",
    "\n",
    "x2 = escalon_unitario(muestra6-4)\n",
    "limx2=(14,20)\n",
    "y2= np.convolve(x2,h)\n",
    "y2_situado,eje2 = ind_conv(limx2,limh,y2)\n",
    "plot_stem(np.arange(eje2[0],eje2[1]), y2_situado)\n",
    "\n",
    "x3 = escalon_unitario(muestra6) - escalon_unitario(muestra6-4) \n",
    "limx3=(10,14)\n",
    "y3= np.convolve(x3,h)\n",
    "y3_situado,eje3 = ind_conv(limx3,limh,y3)\n",
    "plot_stem(np.arange(eje3[0],eje3[1]), y3_situado)"
   ]
  },
  {
   "cell_type": "markdown",
   "id": "clear-psychiatry",
   "metadata": {},
   "source": [
    "###  <span style='background :yellow' >Ejercicio 7</span>\n",
    "\n",
    "Dado el sistema descrito por ecuaciones en diferencias de coeficientes constantes mostrado en la siguiente figura (Forma directa I):\n",
    "* Calcula y visualiza su respuesta al impulso $h[n]~~~~~~~~-20<=n<=100$\n",
    "* Calcula y visualiza su respuesta a la señal escalón $u[n]~~~~~~~~-20<=n<=100$\n",
    "\n",
    "\n",
    "\n",
    "![Ecuación en diferencias de coeficientes constantes](ecuacion_diferencias.png)\n",
    "\n",
    "\n",
    "\n",
    "<b>Nota</b> Consideramos que el sistema está en reposo\n",
    "\n",
    "<b>Nota 2</b> El método necesario para calcular esa ecuación es  *scipy.signal.lfilter*\n",
    "\n",
    "\n",
    "\n",
    "\n",
    "\n",
    "\n",
    "\n",
    "La función [signal.lfilter](https://docs.scipy.org/doc/scipy/reference/generated/scipy.signal.lfilter.html) de scipy permite implementar dichas ecuaciones. La cabecera de la función es: *signal.lfilter(b, a, x, axis=- 1, zi=None)*\n",
    "* *a* es el vector con los valores correspondientes a las constantes $a_k, k=0..N$\n",
    "* *b* es el vector con los valores correspondientes a las constantes $b_k, k=0..M$\n",
    "* *x* es el vector de entrada\n",
    "* *zi* un vector opcional con las condiciones iniciales del sistema\n",
    "\n",
    "$y[n]=-\\sum\\limits_{n=1}^{N}a_k y[n-k] +\\sum\\limits_{n=0}^{M} b_kx[n-k]$\n"
   ]
  },
  {
   "cell_type": "code",
   "execution_count": null,
   "id": "treated-equity",
   "metadata": {},
   "outputs": [],
   "source": [
    "#implementación 7"
   ]
  }
 ],
 "metadata": {
  "kernelspec": {
   "display_name": "Python 3",
   "language": "python",
   "name": "python3"
  },
  "language_info": {
   "codemirror_mode": {
    "name": "ipython",
    "version": 3
   },
   "file_extension": ".py",
   "mimetype": "text/x-python",
   "name": "python",
   "nbconvert_exporter": "python",
   "pygments_lexer": "ipython3",
   "version": "3.9.1"
  }
 },
 "nbformat": 4,
 "nbformat_minor": 5
}
