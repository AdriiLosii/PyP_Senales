{
 "cells": [
  {
   "cell_type": "markdown",
   "id": "b42423bd",
   "metadata": {},
   "source": [
    "# Correlación cruzada\n",
    "\n",
    "La correlación cruzada es una operación muy similar a la convolución que nos permite medir el grado de similitud de 2 señales en el instante $t_0$ pero también con diferentes desplazamientos entre las señales analizadas (retardos y adelantos).\n",
    "\n",
    "La <b>correlación cruzada</b> se define como:\n",
    "\n",
    "$r_{xy}[l]=\\sum\\limits_{n=-\\infty}^{\\infty}x[n]y[n-l], ~~~~~~l=0, \\pm1, \\pm2, ...$\n",
    "\n",
    "* $l$ es el parámetro de desplazamiento (retardo o adelanto de la señal).\n",
    "* El subíndice $xy$ indica las secuencias que se van a correlar y su orden indica la dirección en que se desplaza una respecto a la otra.\n",
    "\n",
    "\n",
    "Analizando la forma de calcular la correlación cruzada podemos ver que es muy similar a la convolución. Si vemos las operaciones en detalle nos daremos cuenta que la correlación cruzada prescinde de la operación de reflejar la secuencia pero el resto de las operaciones coinciden. \n",
    "\n",
    "Convolución vs Correlación\n",
    "* ~~Una secuencia se refleja~~\n",
    "* La secuencia se desplaza\n",
    "* Se multiplican las secuencias y se obtiene la secuencia producto\n",
    "* Se suman los valores de la secuencia producto \n",
    "\n",
    "\n",
    "Esta similitud nos puede facilitar la implementación de la correlación cruzada, ya que podemos emplear el algoritmo de convolución reflejando la señal antes de pasarla como argumento a la función\n",
    "\n",
    "* resultado de la convolucion= <code>convolve(x[n],h[n])</code>\n",
    "* resultado de la correlación cruzada= <code>convolve(x[n],h[-n])</code>\n",
    "\n",
    "\n"
   ]
  },
  {
   "cell_type": "code",
   "execution_count": null,
   "id": "7eb757e8",
   "metadata": {},
   "outputs": [],
   "source": [
    "#librerias necesarias para la práctica\n",
    "%matplotlib inline \n",
    "\n",
    "import matplotlib.pyplot as plt\n",
    "import numpy as np\n",
    "import IPython\n",
    "from scipy import signal\n",
    "from scipy.io import wavfile\n",
    "import seaborn as sns\n",
    "plt.rcParams[\"figure.figsize\"] = (14,4) #dimensiones por defecto al plotear (width, height)"
   ]
  },
  {
   "cell_type": "markdown",
   "id": "0a98775b",
   "metadata": {},
   "source": [
    "## Visualización \n",
    "\n",
    "Un gráfico típico que nos encontraremos en la teoría y en los libros es el de \"piruleta\" o stem (barras con un círculo encima). Este tipo de gráficos se pueden realizar facilmente con matplotlib.  Voy a dejar una función ya configurada que podeis modificar a vuestro gusto."
   ]
  },
  {
   "cell_type": "code",
   "execution_count": null,
   "id": "2bab0016",
   "metadata": {},
   "outputs": [],
   "source": [
    "#Este es un método de visualización muy básico para hacer pruebas\n",
    "def plot_stem( t , y, y_lim=None, view_baseline=False, title=None):\n",
    "    \"\"\"Función que configura y visualiza un gráfico stem \n",
    "\n",
    "       Parámetros:\n",
    "       t -- muestras de tiempo\n",
    "       y -- secuencia para visualizar\n",
    "       y_lim -- tupla de la forma (min, max) que establece los límites en el eje de ordenadas. Por defecto None\n",
    "       view_baseline -- Establece una línea horizontal en el eje de las x a la altura de  y=0 . Por defecto False\n",
    "\n",
    "    \"\"\"\n",
    "    markerline, stemlines, baseline = plt.stem(t, y,use_line_collection=True)\n",
    "    plt.setp(baseline, visible=view_baseline)\n",
    "    plt.setp(markerline, color=\"crimson\",markersize = 10)\n",
    "    plt.setp(stemlines, color=\"crimson\", linewidth = 4)\n",
    "    if 0 in t:\n",
    "        plt.axvline(x=0, linewidth=1,color=\"black\")\n",
    "    \n",
    "    plt.ylim(y_lim)\n",
    "    if title is not None:\n",
    "        plt.title(title)\n",
    "    plt.show()\n",
    "    \n",
    "    \n"
   ]
  },
  {
   "cell_type": "markdown",
   "id": "df8d93ec",
   "metadata": {},
   "source": [
    "### correlation_lags\n",
    "\n",
    "scipy tiene un método para gestionar los índices de la correlación PERO aparece a partir de  la versión 1.6. \n",
    "En caso de que no tengáis esa versión y no podáis actualizar, podéis usar este método"
   ]
  },
  {
   "cell_type": "code",
   "execution_count": null,
   "id": "6f8fa289",
   "metadata": {},
   "outputs": [],
   "source": [
    "def own_correlation_lags(in1_len, in2_len):\n",
    "    '''\n",
    "    Calcula el array de índices que representan los lags o desplazamientos para la correlación 1-D\n",
    "    \n",
    "    Parámetros\n",
    "    in1_len: longitud de la primera señal en la operación de correlación\n",
    "    in2_len: longitud de la segunda señal en la operación de correlación\n",
    "    Return\n",
    "    array de índices que representan los lags\n",
    "    '''\n",
    "    return np.arange(-in2_len + 1, in1_len)"
   ]
  },
  {
   "cell_type": "markdown",
   "id": "4dc7dda1",
   "metadata": {},
   "source": [
    "## Ejemplo de correlación cruzada\n",
    "La función de correlación cruzada la podeis obtener de la implementación de la convolución que hicisteis en la práctica anterior,  reflejando la señal, tal y como se explicó anteriormente pero, además, la podeis encontrar en diferentes paquetes como, por ejemplo, *numpy.correlate* o  *scipy.signal.correlate* (aunque la función de scipy realmente emplea numpy por debajo).\n",
    "\n"
   ]
  },
  {
   "cell_type": "markdown",
   "id": "ea9c932e",
   "metadata": {},
   "source": [
    "<b>Ejemplo</b>: Correlación cruzada entre una señal con ruido y la señal original\n",
    "\n",
    "Vamos a ver un ejemplo muy sencillo en el que \"enviamos\" una señal a través de un canal y la recibimos con ruido (vamos, por ahora,  a obviar el retardo y la atenuación que tendría dicha señal)"
   ]
  },
  {
   "cell_type": "code",
   "execution_count": null,
   "id": "92b1b085",
   "metadata": {},
   "outputs": [],
   "source": [
    "##Creamos la señal\n",
    "np.random.seed(123)#semilla para repetir los números aleatorios\n",
    "signal_size=50\n",
    "x=np.arange(signal_size+1)\n",
    "sig=np.random.randint(10, size=len(x))\n",
    "plot_stem(x,sig, title=\"señal original\", view_baseline=True)\n",
    "\n"
   ]
  },
  {
   "cell_type": "code",
   "execution_count": null,
   "id": "6be2b886",
   "metadata": {},
   "outputs": [],
   "source": [
    "## Simulamos que mandamos la señal y la recibimos con ruido (sin retardo)\n",
    "sig_noise = sig + np.random.randn(len(sig))\n",
    "##creamos una señal solo con ruido para ver las diferencias\n",
    "only_noise=np.random.randn(len(sig))#ruido uniformemente distribuido  media 0 sigma 1\n",
    "plot_stem(x,sig_noise, title=\"señal con ruido\", view_baseline=True)\n",
    "plot_stem(x,only_noise, title=\"Solo ruido\", view_baseline=True)\n"
   ]
  },
  {
   "cell_type": "markdown",
   "id": "97181e48",
   "metadata": {},
   "source": [
    "Se puede observar que la señal con ruido y el ruido solo no tienen porque ser tan fáciles de distinguir a simple vista. El uso de la correlación cruzada nos puede ayudar a encontrar la señal"
   ]
  },
  {
   "cell_type": "code",
   "execution_count": null,
   "id": "d0e2a6ca",
   "metadata": {},
   "outputs": [],
   "source": [
    "##Obtenemos la correlación\n",
    "corr = signal.correlate(sig, sig_noise)#obtenemos la correlación\n",
    "#corr /= np.max(corr) #normalizamos los valores\n",
    "lags = signal.correlation_lags(len(sig), len(sig_noise))#calcula los índices de la correlación cruzada 1-D entre dos señales\n",
    "#lags = own_correlation_lags(len(sig), len(sig_noise))#calcula los índices de la correlación cruzada 1-D entre dos señales\n",
    "\n",
    "##Repetimos lo mismo con la señal que es solo ruido\n",
    "corr2 = signal.correlate(sig, only_noise)#obtenemos la correlación\n",
    "#corr2 /= np.max(corr2) #normalizamos los valores\n",
    "lags2 = signal.correlation_lags(len(sig), len(only_noise))#calcula los índices de la correlación cruzada 1-D entre dos señales\n",
    "#lags2 = own_correlation_lags(len(sig), len(only_noise))#calcula los índices de la correlación cruzada 1-D entre dos señales\n",
    "\n",
    "\n",
    "\n",
    "plot_stem(lags,corr, title=\"correlacion señal vs señal ruidosa\", view_baseline=True)\n",
    "plot_stem(lags2,corr2, title=\"correlacio señal vs ruido\", view_baseline=True)\n"
   ]
  },
  {
   "cell_type": "markdown",
   "id": "6a30969f",
   "metadata": {},
   "source": [
    "## Autocorrelación \n",
    "\n",
    "* La <b>autocorrelación</b> es la correlación cruzada de una señal consigo misma (desplazada)\n",
    "\n",
    "* Es útil, por ejemplo para encontrar patrones repetitivos de una señal enmascarada bajo el ruido\n",
    "\n",
    "* La autocorrelación se define como:\n",
    "    \n",
    "    $r_{xx}[l]=\\sum\\limits_{n=-\\infty}^{\\infty}x[n]y[n-l], ~~~~~~l=0, \\pm1, \\pm2, ...$\n",
    "    \n",
    "    \n",
    "Fijándonos en la fórmula podemos ver que la autocorrelación en $n=0$ toma el valor máximo y representa la energía de la señal \n",
    "    \n",
    "   \n",
    "### Ejemplo de autocorrelación\n",
    "   \n",
    "Creamos una señal aleatorio y la repetimos para generar una señal periódica. Al resultado le añadimos ruido para representar una señal real"
   ]
  },
  {
   "cell_type": "code",
   "execution_count": null,
   "id": "18952c25",
   "metadata": {},
   "outputs": [],
   "source": [
    "##autocorrelación\n",
    "\n",
    "periodo=np.random.randint(15,20)#el tamaño del período es aleatorio\n",
    "sig_auto=[ np.random.randint(10) for i in range(periodo)]*10 #\n",
    "sig_auto_noise=sig_auto+ np.random.randn(len(sig_auto))"
   ]
  },
  {
   "cell_type": "markdown",
   "id": "64b0e4ee",
   "metadata": {},
   "source": [
    "Es importante destacar que no siempre es fácil ver la periocidad de la señal gráficamente. Vamos a dibujar la señal crear para ejemplificar esto último. <b>¿Puedes ver a simple vista el periodo?</b>"
   ]
  },
  {
   "cell_type": "code",
   "execution_count": null,
   "id": "c62ada38",
   "metadata": {},
   "outputs": [],
   "source": [
    "plot_stem(range(len(sig_auto_noise)),sig_auto_noise, title=\"señal con ruido\")"
   ]
  },
  {
   "cell_type": "markdown",
   "id": "e6fc79e5",
   "metadata": {},
   "source": [
    "Vamos a calcular la correlación y comprobar si los resultados coinciden con el valor de la variable *periodo*"
   ]
  },
  {
   "cell_type": "code",
   "execution_count": null,
   "id": "f7d88a4a",
   "metadata": {},
   "outputs": [],
   "source": [
    "corr = signal.correlate(sig_auto_noise, sig_auto_noise)#obtenemos la autocorrelación\n",
    "corr /= np.max(corr) #normalizamos los valores\n",
    "lags = signal.correlation_lags(len(sig_auto_noise), len(sig_auto_noise))#calcula los índices de la correlación cruzada 1-D entre dos señales\n",
    "\n",
    "#voy a mostrar solo los 50 índices positivos primeros para que la gráfica sea más clara\n",
    "plot_stem(lags[list(lags).index(0):list(lags).index(0)+50],corr[list(lags).index(0):list(lags).index(0)+50], title=\"autocorrelacion normalizada\")\n",
    "print(\"El período empleada es {0}. ¿Puedes ver ese período en la gráfica?\".format(periodo))\n",
    "\n",
    " \n",
    "    \n"
   ]
  },
  {
   "cell_type": "markdown",
   "id": "6e23ac44",
   "metadata": {},
   "source": [
    "## Ejercicios\n",
    "\n",
    "<span style='background:yellow' ><b>Ejercicio</b></span>\n",
    "\n",
    "Tal y como se comentaba anteriormente, el algoritmo de la correlación cruzada es muy parecido al de la convolución. Para comprobarlo teneis que  emplear el algoritmo que implementamos en la práctica anterior para la convolución y adaptarlo levemente para que pueda ser empleado en la correlación cruzada\n"
   ]
  },
  {
   "cell_type": "code",
   "execution_count": null,
   "id": "3d305686",
   "metadata": {},
   "outputs": [],
   "source": [
    "##Os dejo mi implementación de la convolución pero aquí iría la vuestra\n",
    "def op_convolucion(x,h):\n",
    "     \n",
    "     elementos_x=len(x)\n",
    "     elementos_h=len(h)   \n",
    "     elementos_conv=elementos_x+elementos_h-1#el número de valores de la convolución\n",
    "             \n",
    "     #creo la matriz x con tantas filas como elementos de la convolución y tantas columnas como elementos de h   \n",
    "     mat_x=np.mat(np.array([np.concatenate(([0]*i, x,[0]*(elementos_conv-(elementos_x+i)) ))for i in range(elementos_h)])).transpose()\n",
    "    \n",
    "     #creo la matriz h\n",
    "     mat_h=np.mat(np.array(h)).transpose()\n",
    "     #multiplico las matrices y lo convierto en lista para devolverlo\n",
    "     return (mat_x*mat_h).transpose().tolist()[0]\n",
    "\n",
    "\n",
    "def mi_convolucion(x,ind_x, h, ind_h):\n",
    "    muestras=np.arange(ind_x[0]+ind_h[0], ind_x[1]+ind_h[1]+1)#Gestiono los índices reales de la convolución\n",
    "    sum_conv= op_convolucion(x,h)#Llamo a la operación de convolución\n",
    "    return muestras, sum_conv\n",
    "    \n",
    "    "
   ]
  },
  {
   "cell_type": "code",
   "execution_count": null,
   "id": "cccd86d2",
   "metadata": {},
   "outputs": [],
   "source": [
    "#Ajusto los índices para que se visualice como en la operación de correlación\n",
    "#y demostrar que obtenemos lo mismo\n",
    "muestras, corr = mi_convolucion(sig,(-signal_size//2,signal_size//2),sig_noise[::-1],(-signal_size//2,signal_size//2) )#obtenemos la correlación\n",
    "plot_stem(muestras,corr)  \n",
    "   "
   ]
  },
  {
   "cell_type": "markdown",
   "id": "c0211ed6",
   "metadata": {},
   "source": [
    "\n",
    "<span style='background:yellow' ><b>Ejercicio</b></span>\n",
    "\n",
    "<b>Estimación del tiempo de retardo en las señales de radar</b>\n",
    "\n",
    "Vamos a simular que mandamos una señal de radar y que recibimos una respuesta. Recordamos que, si existe un blanco, la señal recibida estará formada por una versión retrasada de la señal transmitida, reflejada desde el blanco, y distorsionada por efecto del ruido aditivo.\n",
    "\n",
    "$y[n]=ax[n-D] + v[n]$\n",
    "\n",
    "Si no existe blanco la señal será solo ruido.\n",
    "\n",
    "Teniendo 2 señales,  el problema de la detección del radar consiste en comparar $x[n]$ e $y[n]$ para saber si existe blanco y en caso afirmativo determinar el tiempo de retardo para saber la distancia al blanco\n",
    "\n",
    "En este ejercicio vamos a emitir una <b>secuencia de Barker</b> de 13-puntos\n",
    "\n",
    "$x[n]=\\{+1,+1,+1,+1,+1,-1,-1,+1,+1,-1,+1,-1,+1\\}$\n",
    "\n",
    "\n",
    "Las secuencias o códigos Barker del tipo binario están compuestas por una sucesión de –1’s y +1’s de una longitud finita, tal que <b>su función de autocorrelación cumple que $r_{xx}[l] =< 1 $ para todo $l\\ne 0$ </b>\n",
    "\n",
    "\n",
    "El ruido ($v[n]$) estará formado por una secuencia aleatoria gaussiana con media igual a cero y $\\sigma^2=0.01$\n",
    "\n",
    " \n",
    "<code>sigma * np.random.randn(...) + mu</code>\n",
    "\n",
    "o\n",
    "\n",
    "<code>np.random.normal(mu,sigma, size)</code>\n",
    "\n",
    "\n",
    "La atenuación será de 0.9 y el retardo de 20\n",
    "\n",
    "1. Crea una secuencia Barker de 13 puntos. Calcula y visualiza  su autocorrelación para comprobar sus propiedades\n",
    "2. Crea el código necesario para simular la emisión/recepción de una secuencia arbitraria en un radar. Necesitareis una función *transmision* que convierta la señal emitida en $y[n]$\n",
    "    * <code>def transmision(signal, mu_ruido=0, varianza=0.01, atenuacion=0.9, retardo=20, target=True):</code>\n",
    "    * Si *target*=True, entonces la señal original viene de vuelta tras encontrar un blanco (con ruido, atenuada y retrasada), en caso contrario recibiremos solo ruido.\n",
    "    * *retardo*: identifica el desplazamiento entre la señal enviada y la recuperada. Ej. si definimos un retardo de 20 muestras, la señal emitida tardará 20 muestras en recuperarse po lo que  las primeras 20 muestras de $y$ serán ruido y a continuación vendrá la señal reflejada\n",
    "    * La función devolverá tantas muestras como se han enviado. Ej. con retardo 3 y SIN ruido NI atenuación\n",
    "        * x[n]=\\{+1,+1,+1,+1,+1,-1,-1,+1,+1,-1,+1,-1,+1\\,0,0,0,0,0}\n",
    "        * y[n]=\\{0,0,0,+1,+1,+1,+1,+1,-1,-1,+1,+1,-1,+1,-1,+1\\,0,0}\n",
    "    \n",
    "3. Crea una secuencia $x$ para enviar basada en la secuencia de Barker en el rango $0<=n<=100$\n",
    "    * Cubrireis con ceros la parte de $x[n]$ no incluida en la secuencia de barker\n",
    "4. *Emite* la secuencia creada a través de la función desarrollada en el apartado anterior y recupera una señal $y$ en el rango $0<=n<=100$\n",
    "5. Dibuja en un mismo gráfico la señal enviada y la reflejada cuando se encuentra un blanco\n",
    "    * Para visualizar podéis emplear *seaborn* que es una librería más sencilla de utilizar que matplotlib y con muchas opciones gráficas (consultar api en seaborn.pydata.org/). Para mostrar 2 señales en la misma gráfica podeis usar este código\n",
    "     ```python \n",
    "import seaborn as sns\n",
    "import matplotlib.pyplot as plt\n",
    "f, ax = plt.subplots()\n",
    "ax=sns.lineplot(x=range(len(x)), y=x, ax=ax)\n",
    "sns.lineplot(x=range(len(x)), y=rdo, ax=ax)\n",
    "plt.show()\n",
    "    ```\n",
    "    \n",
    "4. Calcula y dibuja la correlación cruzada $r_{xy}[l]$\n",
    "    * ¿Puedes encontrar facilmente el retardo en la gráfica?\n",
    "    * Compara con el caso de que el radar no encuentre blanco y obtenga solo ruido\n",
    "\n",
    " \n",
    "5. Repite los ejercicios para $\\sigma^2=0.1$ y  $\\sigma^2=1$\n",
    "    * ¿Qué ocurre?\n",
    "    \n",
    "\n",
    "    "
   ]
  },
  {
   "cell_type": "code",
   "execution_count": null,
   "id": "2f3e6e06",
   "metadata": {},
   "outputs": [],
   "source": [
    "#ej1\n",
    "    \n",
    "#Creo la secuencia de barker\n",
    "x=[1,1,1,1,1,-1,-1,1,1,-1,1,-1,1]\n",
    "\n",
    "#calculo la autocorrelacion para la secuencia barker\n",
    "\n",
    "#Visualizo la autocorrelacion para la secuencia barker\n"
   ]
  },
  {
   "cell_type": "code",
   "execution_count": null,
   "id": "fbb48c23",
   "metadata": {},
   "outputs": [],
   "source": [
    "#ej2\n",
    "#Codigo para transmitir y una función para extender con ceros cualquier señal arbitraria\n",
    "def transmision(signal, mu_ruido=0, varianza=0.01, atenuacion=0.9, retardo=20,target=True):\n",
    "    pass\n",
    "\n",
    "#Podéis crear una función que extienda una función hasta un número de muestras con ceros por comodidad\n",
    "def extend_signal_zeros(signal, n):\n",
    "    pass"
   ]
  },
  {
   "cell_type": "code",
   "execution_count": null,
   "id": "c3aff31e",
   "metadata": {},
   "outputs": [],
   "source": [
    "##Ej3. Emision de la señal\n",
    "#extiendo una secuencia Barker\n",
    "size_signal=100\n",
    "emit_signal=extend_signal_zeros(x,size_signal)\n",
    "\n",
    "#Emito la señal y encuentro un target\n",
    "rdo_target=transmision(emit_signal)\n",
    "#rdo_target=transmision(emit_signal, varianza=0.1)\n",
    "#rdo_target=transmision(emit_signal, varianza=1)\n",
    "\n",
    "#Emito la señal y NO encuentro un target\n",
    "rdo_noise=transmision(emit_signal, target=False)\n",
    "#rdo_noise=transmision(emit_signal, varianza=0.1,target=False)\n",
    "#rdo_noise=transmision(emit_signal, varianza=1,target=False)\n"
   ]
  },
  {
   "cell_type": "code",
   "execution_count": null,
   "id": "06e0dd84",
   "metadata": {},
   "outputs": [],
   "source": [
    "#Ej4. Dibujo en un gráfico la secuencia enviada y la reflejada con seaborn\n",
    "f, ax = plt.subplots()\n",
    "ax=sns.lineplot(x=range(len(emit_signal)), y=emit_signal, ax=ax)\n",
    "sns.lineplot(x=range(len(emit_signal)), y=rdo_target, ax=ax)\n",
    "plt.title(\"Correlación señal enviada  - señal reflejada TARGET=True\")\n",
    "plt.show()\n",
    "\n",
    "f, ax = plt.subplots()\n",
    "ax=sns.lineplot(x=range(len(emit_signal)), y=emit_signal, ax=ax)\n",
    "sns.lineplot(x=range(len(emit_signal)), y=rdo_noise, ax=ax)\n",
    "plt.title(\"Correlación señal enviada  - señal reflejada TARGET=False\")\n",
    "plt.show()"
   ]
  },
  {
   "cell_type": "code",
   "execution_count": null,
   "id": "d3f8382d",
   "metadata": {},
   "outputs": [],
   "source": [
    "#Calculo la correlación cruzada entre la señal emitida y la recibida con TARGET\n",
    "\n",
    "\n",
    "\n",
    "#Visualizo la señal\n",
    "\n",
    "\n",
    "\n",
    "#Calculo la correlación cruzada entre la señal emitida y la recibida con RUIDO\n",
    "\n",
    "\n",
    "\n",
    "#Visualizo la señal\n",
    "\n",
    "\n",
    "\n"
   ]
  },
  {
   "cell_type": "markdown",
   "id": "bbdfd525",
   "metadata": {},
   "source": [
    "<span style='background:yellow' ><b>Ejercicio</b></span>\n",
    "\n",
    "Desarrolla las siguientes secuencias y calcula y visualiza las siguientes correlaciones: $r_{xx}[l]$ y $r_{xy}[l]$ \n",
    "\n",
    "\n",
    " $x[n] = \\left \\{ \\begin{matrix} 1, & n_0-N<=n<=n_0+N\n",
    "\\\\ 0 & en~otro~caso\\end{matrix}\\right.$ \n",
    "\n",
    "\n",
    "\n",
    " $y[n] = \\left \\{ \\begin{matrix} 1, & -N<=n<=N\n",
    "\\\\ 0 & en~otro~caso\\end{matrix}\\right.$ \n",
    "\n",
    "\n",
    "\n",
    "\n",
    "<b>Nota</b> En este tipo de ejercicios **la idea es crear las funciones parametrizadas** que permitan hacer estos cálculos variando los argumentos. Para comparar podeis tomar $N=10$ y representar una señal entre $-30<=n<=30$. \n",
    "\n",
    "<b>Nota 2</b>: Para hacerlo más general podemos poner $n_0$ como un parámetro de la función. Para comparar tomaremos  $n_0$ como la primera muestra temporal de la secuencia de x[n] (ej. -30)\n"
   ]
  },
  {
   "cell_type": "code",
   "execution_count": null,
   "id": "c734cdbb",
   "metadata": {},
   "outputs": [],
   "source": [
    "def createx(muestras, N=10,n0=0):\n",
    "    pass\n",
    "\n",
    "\n",
    "def createy(muestras, N=10):       \n",
    "    pass\n",
    "\n",
    "\n",
    "\n",
    "muestras=np.arange(-30,30)\n",
    "\n",
    "\n",
    "#Crea y visualiza las correlaciones\n",
    "\n",
    "\n",
    "\n"
   ]
  },
  {
   "cell_type": "markdown",
   "id": "a2c47d6c",
   "metadata": {},
   "source": [
    "<span style='background:yellow' ><b>Ejercicio</b></span>\n",
    "Calcula la autocorrelación para las siguientes señales \n",
    "\n",
    "* $x[n]=\\{\\underrightarrow{1},2,1,1\\}$\n",
    "* $x1[n]=\\{\\underrightarrow{1},1,2,1\\}$\n",
    "\n",
    "\n",
    "* ¿Qué puedes concluir?\n",
    "\n"
   ]
  },
  {
   "cell_type": "code",
   "execution_count": null,
   "id": "d4cdfcf1",
   "metadata": {},
   "outputs": [],
   "source": [
    "x=[1,2,1,1]\n",
    "x1=x[::-1]\n",
    "\n"
   ]
  },
  {
   "cell_type": "markdown",
   "id": "14643a39",
   "metadata": {},
   "source": [
    "<span style='background:yellow' ><b>Ejercicio</b></span>\n",
    "\n",
    "Una señal de audio $s(t)$ generada por un altavoz se refleja en dos paredes diferentes con coeficientes de reflexión $r_1$ y $r_2$. La señal registrada por un micrófono próximo al altavoz, después del muestreo, es: \n",
    "\n",
    "$y[n]= s[n]+r_1s[n−k_1]+r_2s[n−k_2]$ .\n",
    "\n",
    "donde $s[n]$ es la señal original muestreada,  k1 y k2 son los retardos de los dos ecos y $r_1$ y $r_2$ los coeficientes de reflexión\n",
    "\n",
    "* Implementar las funciones necesarias para crear el escenario descrito\n",
    "    * Podeis usar el *mensaje.wav* de la primera práctica\n",
    "    * Se necesitará una función para crear ecos\n",
    "    <code>\n",
    "        def eco(signal, r, k):\n",
    "    </code>\n",
    "    * Se necesitará una función que simule el resultado de transmitir el audio, Esta función recibirá como argumento la señal original y con ella creará los 2 ecos y devolverá la suma las tres señales\n",
    "\n",
    "* Determinar la correlación $r_{sy}$\n",
    "    * Aplicad un resample de la señal para poder \"ver\" algo en la gráfica\n",
    "    <code>\n",
    "    muestreado=signal[0:len(signal):500]\n",
    "    </code>\n",
    "  \n",
    "    * Analizar la correlación ¿Se puede sacar información sobre $r_1$, $r_2$, $k_1$ y $k_2$ observando la gráfica?\n",
    "   "
   ]
  },
  {
   "cell_type": "code",
   "execution_count": null,
   "id": "d7433d77",
   "metadata": {},
   "outputs": [],
   "source": [
    "\n",
    "\n",
    "def eco(signal, r, k):\n",
    "     pass\n",
    "\n",
    "def transmision(signal, r1,r2, k1,k2):\n",
    "    pass\n",
    "\n",
    "#argumentos\n",
    "r1=0.6\n",
    "r2=0.5\n",
    "k1=int(len(digital)*0.1) #defino el retardo a través de un porcentaje\n",
    "k2=int(len(digital)*0.2) #defino el retardo a través de un porcentaje\n",
    "\n",
    "#Cargamos un mensaje de voz\n",
    "rate, s = wavfile.read('mensaje.wav') #Return the sample rate (in samples/sec) and data from an LPCM WAV file\n",
    "# Rescalado simple de la señal,\n",
    "norm = 1.0 / max(np.absolute([min(s), max(s)]))\n",
    "analogica = 100.0 * s * norm\n",
    "#discretización de los valores para la señal digital\n",
    "digital = np.round(analogica)\n",
    "\n",
    "plt.plot(digital);\n",
    "plt.title(\"Señal de voz\")\n",
    "plt.show()\n",
    "rdo_eco=transmision(digital, r1=r1,r2=r2, k1=k1,k2=k2)\n",
    "\n",
    "\n",
    "plt.plot(rdo_eco);\n",
    "plt.title(\"Señal de voz con eco\")\n",
    "plt.show()\n",
    "IPython.display.Audio(rdo_eco, rate=rate)\n",
    "\n",
    "\n",
    "\n",
    "\n",
    "\n",
    "\n"
   ]
  },
  {
   "cell_type": "code",
   "execution_count": null,
   "id": "e3256158",
   "metadata": {
    "scrolled": true
   },
   "outputs": [],
   "source": [
    "#argumentos\n",
    "muestreado_digital=digital[0:len(digital):500]#hago un resample para poder visualizar mejor los datos\n",
    "k1=50\n",
    "k2=100\n",
    "rdo_eco=transmision(muestreado_digital,r1=r1,r2=r2, k1=k1,k2=k2)\n",
    "\n",
    "\n",
    "#Calcula y analiza la correlación"
   ]
  },
  {
   "cell_type": "markdown",
   "id": "20aa5d55",
   "metadata": {},
   "source": [
    "## Sistemas descritos mediante ecuaciones en diferencias con coeficientes constantes\n",
    "\n",
    "El comportamiento de muchos sistemas físicos puede describirse de acuerdo a una ecuación diferencial. Esto nos permite expresar la salida de un sistema en función de valores pasados de la propia salida.\n",
    "\n",
    "La relación que existe entre la entrada y la salida de un sistema descrito por una ecuación en diferencias lineal y con coeficientes constantes se expresa, en su forma general de la siguiente manera\n",
    "\n",
    "$y[n]=-\\sum\\limits_{n=1}^{N}a_k y[n-k] +\\sum\\limits_{n=0}^{M} b_kx[n-k]$\n",
    "\n",
    "\n",
    "La función [signal.lfilter](https://docs.scipy.org/doc/scipy/reference/generated/scipy.signal.lfilter.html) de scipy permite implementar dichas ecuaciones. La cabecera de la función es: *signal.lfilter(b, a, x, axis=- 1, zi=None)*\n",
    "* *a* es el vector con los valores correspondientes a las constantes $a_k, k=0..N$\n",
    "* *b* es el vector con los valores correspondientes a las constantes $b_k, k=0..M$\n",
    "* *x* es el vector de entrada\n",
    "* *zi* un vector opcional con las condiciones iniciales del sistema\n",
    "\n",
    "\n",
    "Para establecer las condiciones iniciales del sistema tenemos que crear el vector $zi$. Se puede realizar \"a mano\", si es sencillo, o se puede emplear la función   [signal.lfiltic](https://docs.scipy.org/doc/scipy/reference/generated/scipy.signal.lfiltic.html#scipy.signal.lfiltic) que permite establecer condiciones iniciales más complejas, incluyendo N y M entradas y salidas pasadas.\n",
    "\n",
    "<b>Nota</b>: Si se emplea el vector *zi* La función *lfilter* devuelve 2 resultados (2 arrays). El segundo contendrá información sobre los *delays* finales del sistema. \n",
    "\n"
   ]
  },
  {
   "cell_type": "markdown",
   "id": "486a1a2b",
   "metadata": {},
   "source": [
    "\n",
    "<span style='background:yellow' ><b>Ejercicio</b></span>\n",
    "\n",
    "Sea un sistema descrito por la ecuación:\n",
    "\n",
    "$y[n]=\\alpha y[n-1]+x[n]$\n",
    "\n",
    "* Sabiendo que este sistema es LIT, calcula (**empleando ecuaciones en diferencias con coeficientes constantes**)  40 muestras de la respuesta al impulso ($x[n=\\delta[n]$) para los siguientes casos:\n",
    "    * $\\alpha=1$ (para generar $h_1$)\n",
    "    * $\\alpha=0.5$ (para generar $h_2$)\n",
    "    * $\\alpha=1.1$ (para generar $h_2$) \n",
    "    * **Tened cuidado con los signos en los vectores** *a* y *b* de la función \n",
    "    * Visualiza los resultados\n",
    "    \n",
    "    \n",
    "* Supongamos ahora que la entrada es: $x[n]=e^{-0.5n}u[n]$ . \n",
    "    * Calcula las salidas para cada uno de los sistemas del apartado anterior\n",
    "    * Emplead *np.exp()*\n",
    "\n",
    "\n",
    "* Evalua y representa la salida del sistema para la entrada $x[n]$ imponiendo la condición inicial $y[-1]=0.5$ y asignando el valor  $\\alpha=0.5$\n",
    "    * Usad signal.lfiltic para crearlo\n",
    "\n",
    "\n"
   ]
  },
  {
   "cell_type": "code",
   "execution_count": null,
   "id": "72dade30",
   "metadata": {},
   "outputs": [],
   "source": [
    "def create_impulso(muestras):\n",
    "    pass\n",
    "\n",
    "\n",
    "muestras=np.arange(40)\n",
    "x=create_x(muestras)\n",
    "impulso=create_impulso(muestras)\n",
    "\n",
    "#Crea la respuesta impulsional H1 con  signal.lfilter \n",
    "#Crea la respuesta impulsional H2 con  signal.lfilter \n",
    "#Crea la respuesta impulsional H3 con  signal.lfilter \n",
    "\n",
    "\n",
    "\n",
    "\n",
    "\n",
    "\n",
    "\n"
   ]
  },
  {
   "cell_type": "code",
   "execution_count": null,
   "id": "fdcc59ed",
   "metadata": {},
   "outputs": [],
   "source": [
    "\n",
    "def create_x(muestras):\n",
    "    pass\n",
    "\n",
    "#Dada la entrada x[n], calcula las salidas para cada uno de los sistemas del apartado anterior\n",
    "\n",
    "\n"
   ]
  },
  {
   "cell_type": "code",
   "execution_count": null,
   "id": "0280deb4",
   "metadata": {},
   "outputs": [],
   "source": [
    "\n",
    "##Evalua y representa la salida del sistema para la entrada 𝑥[𝑛]  Con condiciones iniciales\n",
    "#Emplead signal.lfiltic para construir zi"
   ]
  }
 ],
 "metadata": {
  "kernelspec": {
   "display_name": "Python 3",
   "language": "python",
   "name": "python3"
  },
  "language_info": {
   "codemirror_mode": {
    "name": "ipython",
    "version": 3
   },
   "file_extension": ".py",
   "mimetype": "text/x-python",
   "name": "python",
   "nbconvert_exporter": "python",
   "pygments_lexer": "ipython3",
   "version": "3.8.5"
  }
 },
 "nbformat": 4,
 "nbformat_minor": 5
}
