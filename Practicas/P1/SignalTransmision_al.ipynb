{
 "cells": [
  {
   "cell_type": "markdown",
   "id": "sharing-driver",
   "metadata": {},
   "source": [
    "<b>Nota</b>: este Notebook está basado en una práctica desarrollada en un curso de DSP por la \n",
    "École Polytechnique Fédérale de Lausanne ‐ EPFL"
   ]
  },
  {
   "cell_type": "markdown",
   "id": "bigger-reward",
   "metadata": {},
   "source": [
    "\n",
    "# Transmisión digital vs analógica\n",
    "\n",
    "\n",
    "En este Notebook exploraremos las ventajas de la transmisión digital sobre la transmisión analógica, tal y como vimos en el tema de Introducción. Consideraremos un escenario en el que necesitamos transmitir datos a larga distancia (ej. a través de un cable transoceánico) por lo que es necesario tener diferentes repetidores. \n",
    "\n",
    "\n",
    "\n",
    "Recuerda que al mandar la señal por cada segmento de cable (canal) se introducirá una atenuación de $ 1 / G $ y un ruido  aditivo. Podemos compensar la atenuación con un repetidor con ganancia $ G $ pero el ruido también se amplificará de modo que, después de $ N $ repetidores, el ruido se habrá amplificado $ N $ veces:\n",
    "\n",
    "$$\n",
    "    \\hat{x}_N(t)  = x(t) + NG\\sigma(t)\n",
    "$$\n",
    "\n",
    "![Esquema transmision analógica](./transmision_analogica.png)\n",
    "\n",
    "\n",
    "\n",
    "\n",
    "Al emplear señales digitales podremos añadir funciones de umbralización después de cada repetidor para eliminar el ruido en cada etapa por \"software\". Empleando este esquema la señal llegaría a destino sin ruido.\n",
    "\n",
    "$$\n",
    "    \\hat{x}(t)  = sgn[x(t) + G\\sigma(t)]\n",
    "$$\n",
    "\n",
    "\n",
    "![Esquema transmision digital](./transmision_digital.png)"
   ]
  },
  {
   "cell_type": "code",
   "execution_count": null,
   "id": "decimal-clear",
   "metadata": {},
   "outputs": [],
   "source": [
    "#librerias necesarias para la práctica\n",
    "%matplotlib inline \n",
    "import matplotlib.pyplot as plt\n",
    "import numpy as np\n",
    "import IPython\n",
    "from scipy.io import wavfile\n",
    "plt.rcParams[\"figure.figsize\"] = (14,4) #dimensiones por defecto al plotear (width, height)"
   ]
  },
  {
   "cell_type": "code",
   "execution_count": null,
   "id": "fatal-sierra",
   "metadata": {},
   "outputs": [],
   "source": [
    "#Cargamos un mensaje de voz\n",
    "rate, s = wavfile.read('mensaje.wav') #Return the sample rate (in samples/sec) and data from an LPCM WAV file\n",
    "plt.plot(s)\n",
    "IPython.display.Audio(s, rate=rate)\n"
   ]
  },
  {
   "cell_type": "markdown",
   "id": "steady-design",
   "metadata": {},
   "source": [
    "## La señal analógica y la señal digital ##\n",
    "\n",
    "Crearemos una versión digital y otra analógica de la señal para nuestro experimento. Obviamente la señal analógica no será auténtica, ya que estamos en un dispositivo digital, será una simulación muy sencilla asumiendo que empleando valores en punto flotante tenemos precisión infinita. En la versión digital tendremos una señal discretizada con valores entre -100 y 100 (aprox. 8 bits por muestra)\n",
    "\n"
   ]
  },
  {
   "cell_type": "code",
   "execution_count": null,
   "id": "collectible-harbor",
   "metadata": {},
   "outputs": [],
   "source": [
    "# Rescalado simple de la señal, entre -100 y 100 con valores 'analógicos'\n",
    "norm = 1.0 / max(np.absolute([min(s), max(s)]))\n",
    "analogica = 100.0 * s * norm\n",
    "print(analogica[:50])\n",
    "plt.plot(analogica)\n",
    "plt.show()\n",
    "#discretización de los valores para la señal digital\n",
    "digital = np.round(analogica)\n",
    "print(digital[:50])\n",
    "plt.plot(digital)\n",
    "plt.show()\n"
   ]
  },
  {
   "cell_type": "markdown",
   "id": "honest-retrieval",
   "metadata": {},
   "source": [
    "### Discretización de valores\n",
    "La discretización de valores lleva asociada una pérdida de calidad que es el precio que tenemos que pagar por transmitir las señales digitales. Podemos minimizar la pérdida de calidad empleando más bits por muestra.\n",
    "\n",
    "\n",
    "Si ploteamos la diferencia entre ambas señales veremos que está entre -0.5 y 0.5. Esto es por el redondeo del número real al entero."
   ]
  },
  {
   "cell_type": "code",
   "execution_count": null,
   "id": "explicit-lobby",
   "metadata": {},
   "outputs": [],
   "source": [
    "plt.plot(analogica-digital)"
   ]
  },
  {
   "cell_type": "markdown",
   "id": "chief-certification",
   "metadata": {},
   "source": [
    "### Signal Noise Rate\n",
    "La relación señal/ruido (<b>SNR</b>) se define como la proporción existente entre la potencia de la señal que se transmite y la potencia del ruido que la corrompe. Este valor suele expresarse en forma logarítmica, normalmente en decibelios. Menor SNR, menor calidad"
   ]
  },
  {
   "cell_type": "code",
   "execution_count": null,
   "id": "scheduled-applicant",
   "metadata": {},
   "outputs": [],
   "source": [
    "\n",
    "def SNR(final, original):\n",
    "    # potencia del error\n",
    "    ruido = np.linalg.norm(original-final)\n",
    "    # potencia de la señal\n",
    "    sig = np.linalg.norm(original)\n",
    "    # SNR en decibelios\n",
    "    return 10 * np.log10(sig/ruido)\n",
    "\n",
    "\n",
    "print(\"SNR:  {0} dB\".format(SNR(digital, analogica)))\n"
   ]
  },
  {
   "cell_type": "markdown",
   "id": "colonial-bruce",
   "metadata": {},
   "source": [
    "¿Puedes notar la diferencia entre la señal \"analógica\" y la \"digital\"?"
   ]
  },
  {
   "cell_type": "code",
   "execution_count": null,
   "id": "pregnant-parcel",
   "metadata": {},
   "outputs": [],
   "source": [
    "IPython.display.Audio(analogica, rate=rate)"
   ]
  },
  {
   "cell_type": "code",
   "execution_count": null,
   "id": "satisfied-exhaust",
   "metadata": {},
   "outputs": [],
   "source": [
    "IPython.display.Audio(digital, rate=rate)"
   ]
  },
  {
   "cell_type": "markdown",
   "id": "antique-bristol",
   "metadata": {},
   "source": [
    "## Transmisión de la señal \n",
    "\n",
    "Necesitamos definir una función que represente el efecto de transmitir la señal por un segmento del cable en el que se produzcan los siguientes efectos\n",
    "* La señal es atenuada\n",
    "* La señal acumula ruido\n",
    "* La señal es amplificada por un repetidor para compensar la atenuación\n",
    "\n"
   ]
  },
  {
   "cell_type": "code",
   "execution_count": null,
   "id": "hazardous-joyce",
   "metadata": {},
   "outputs": [],
   "source": [
    "def transmission(signal, amplitud_ruido, factor_atenuacion):\n",
    "    nsignal=signal.copy()\n",
    "    # escribir el código\n",
    "    # Atenuamos la señal\n",
    "    # Creamos el ruido. Se puede usar la función np.random.uniform\n",
    "    # Añadimos el ruido\n",
    "    # Compensamos la atenuación \n",
    "    # Devolvemos la señal\n",
    "    return nsignal"
   ]
  },
  {
   "cell_type": "markdown",
   "id": "arctic-shore",
   "metadata": {},
   "source": [
    "### Transmisión de la señal  digital\n",
    "Para la señal digital necesitamos una función que genere una umbralización. En este caso tan sencillo podemos simplemente volver a repetir el proceso de \"digitalización\" que empleamos anteriormente\n"
   ]
  },
  {
   "cell_type": "code",
   "execution_count": null,
   "id": "eleven-soccer",
   "metadata": {},
   "outputs": [],
   "source": [
    "def signal_threshold(signal):\n",
    "    tsignal=signal.copy()\n",
    "    ##escribir el código para la umbralización\n",
    "    return tsignal"
   ]
  },
  {
   "cell_type": "markdown",
   "id": "smoking-alloy",
   "metadata": {},
   "source": [
    "### Transmision de las señales analógicas y digitales\n",
    "Ahora tenemos que transmitir las señales y ver la diferencia\n",
    "Tenemos que definir:\n",
    "* El número de segmentos que va a cruzar en nuestra comunicación transoceánica\n",
    "* Un valor de amplitud para el ruido (poned un valor pequeño menor que 0.3)\n",
    "* Un valor de atenuacion\n",
    "\n",
    "Posibles valores iniciales\n",
    "\n",
    "- SEGMENTOS = 70\n",
    "- AMPLITUD_RUIDO = 0.2\n",
    "- ATENUACION = 0.5\n"
   ]
  },
  {
   "cell_type": "code",
   "execution_count": null,
   "id": "precious-belief",
   "metadata": {},
   "outputs": [],
   "source": [
    "#definiciones necesarias para las funciones\n",
    "\n",
    "#las señales resultantes las almacenaremos en y_analogica e y_digital\n",
    "y_digital=y_analogica=None"
   ]
  },
  {
   "cell_type": "code",
   "execution_count": null,
   "id": "horizontal-department",
   "metadata": {},
   "outputs": [],
   "source": [
    "#En esta celda crearemos la transmision analogica\n",
    "#\n",
    "#\n",
    "#\n",
    "y_analogica= analogica.copy() if y_analogica is None else y_analogica# solo tiene sentido mientras no poneis vuestro código\n",
    "print ('Transmision analógica: SNR = %f dB' % SNR(y_analogica, analogica))    \n",
    "\n"
   ]
  },
  {
   "cell_type": "code",
   "execution_count": null,
   "id": "opponent-testimony",
   "metadata": {},
   "outputs": [],
   "source": [
    "#Prueba de la señal analógica\n",
    "plt.plot(y_analogica)\n",
    "IPython.display.Audio(y_analogica, rate=rate)"
   ]
  },
  {
   "cell_type": "code",
   "execution_count": null,
   "id": "inappropriate-resistance",
   "metadata": {},
   "outputs": [],
   "source": [
    "#En esta celda crearemos la transmision digital\n",
    "#\n",
    "#\n",
    "#\n",
    "y_digital= digital.copy() if y_digital is None else y_digital # solo tiene sentido mientras no poneis vuestro código\n",
    "print ('Transmision digital: SNR = %f dB' % SNR(y_digital, analogica)) "
   ]
  },
  {
   "cell_type": "code",
   "execution_count": null,
   "id": "detailed-russell",
   "metadata": {},
   "outputs": [],
   "source": [
    "#Prueba de la señal digital\n",
    "plt.plot(y_analogica)\n",
    "plt.plot(y_digital)\n",
    "plt.show()\n",
    "IPython.display.Audio(y_digital, rate=rate)"
   ]
  },
  {
   "cell_type": "markdown",
   "id": "dressed-falls",
   "metadata": {},
   "source": [
    "#### Ejercicio 1\n",
    "Dejando los valores de amplitud de ruido y de atenuación constantes, vamos a modificar los segmentos por los que se transmite probando de 1 a 150 y graficamos el SNR de la señal analógica y el de la digital para ver el efecto"
   ]
  },
  {
   "cell_type": "code",
   "execution_count": null,
   "id": "numerous-weekend",
   "metadata": {},
   "outputs": [],
   "source": [
    "#Analógica"
   ]
  },
  {
   "cell_type": "code",
   "execution_count": null,
   "id": "76209e0e",
   "metadata": {},
   "outputs": [],
   "source": [
    "#Digital"
   ]
  },
  {
   "cell_type": "markdown",
   "id": "bearing-russia",
   "metadata": {},
   "source": [
    "#### Ejercicio 2\n",
    "\n",
    "Dejando los valores de amplitud de ruido y de segmentos constantes (los iniciales) vamos a probar a introducir diferentes niveles de atenuación (entre 0 y 1) y ver el efecto en el SNR en las dos señales\n"
   ]
  },
  {
   "cell_type": "code",
   "execution_count": null,
   "id": "stuffed-offense",
   "metadata": {},
   "outputs": [],
   "source": [
    "#Analógica"
   ]
  },
  {
   "cell_type": "code",
   "execution_count": null,
   "id": "e3f2584d",
   "metadata": {},
   "outputs": [],
   "source": [
    "#Digital"
   ]
  },
  {
   "cell_type": "markdown",
   "id": "latter-merchandise",
   "metadata": {},
   "source": [
    "#### Ejercicio 3\n",
    "\n",
    "Dejando el resto de los valores constantes vamos a modificar la amplitud del ruido con valores entre 0 y 1 y ver su efecto a través del SNR en las señales. "
   ]
  },
  {
   "cell_type": "code",
   "execution_count": null,
   "id": "db8e7a50",
   "metadata": {},
   "outputs": [],
   "source": [
    "#Analógica"
   ]
  },
  {
   "cell_type": "code",
   "execution_count": null,
   "id": "167db46b",
   "metadata": {},
   "outputs": [],
   "source": [
    "#Digital"
   ]
  }
 ],
 "metadata": {
  "kernelspec": {
   "display_name": "Python 3",
   "language": "python",
   "name": "python3"
  },
  "language_info": {
   "codemirror_mode": {
    "name": "ipython",
    "version": 3
   },
   "file_extension": ".py",
   "mimetype": "text/x-python",
   "name": "python",
   "nbconvert_exporter": "python",
   "pygments_lexer": "ipython3",
   "version": "3.8.5"
  }
 },
 "nbformat": 4,
 "nbformat_minor": 5
}
