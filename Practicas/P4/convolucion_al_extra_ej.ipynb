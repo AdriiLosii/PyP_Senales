{
 "cells": [
  {
   "cell_type": "code",
   "execution_count": 2,
   "id": "215007f7",
   "metadata": {},
   "outputs": [],
   "source": [
    "#librerias necesarias para la práctica\n",
    "%matplotlib inline \n",
    "import matplotlib.pyplot as plt\n",
    "import numpy as np\n",
    "import IPython\n",
    "plt.rcParams[\"figure.figsize\"] = (14,4) #dimensiones por defecto al plotear (width, height)"
   ]
  },
  {
   "cell_type": "markdown",
   "id": "19bcc603",
   "metadata": {},
   "source": [
    "## Visualización \n",
    "\n",
    "Un gráfico típico que nos encontraremos en la teoría y en los libros es el de \"piruleta\" o stem (barras con un círculo encima). Este tipo de gráficos se pueden realizar facilmente con matplotlib.  Voy a dejar una función ya configurada que podeis modificar a vuestro gusto."
   ]
  },
  {
   "cell_type": "code",
   "execution_count": 11,
   "id": "3ba848f3",
   "metadata": {},
   "outputs": [],
   "source": [
    "#Este es un método de visualización muy básico para hacer pruebas\n",
    "def plot_stem( t , y, y_lim=None, view_baseline=False, title=None):\n",
    "    \"\"\"Función que configura y visualiza un gráfico stem \n",
    "\n",
    "       Parámetros:\n",
    "       t -- muestras de tiempo\n",
    "       y -- secuencia para visualizar\n",
    "       y_lim -- tupla de la forma (min, max) que establece los límites en el eje de ordenadas. Por defecto None\n",
    "       view_baseline -- Establece una línea horizontal en el eje de las x a la altura de  y=0 . Por defecto False\n",
    "\n",
    "    \"\"\"\n",
    "    markerline, stemlines, baseline = plt.stem(t, y,use_line_collection=True)\n",
    "    plt.setp(baseline, visible=view_baseline)\n",
    "    plt.setp(markerline, color=\"crimson\",markersize = 10)\n",
    "    plt.setp(stemlines, color=\"crimson\", linewidth = 4)\n",
    "    if 0 in t:\n",
    "        plt.axvline(x=0, linewidth=1,color=\"black\")\n",
    "    \n",
    "    plt.ylim(y_lim)\n",
    "    if title is not None:\n",
    "        plt.title(title)\n",
    "    plt.show()\n",
    "    \n",
    "    \n"
   ]
  },
  {
   "cell_type": "markdown",
   "id": "ef65906b",
   "metadata": {},
   "source": [
    "## Propiedades de Interconexión de los sistemas LTI\n",
    "\n",
    "\n",
    "Considerando la interconexión de sistemas LTI mostrado en la figura:\n",
    "* Obtén la respuesta impulso global en función de $h_1[n]$, $h_2[n]$, $h_3[n]$ y $h_4[n]$. \n",
    "  * $h_1[n]=\\delta[n] + 0.5\\delta[n-1]$\n",
    "  * $h_2[n]=0.5\\delta[n]-0.25\\delta[n-1]$\n",
    "  * $h_3[n]=2\\delta[n]$\n",
    "  * $h_4[n]=-2(0.5)^n u[n]$\n",
    "  \n",
    "\n",
    "* Visualiza los primeros 10 elementos de la respuesta impulsional.\n",
    "\n",
    "\n",
    "\n",
    "\n",
    "Para realizar este ejercicio es necesario tener en cuenta las <b>propiedades de interconexión de los sistemas LTI</b>\n",
    "\n",
    "![Esquema interconexión de sistemas LTI](interconexion.png)\n",
    "\n",
    "### Importante\n",
    "* En este ejercicio tendréis que desarrollar cada una de las señales que representan respuestas impulsionales de los subsistemas\n",
    "* Una vez generadas las respuestas impulsionales parciales, tendréis que aplicar las propiedades de interconexión de los sistemas LTI para las convoluciones y obtener la respuesta impulsional global\n",
    "    * Dado que os piden los 10 primeros elementos de la respuesta impulsional total, podéis crear  las respuestas parciales en el rango 0<=n<10 y así no tener que lidiar con los índices\n",
    "    * Si tenéis secuencias con un número de elementos diferentes, solo tenéis que operar sobre los comunes. Recordad que la función *zip* gestiona precisamente eso, solo crea tuplas con los elementos comunes\n",
    "   ```python \n",
    "#Si las listas tienen longitudes diferentes, solo se emparejan los comunes\n",
    "[a+b for a,b in zip(lista_a, lista_b)]\n",
    "     ```\n",
    "\n",
    "\n",
    "### Solución\n",
    "\n",
    "La respuesta impulsional del sistema total es un impulso $\\delta[n]$.\n",
    "\n",
    "h[n]={1,0,0,0,0,0,0,0,0,0}"
   ]
  }
 ],
 "metadata": {
  "kernelspec": {
   "display_name": "Python 3",
   "language": "python",
   "name": "python3"
  },
  "language_info": {
   "codemirror_mode": {
    "name": "ipython",
    "version": 3
   },
   "file_extension": ".py",
   "mimetype": "text/x-python",
   "name": "python",
   "nbconvert_exporter": "python",
   "pygments_lexer": "ipython3",
   "version": "3.8.5"
  }
 },
 "nbformat": 4,
 "nbformat_minor": 5
}
