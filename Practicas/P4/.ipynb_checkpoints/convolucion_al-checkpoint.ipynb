{
 "cells": [
  {
   "cell_type": "markdown",
   "id": "6a279307",
   "metadata": {},
   "source": [
    "# Sistemas Discretos Lineales Invariantes  con el Tiempo (LIT)\n",
    "\n",
    "<b>Nota</b>: Esta práctica corresponde al Tema 2 de la teoría. En ese tema podreis encontrar explicaciones más detalladas y ejemplos.\n",
    "\n",
    "\n",
    "Existen muchas aplicaciones de Procesado Digital de Señal en las que es necesario determinar el comportamiento de un sistema frente a una entrada arbitraria. Un ejemplo son las aplicaciones relacionadas con la geofísica en las que se llevan a cabo explosiones controladas (señal de entrada) para determinar la naturaleza del subsuelo (sistema) mediante el análisis de las señales de salida.\n",
    "\n",
    "\n",
    "Así,  los Sistemas Discretos pueden caracterizarse como una transformación u operador, $T\\left[·\\right]$, que modifica la secuencia de entrada para convertirla en la secuencia de salida. Teniendo en cuenta que cualquier señal puede expresarse como una combinación lineal de impulsos desplazados, la salida de un sistema discreto puede escribirse colmo:\n",
    "\n",
    "$y[n]=T\\left[x[n]\\right]=T\\left[\\sum\\limits_{n=-\\infty}^{\\infty} x[k]\\delta[n-k] \\right]$\n",
    "\n",
    "Partiendo de esta expresión poco puede saberse del comportamiento del sistema. Sin embargo, si se restringe el estudio a los sistemas LIT puede llegarse a conocer la respuesta del sistema ante cualquier señal de entrada arbitraria mediante la aplicación del *principio de superposición*  (propiedad de linealidad) y la propiedad de la *invarianza temporal*.\n",
    "\n",
    "\n",
    "Aplicando el principio de superposión  se puede obtener la siguiente expresión:\n",
    "\n",
    "$y[n]=\\sum\\limits_{n=-\\infty}^{\\infty} x[k]T\\left[\\delta[n-k]\\right]=\\sum\\limits_{n=-\\infty}^{\\infty} x[k]h[n,k]$\n",
    "\n",
    "donde $h[k,n]$ es la respuesta del sistema al impulso desplazado $\\delta[n-k]$.\n",
    "Además, si se considera la invarianza temporal tenemos que:\n",
    "\n",
    "$y[n]=\\sum\\limits_{n=-\\infty}^{\\infty} x[k]T\\left[\\delta[n-k]\\right]=\\sum\\limits_{n=-\\infty}^{\\infty} x[k]h[n-k]=x[n]*h[n]$\n",
    "\n",
    "\n",
    "donde $h[n]$ es la respuesta impulsiva del sistema (salida del sistema cuando la entrada es la secuencia $\\delta[n]$). <b>Al operador $*$ se le denomina convolución</b>. De la expresión anterior se puede concluir que para conocer la respuesta de un sistema LIT ante una entrada arbitraria unicamente se requiere conocer su respuesta impulsional Por lo tanto, el sistema LTI en reposo queda completamente caracterizado por un única función $h[n]$\n",
    "\n",
    "\n",
    "\n",
    "## Cálculo de la convolución\n",
    "\n",
    "Supongamos que queremos calcular la salida del sistema LIT en un instante $n=n_{0}$. Tal y como hemos visto, la respuesta vendrá dada por la expresión:\n",
    "$y[n_{0}]=\\sum\\limits_{n=-\\infty}^{\\infty} x[k]h[n_{0}-k]$\n",
    "\n",
    "Los pasos del algoritmo para calcular la convolución son:\n",
    "\n",
    "* <b>Reflexión</b>: se refleja $h[k]$ respecto a $k=0$ para obtener $h[-k]$\n",
    "* <b>Desplazamiento</b>: se desplaza $h[-k]$ una cantidad $n_{0}$ hacia la derecha si $n_{0}$ es positivo y al contrario si es negativo. Esta operación nos proporcionará $h[n_{0}-k]$\n",
    "* <b>Multiplicación</b>: multiplicamos $x[k]$ por $h[n_{0}-k]$, para obtener  $x[k]h[n_{0}-k]$\n",
    "* <b>Suma</b>: sumamos todos los productos anteriores para cualquier valor de k\n",
    "\n",
    "\n",
    "\n",
    "\n"
   ]
  },
  {
   "cell_type": "code",
   "execution_count": 1,
   "id": "68fcb144",
   "metadata": {},
   "outputs": [],
   "source": [
    "#librerias necesarias para la práctica\n",
    "%matplotlib inline \n",
    "import matplotlib.pyplot as plt\n",
    "import numpy as np\n",
    "import IPython\n",
    "from scipy import signal\n",
    "plt.rcParams[\"figure.figsize\"] = (14,4) #dimensiones por defecto al plotear (width, height)"
   ]
  },
  {
   "cell_type": "markdown",
   "id": "d923e240",
   "metadata": {},
   "source": [
    "## Visualización \n",
    "\n",
    "Un gráfico típico que nos encontraremos en la teoría y en los libros es el de \"piruleta\" o stem (barras con un círculo encima). Este tipo de gráficos se pueden realizar facilmente con matplotlib.  Voy a dejar una función ya configurada que podeis modificar a vuestro gusto."
   ]
  },
  {
   "cell_type": "code",
   "execution_count": 2,
   "id": "c0c149a4",
   "metadata": {},
   "outputs": [],
   "source": [
    "#Este es un método de visualización muy básico para hacer pruebas\n",
    "def plot_stem( t , y, y_lim=None, view_baseline=False, title=None):\n",
    "    \"\"\"Función que configura y visualiza un gráfico stem \n",
    "\n",
    "       Parámetros:\n",
    "       t -- muestras de tiempo\n",
    "       y -- secuencia para visualizar\n",
    "       y_lim -- tupla de la forma (min, max) que establece los límites en el eje de ordenadas. Por defecto None\n",
    "       view_baseline -- Establece una línea horizontal en el eje de las x a la altura de  y=0 . Por defecto False\n",
    "\n",
    "    \"\"\"\n",
    "    markerline, stemlines, baseline = plt.stem(t, y,use_line_collection=True)\n",
    "    plt.setp(baseline, visible=view_baseline)\n",
    "    plt.setp(markerline, color=\"crimson\",markersize = 10)\n",
    "    plt.setp(stemlines, color=\"crimson\", linewidth = 4)\n",
    "    if 0 in t:\n",
    "        plt.axvline(x=0, linewidth=1,color=\"black\")\n",
    "    \n",
    "    plt.ylim(y_lim)\n",
    "    if title is not None:\n",
    "        plt.title(title)\n",
    "    plt.show()\n",
    "    \n",
    "    \n"
   ]
  },
  {
   "cell_type": "markdown",
   "id": "492b7b0f",
   "metadata": {},
   "source": [
    "\n",
    "## Operación de convolución\n",
    "La operación de convolución está presente en el paquete de numpy (numpy.convolve). Obviamente, solo podremos utilizarla de forma directa sobre secuencias finitas.Vamos a probarla tomando como como ejemplo la siguiente secuencia de entrada y la respuesta impulsional del sistema:\n",
    "\n",
    "$x[n]=\\{\\underrightarrow{1},2,3,1\\}$\n",
    "\n",
    "$h[n]=\\{1,\\underrightarrow{2},1,-1\\}$\n",
    "\n",
    "<b>Nota</b>: la flecha indica la posición $n=0$\n",
    "\n",
    "\n"
   ]
  },
  {
   "cell_type": "markdown",
   "id": "09c0e9db",
   "metadata": {},
   "source": [
    "<span style='background:yellow' ><b>Ejercicio</b></span>: realiza la operación de convolución $y[n]=x[n]*h[n]$ y visualiza los resultados con la función *plt_stem*\n",
    "\n",
    "* <b>Nota</b>: La función convolve asume que las 2 secuencias empiezan en n=0. En este ejercicio aun no os preocupeis por esto."
   ]
  },
  {
   "cell_type": "code",
   "execution_count": null,
   "id": "34fe53fe",
   "metadata": {},
   "outputs": [],
   "source": [
    "#Implementación ejercicio"
   ]
  },
  {
   "cell_type": "markdown",
   "id": "d5f3e388",
   "metadata": {},
   "source": [
    "### Índices de la convolución\n",
    "\n",
    "Vamos a intentar solucionar el problema de los índices. Tal y como se comentaba en el apartado anterior, la operación *numpy.convolve* asume que los índices de las secuencias empiezan en $n=0$. Esto es bastante típico en las operaciones de convolución en la mayoría de los paquetes.\n",
    "\n",
    "La operación *numpy.convolve* no acepta información temporal para secuencias con soporte arbitrario. Necesitamos una forma de establecer un punto de inicio y otro de fin para la secuenca $y[n]$.\n",
    "\n",
    "\n",
    "Si establecemos lo siguiente:\n",
    "\n",
    "$x[n]; n_{xb}<=n<=n_{xe}$  \n",
    "\n",
    "$h[n]; n_{hb}<=n<=n_{he}$\n",
    "\n",
    "\n",
    "Entonces los índices temporales de $y[n]$ son: \n",
    "\n",
    "$n_{yb}=n_{xb}+n_{hb}$\n",
    "\n",
    "$n_{ye}=n_{xe}+n_{he}$\n",
    "\n",
    "\n",
    "Teniendo esta información podemos hacer una función a modo de  *wrapper* que recoja la información temporal de $x[n]$ y $h[n]$ (por ejemplo, como tuplas) junto con las secuencias correspondientes y devuelva  $y[n]$ y sus índices (podríamos devolver una tupla o directamente un array de enteros con *arange*).\n",
    "\n",
    "<span style='background:yellow' ><b>Ejercicio</b></span> desarrollad una función a modo de *wrapper* que llame a *numpy.convolve* pero que también gestione el soporte de las secuencias de entrada y de salida. \n",
    "\n",
    "* Pruébalo con las secuencias del ejercicio anterior\n",
    "* Prueba también las siguientes secuencias\n",
    "\n",
    "     $x[n]=\\{3,11,7,\\underrightarrow{0},-1,4,2\\} ~~~~~h[n]=\\{2,\\underrightarrow{3},0,-5,2,1\\}$\n",
    "\n",
    "\n",
    "\n",
    "\n"
   ]
  },
  {
   "cell_type": "code",
   "execution_count": null,
   "id": "48e3131e",
   "metadata": {
    "scrolled": true
   },
   "outputs": [],
   "source": [
    "#Implementación Ejercicio\n",
    "\n",
    "\n"
   ]
  },
  {
   "cell_type": "markdown",
   "id": "431ffa92",
   "metadata": {},
   "source": [
    "## Jugando con Plotly\n",
    "\n",
    "Plotly es una librería de visualización bastante útil para representar secuencias temporales y las relaciones entre ellas. A modo demostrativo y solo para para que la conozcais,  vamos a representar el resultado de una convolución.\n",
    "\n",
    "<b>Nota</b>: necesitáis el paquete de plotly. La máquina virtual ya lo tiene pero en caso de no tenerlo se instala con conda:\n",
    "\n",
    "<code> conda install plotly</code>\n",
    "\n",
    "<b>Nota2</b>: la función comentada \"convolve2\" es la que tenéis que implementar vosotros en el paso anterior (podéis usar otro nombre\n",
    "\n",
    "\n",
    "<span style='background:yellow' ><b>Ejercicio</b></span> Descomentar y ejecutar"
   ]
  },
  {
   "cell_type": "code",
   "execution_count": null,
   "id": "724a6613",
   "metadata": {},
   "outputs": [],
   "source": [
    "#import plotly.graph_objects as go\n",
    "\n",
    "#x=[1,2,3,1]\n",
    "#h=[1,2,1,-1]\n",
    "#muestras, y=convolve2(x,(0,3), h,(-1,2))#Esta es la función que teneis que implementar en el paso anterior\n",
    "#muestras_x=np.arange(len(x))\n",
    "#muestras_y=np.arange(-1,3)\n",
    "\n",
    "### Create traces\n",
    "#fig = go.Figure()\n",
    "#fig.add_trace(go.Scatter(x=muestras_x, y=x,\n",
    "#                    mode='lines+markers',\n",
    "#                    name='x[n]'))\n",
    "#fig.add_trace(go.Scatter(x=muestras_y, y=h,\n",
    "#                    mode='lines+markers',\n",
    "#                    name='h[n]'))\n",
    "#fig.add_trace(go.Scatter(x=muestras, y=y,\n",
    "#                    mode='lines+markers', name='y[n]'))\n",
    "\n",
    "#fig.show()"
   ]
  },
  {
   "cell_type": "markdown",
   "id": "d994ad58",
   "metadata": {},
   "source": [
    "## Implementación de la convolución\n",
    "\n",
    "Hemos visto que numpy tiene una operación para la convolución. Típicamente emplearemos paquetes para realizar las diferentes operaciones de DSP pero la implementación de nuestras propias operaciones nos puede ayudar a fijar los conceptos y algoritmos vistos en teoría, es por esto que vamos a realizar nuestra propia implementación de la operación de convolución, la cual podremos probar y comparar con la implementada en el paquete de numpy.\n",
    "\n",
    "Recordad los pasos para desarrollar el algoritmo:\n",
    "\n",
    "\n",
    "* <b>Reflexión</b>: se refleja $h[k]$ respecto a $k=0$ para obtener $h[-k]$\n",
    "* <b>Desplazamiento</b>: se desplaza $h[-k]$ una cantidad $n_{0}$ hacia la derecha si $n_{0}$ es positivo y al contrario si es negativo. Esta operación nos proporcionará $h[n_{0}-k]$\n",
    "* <b>Multiplicación</b>: multiplicamos $x[k]$ por $h[n_{0}-k]$, para obtener  $x[k]h[n_{0}-k]$\n",
    "* <b>Suma</b>: sumamos todos los productos anteriores para cualquier valor de k\n",
    "\n",
    "\n",
    "Por la implementación de *numpy.convolve* habeis visto que se puede partir de que las secuencias empiezan en $n=0$ y luego ajustar los índices de salida, lo que puede facilitar algunos cálculos"
   ]
  },
  {
   "cell_type": "markdown",
   "id": "1e058f2c",
   "metadata": {},
   "source": [
    "<b>Implementación propia</b>\n",
    "Se podría hacer de diferentes maneras, en esta implementación estoy buscando las siguientes multiplicaciones (ej. 2 secuencias de 4 elementos). La suma de los valores de cada fila es uno de los valores de la convolución. \n",
    "\n",
    "\n",
    "$x[k]={x_0, x_1,x_2, x_3}$\n",
    "\n",
    "\n",
    "$h[-k]={h_{-4},h_{-3},h_{-2},h_{-1}}$\n",
    "\n",
    "\n",
    "\n",
    "$$\\begin{equation*}\n",
    "\\mathbf{}\\left[\\begin{matrix}\n",
    "x(0) h(-1) & &\\\\ x(1) h(-1)& x(0) h(-2) & \\\\ x(2) h(-1) & x(1) h(-2) & x(0) h(-3) \n",
    "\\\\x(3) h(-1) &x(2) h(-2) & x(1) h(-3) & x(0) h(-4) \\\\ &x(3) h(-2) & x(2) h(-3) & x(1) h(-4)\n",
    "\\\\ & &  x(3) h(-2) & x(2) h(-4)\\\\ & &   & x(3) h(-4)\n",
    "\\end{matrix}\\right] \n",
    "\\end{equation*}\n",
    "$$\n",
    "\n",
    "\n",
    "Nota: La \"h\" está reflejada\n",
    "\n",
    "\n",
    "<span style='background:yellow' ><b>Ejercicio:</b></span> Desarrollad una función para convolucionar"
   ]
  },
  {
   "cell_type": "code",
   "execution_count": null,
   "id": "6f071115",
   "metadata": {},
   "outputs": [],
   "source": [
    "def convolucion(x,ind_x, h, ind_h):\n",
    "    #implementar la operación de convolución\n",
    "    pass\n",
    "\n"
   ]
  },
  {
   "cell_type": "markdown",
   "id": "730ab1f7",
   "metadata": {},
   "source": [
    "## Validación de la implementación\n",
    "\n",
    "Es interesante saber que en una operación de convolución se cumple lo siguiente:\n",
    "\n",
    "$y[n]=x[n]*h[n]$\n",
    "\n",
    "\n",
    "$\\sum_{y}=\\sum_{x}\\sum_{h}$, donde $\\sum_{x}=\\sum\\limits_{n=-\\infty}^{\\infty}x[n]$\n",
    "\n",
    "<span style='background:yellow' ><b>Ejercicio:</b></span>\n",
    "\n",
    "\n",
    "Calcula la convolución $y[n]=x[n]*h[n]$ con las siguientes señales y compruebe la corrección de los resultados con la prueba $\\sum_{y}=\\sum_{x}\\sum_{h}$\n",
    "\n",
    "\n",
    "<b>Nota</b> Si es posible intentadlo con vuestra implementación para validarla\n",
    "\n",
    "* $x[n]=\\{\\underrightarrow{1},2,4\\}; ~~ h[n]=\\{\\underrightarrow{1},1,1,1\\}$\n",
    "* $x[n]=\\{\\underrightarrow{0},1,4,-3\\}; ~~ h[n]=\\{\\underrightarrow{1},0,-1,-1\\}$ \n"
   ]
  },
  {
   "cell_type": "code",
   "execution_count": 1,
   "id": "a0f16e6d",
   "metadata": {},
   "outputs": [],
   "source": [
    "#Implementación del ejercicio"
   ]
  },
  {
   "cell_type": "markdown",
   "id": "999d15b8",
   "metadata": {},
   "source": [
    "## Diagrama de bloques y convolución\n",
    "\n",
    "Vamos a ver la potencia de las convoluciones de una forma clara con un sistema \"real\" representado por el siguiente diagrama de bloques\n",
    "\n",
    "![title](diagramaconv.png)\n",
    "\n",
    "\n",
    "<span style='background:yellow' ><b>Ejercicio:</b></span>\n",
    "* Implementa el sistema con los bloques básicos creados en la práctica anterior\n",
    "* Calcula las 10 primeras muestras de la respuesta del sistema al impulso (necesitamos crear una secuencia basada en el impulso de 10 elementos y pasársela al sistema como entrada)\n",
    "* Aplica al sistema la entrada $x[n]=\\{1,1,1,....\\}$ (todo unos) y calcula las 10 primeras muestras de salida \n",
    "* Calcula las 10 primeras muestras de salida para la entrada anterior empleando  la operación de convolución\n",
    "* Repetir los 2 últimos pasos con la entrada $x[n]=\\{1,2,3,4,5,6,7,8,9,10\\}$. Podreis comprobar que el sistema queda caracterizado por la respuesta al impulso\n",
    "\n"
   ]
  },
  {
   "cell_type": "code",
   "execution_count": null,
   "id": "a27ee0e7",
   "metadata": {},
   "outputs": [],
   "source": [
    "#implementación Ejercicio\n"
   ]
  },
  {
   "cell_type": "markdown",
   "id": "b5b3c250",
   "metadata": {},
   "source": [
    "## Ejercicios de convoluciones\n",
    "\n",
    "Es habitual obtener las secuencias de entrada y la respuesta al impulso en una notación compacta. \n",
    "Vamos a emplear la función de *numpy.convolve* (o la vuestra) para determinar y dibujar la convolución de las siguientes señales:\n",
    "\n",
    "- Las muestras se generarán en el intervalo [-3,10)\n",
    "- Tened en cuenta el soporte (intervalo) de las convoluciones\n",
    "\n",
    "<span style='background:yellow' ><b>Ejercicio:</b></span>\n",
    "\n",
    " $x[n] = \\left \\{ \\begin{matrix} \\frac{1}{3} n, & 0<=n<=6\n",
    "\\\\ 0 & en~otro~caso\\end{matrix}\\right.  $\n",
    "\n",
    "\n",
    " $h[n] = \\left \\{ \\begin{matrix} 1 , & -2<=n<=2\n",
    "\\\\ 0 & en~otro~caso\\end{matrix}\\right.  $\n",
    "\n",
    "\n",
    "\n"
   ]
  },
  {
   "cell_type": "code",
   "execution_count": null,
   "id": "ccb7d002",
   "metadata": {},
   "outputs": [],
   "source": [
    "#Implementación Ejercicio"
   ]
  },
  {
   "cell_type": "markdown",
   "id": "2423e63d",
   "metadata": {},
   "source": [
    "...continuación\n",
    "\n",
    "\n",
    "Es habitual obtener las secuencias de entrada y la respuesta al impulso en una notación compacta. \n",
    "Vamos a emplear la función de *numpy.convolve* (o la vuestra) para determinar y dibujar la convolución de las siguientes señales:\n",
    "\n",
    "- Las muestras se generarán en el intervalo [-3,10)\n",
    "- Tened en cuenta el soporte (intervalo) de las convoluciones\n",
    "\n",
    "<span style='background:yellow' ><b>Ejercicio:</b></span>\n",
    "\n",
    " $x[n] = \\left \\{ \\begin{matrix} \\alpha^{n}, & -3<=n<=5\n",
    "\\\\ 0 & en~otro~caso\\end{matrix}\\right.  $\n",
    "\n",
    "\n",
    " $h[n] = \\left \\{ \\begin{matrix} 1 , & 0<=n<=4\n",
    "\\\\ 0 & en~otro~caso\\end{matrix}\\right.  $\n",
    "\n",
    "<b>Nota</b> La función que genere la secuencia de entrada va a estar parametrizada con el $\\alpha$. Podéis emplear:\n",
    "- $\\alpha=0.9$\n",
    "\n"
   ]
  },
  {
   "cell_type": "code",
   "execution_count": null,
   "id": "fe71e789",
   "metadata": {},
   "outputs": [],
   "source": [
    "#Implementación"
   ]
  },
  {
   "cell_type": "markdown",
   "id": "6f1eb0f7",
   "metadata": {},
   "source": [
    "...continuación\n",
    "\n",
    "Es habitual obtener las secuencias de entrada y la respuesta al impulso en una notación compacta. \n",
    "Vamos a emplear la función de *numpy.convolve* (o la vuestra) para determinar y dibujar la convolución de las siguientes señales:\n",
    "\n",
    "- Las muestras se generarán en los intervalos con valores. Desarrollad una regla para poder deducir la muestra inicial y la final de cada secuencia (el primer índice con valor y el último).\n",
    "- Tened en cuenta el soporte (intervalo) de las convoluciones\n",
    "\n",
    "<span style='background:yellow' ><b>Ejercicio:</b></span>\n",
    "Utilizando las siguientes secuencias:\n",
    "\n",
    "$x[n]=u[n]-u[n-50]$\n",
    "\n",
    "\n",
    "$v[n]=u[n+31]-u[n-42]$\n",
    "\n",
    "\n",
    "\n",
    "$w[n]=u[n+51]-u[n+17]$\n",
    "\n",
    "Determinar y dibujar las siguientes operaciones de convolución  \n",
    "\n",
    "* $y_{1}=x[n]*v[n]$\n",
    "* $y_{2}=v[n]*w[n]$\n",
    "* $y_{3}=x[n]*w[n]$\n",
    "\n",
    "<b>Nota</b>: obtener una regla para poder deducir la muestra inicial y la final de cada secuencia (el primer índice con valor y el último)\n"
   ]
  },
  {
   "cell_type": "code",
   "execution_count": null,
   "id": "d6a9b38d",
   "metadata": {},
   "outputs": [],
   "source": [
    "#Implementación"
   ]
  },
  {
   "cell_type": "markdown",
   "id": "544da3b6",
   "metadata": {},
   "source": [
    "Aunque los filtros los veremos más adelante, la operación de convolución es muy útil para realizarlos. Vamos a realizar un ejercicio que nos demostrará el efecto de dicha operación sobre una señal de entrada.\n",
    "\n",
    "<span style='background:yellow' ><b>Ejercicio:</b></span>\n",
    "Sea $x[n]$ la señal de entrada a un filtro discreto  en el tiempo con una respuesta al impulso $h_i[n]$ y sea $y_i[n]$ la salida correspondiente.\n",
    "A través de la operación de la convolución, vamos a dibujar y calcular y[n] empleando siempre la misma escala para poder ver el efecto del filtro:\n",
    "\n",
    "* $x[n]=\\{1,4,2,3,5,3,3,4,5,7,6,9\\}$\n",
    "\n",
    "* $h_1[n]=\\{1,1\\}$\n",
    "* $h_2[n]=\\{1,2,1\\}$\n",
    "* $h_3[n]=\\{\\frac{1}{2}, \\frac{1}{2}\\}$\n",
    "* $h_4[n]=\\{\\frac{1}{4},\\frac{1}{2} \\frac{1}{4}\\}$\n",
    "* $h_5[n]=\\{\\frac{1}{4},-\\frac{1}{2}, \\frac{1}{4}\\}$\n",
    "\n",
    "\n",
    "<b>Nota</b>: podeis utilizar la operación numpy.convolve\n",
    "\n",
    "<b>Nota 2</b>: Damos por supuesto que las secuencias tienen origen en 0\n",
    "\n",
    "<b>Nota 3</b>: Imprimid también los valores numéricos y echadle un vistazo a lo que está ocurriendo. Ejemplo ¿Cuál es la diferencia entre $y_1[n]$ y $y_2[n]$?"
   ]
  },
  {
   "cell_type": "code",
   "execution_count": null,
   "id": "8fddf59b",
   "metadata": {},
   "outputs": [],
   "source": [
    "#Implementación Ejercicio\n",
    "\n"
   ]
  },
  {
   "cell_type": "markdown",
   "id": "e445ea6a",
   "metadata": {},
   "source": [
    "### Deconvolución\n",
    "A veces puede ser interesante deconvolucionar una señal con el objetivo de recuperar los datos que han sigo degradados por un proceso físico o para recuperar la señal original después de aplicar un filtro. Este proceso puede describirse mediante la operación inversa a una convolución. \n",
    "\n",
    "<span style='background:yellow' ><b>Ejercicio:</b></span>\n",
    "Considera un sistema con la respuesta al impulso \n",
    "\n",
    " $h[n] = \\left \\{ \\begin{matrix} (\\frac{1}{2})^{n}, & 0<=n<=4\n",
    "\\\\ 0 & en~otro~caso\\end{matrix}\\right.$ \n",
    "\n",
    "\n",
    "\n",
    "Determine los <b>5 primeros elementos </b> de la señal de entrada que genere la secuencia de salida\n",
    "\n",
    "\n",
    " $y[n]=\\{1,2,2.5,3,3,3,2,1,0,....\\}$\n",
    "\n",
    "* a) Realizar la deconvolución con vuestros cálculos para entender el proceso (de forma algorítmica o con papel y boli)\n",
    "* b) Realizar la deconvolución con la operación *scipy.signal.deconvolve*\n",
    "\n",
    "\n",
    "\n",
    "\n",
    "\n"
   ]
  },
  {
   "cell_type": "code",
   "execution_count": null,
   "id": "63449ebf",
   "metadata": {},
   "outputs": [],
   "source": [
    "#Implementación ejercicio\n"
   ]
  },
  {
   "cell_type": "markdown",
   "id": "33ee70ed",
   "metadata": {},
   "source": [
    "### Solución Gráfica de la convolución\n",
    "En las clases de teoría vimos lo útil que puede ser la solución gráfica cuando estamos trabajando con señales en su forma compacta. Vamos a realizar el siguiente ejercicio apoyados en una solución gráfica y a continuación vamos a validar los datos empleando las operaciones de convolución de numpy\n",
    "\n",
    "<span style='background:yellow' ><b>Ejercicio:</b></span>\n",
    "\n",
    "Determinar la respuesta del sistema en reposo con la siguiente respuesta impulsional:\n",
    "\n",
    "$h[n]= |\\alpha|^n u[n], ~~~~~~~|\\alpha|<1$\n",
    "\n",
    "\n",
    "a la señal de entrada\n",
    "\n",
    "\n",
    "$x[n] = \\left \\{ \\begin{matrix} 1, & 0<=n<=M\n",
    "\\\\ 0 & en~otro~caso\\end{matrix}\\right.$ \n",
    "\n",
    "\n",
    "Una vez obtenida la solución \"en papel\" la tenemos que implementar a través de una función que, dependiendo de la \"n\", nos devuelva el valor de la convolución. Esa función se podrá parametrizar con los valores de $\\alpha$ y de $M$. A modo de ejemplo podeis utilizar los siguientes valores\n",
    "* M=10\n",
    "* $\\alpha= \\frac{1}{2}$\n",
    "\n",
    "\n",
    "Se validarán los resultados creando una secuencia de entrada y otra de respuesta al impulso (empleando el $\\alpha$ y la $M$ anteriores) y usando la operación de convolución de numpy\n",
    "\n",
    "\n",
    "\n",
    "\n",
    "\n",
    "<b>Nota</b>: La propiedad de conmutativa de la convolución puede simplificaros el planteamiento\n",
    "\n",
    "<b> Nota 2</b>: Este ejercicio es  casi idéntico al que vimos en la teoría. El objetivo es que lo repaseis y lo entendais y podais llevar a implementación una solución genérica/parametrizable empleando las ecuaciones de la solución gráfica. \n",
    "\n"
   ]
  },
  {
   "cell_type": "code",
   "execution_count": null,
   "id": "3409d8e3",
   "metadata": {
    "scrolled": true
   },
   "outputs": [],
   "source": [
    "#Implementación del ejercicio con los datos obtenidos por la solución gráfica"
   ]
  },
  {
   "cell_type": "code",
   "execution_count": null,
   "id": "3c565918",
   "metadata": {},
   "outputs": [],
   "source": [
    "#Implementación del ejercicio a través de la convolución"
   ]
  }
 ],
 "metadata": {
  "kernelspec": {
   "display_name": "Python 3 (ipykernel)",
   "language": "python",
   "name": "python3"
  },
  "language_info": {
   "codemirror_mode": {
    "name": "ipython",
    "version": 3
   },
   "file_extension": ".py",
   "mimetype": "text/x-python",
   "name": "python",
   "nbconvert_exporter": "python",
   "pygments_lexer": "ipython3",
   "version": "3.9.7"
  }
 },
 "nbformat": 4,
 "nbformat_minor": 5
}
