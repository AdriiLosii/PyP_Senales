{
 "cells": [
  {
   "cell_type": "markdown",
   "id": "2de6edea",
   "metadata": {},
   "source": [
    "# DFT - Aplicación práctica - Tonos teléfono\n",
    "\n",
    "\n",
    "\n",
    "Los teléfono analógicos empleaban un sistema de tonos para comunicarse con la central y enviar el número de teléfono marcado. En la actualidad, con los teléfonos digitales, este método está en desuso pero aun se emplea para los sistemas tipo contestador en los que es necesario escoger opciones (ej. \"Presione 1 para hacer X\").\n",
    "\n",
    "El sistema empleado era el siguiente: los números y símbolos estaban colocados en forma de matriz y cada uno de esos números tenía asociado 2 frecuencias (alta y baja) que generaban los tonos  en el momento que se pulsaban. La tabla de frecuencias era la siguiente:\n",
    "\n",
    "\n",
    "|            | **1209 Hz** | **1336 Hz** | **1477 Hz** |\n",
    "|------------|:-----------:|:-----------:|:-----------:|\n",
    "| **697 Hz** |      1      |      2      |      3      |\n",
    "| **770 Hz** |      4      |      5      |      6      |\n",
    "| **852 Hz** |      7      |      8      |      9      |\n",
    "| **941 Hz** |      *      |      0      |      #      |\n",
    "\n",
    "\n",
    "Las combinaciones de frecuencia en esa tabla se seleccionaron para ser \"coprimas\", es decir, ninguna frecuencia es múltiplo de ninguna otra. Esto reduce la probabilidad de errores en caso de interferencias. En el momento en que una tecla es presionada se generan y envían las señales con las frecuencias oportunas.\n",
    "Ejemplo: si se presiona el digito 1 la señal generada es\n",
    "\n",
    "\n",
    "$$\n",
    "    \\large x(t) = A\\sin(2\\pi\\cdot 1209\\cdot t) + A\\sin(2\\pi\\cdot697\\cdot t)\n",
    "$$\n",
    "\n",
    "\n",
    "Según especificaciones oficiales:\n",
    "* Cada tono debería de durar mínimo 65ms\n",
    "* 2 tonos consecutivos deberían de estar separados por un silencion de, al menos, 65ms.\n",
    "\n",
    "\n",
    "En nuestro caso estamos trabajando con señales discretas y es en lo que vamos a centrar el Notebook. El objetivo es realizar un codificador/descodificador de tonos de teléfono empleando la DFT. \n",
    "Vamos a emplear una frecuencia de reloj de $F_s=24000Hz$. Simplificando, significa que nuestra tarjeta de sonido ejecutará $F_s$ muestras por segundo. Por lo que para crear los tonos y pasar del continuo al discreto haremos lo siguiente:\n",
    "\n",
    "$\\large x[n] = A\\sin(2\\pi\\,\\frac{F_{baja}}{F_s}\\, n) + A\\sin(2\\pi\\,\\frac{F_{alta}}{F_s}\\,n)$\n",
    "\n",
    "\n",
    "Lo primero que vamos a hacer es crear el codificador"
   ]
  },
  {
   "cell_type": "code",
   "execution_count": 1,
   "id": "e573bc9e",
   "metadata": {},
   "outputs": [],
   "source": [
    "%matplotlib inline\n",
    "import matplotlib\n",
    "import matplotlib.pyplot as plt\n",
    "import numpy as np\n",
    "import IPython\n",
    "plt.rcParams[\"figure.figsize\"] = (14,4)"
   ]
  },
  {
   "cell_type": "markdown",
   "id": "eb644404",
   "metadata": {},
   "source": [
    "### Ejercicio\n",
    "\n",
    "Completa la siguiente función para crear un codificador de numeros->tonos\n"
   ]
  },
  {
   "cell_type": "code",
   "execution_count": 2,
   "id": "d656b023",
   "metadata": {},
   "outputs": [],
   "source": [
    "#FS es la frecuencia de muestreo\n",
    "FS = 24000\n",
    "\n",
    "FRECUENCIAS = {\n",
    "        '1': (697, 1209), '2': (697, 1336), '3': (697, 1477),\n",
    "        '4': (770, 1209), '5': (770, 1336), '6': (770, 1477),\n",
    "        '7': (852, 1209), '8': (852, 1336), '9': (852, 1477),\n",
    "        '*': (941, 1209), '0': (941, 1336), '#': (941, 1477),        \n",
    "    }\n",
    "\n",
    "\n",
    "#constante para generar un numero de muestras en base a la frecuencia de muestreo \n",
    "#para las pulsaciones de teclado y los espacios vacíos (la aproximacion a 65ms)\n",
    "ANCHO_TONOS=0.1 \n",
    "\n",
    "def tonos(numeros,A=1):\n",
    "    \n",
    "   \n",
    "    n = np.arange(0, int(ANCHO_TONOS * FS))#las muestras que vamos a generar\n",
    "    \n",
    "    rdo = np.array([])\n",
    "    \n",
    "    ##recorremos el array de numeros y lo transformamos en los tonos\n",
    "    # Cada número es la suma de 2 señales y un espacio en blanco del mismo ancho con ceros,\n",
    "    # es decir, la suma de las señales concatenada con un array de ceros\n",
    "    #Completar la función\n",
    "    ####\n",
    "    ####\n",
    "    ####\n",
    "    \n",
    "    return rdo\n",
    "   "
   ]
  },
  {
   "cell_type": "code",
   "execution_count": 3,
   "id": "5610e473",
   "metadata": {},
   "outputs": [
    {
     "ename": "ValueError",
     "evalue": "zero-size array to reduction operation maximum which has no identity",
     "output_type": "error",
     "traceback": [
      "\u001b[1;31m---------------------------------------------------------------------------\u001b[0m",
      "\u001b[1;31mValueError\u001b[0m                                Traceback (most recent call last)",
      "Cell \u001b[1;32mIn[3], line 3\u001b[0m\n\u001b[0;32m      1\u001b[0m \u001b[38;5;66;03m#escuchamos el resultado\u001b[39;00m\n\u001b[0;32m      2\u001b[0m x_tonos\u001b[38;5;241m=\u001b[39mtonos(\u001b[38;5;124m'\u001b[39m\u001b[38;5;124m981#123\u001b[39m\u001b[38;5;124m'\u001b[39m)\n\u001b[1;32m----> 3\u001b[0m \u001b[43mIPython\u001b[49m\u001b[38;5;241;43m.\u001b[39;49m\u001b[43mdisplay\u001b[49m\u001b[38;5;241;43m.\u001b[39;49m\u001b[43mAudio\u001b[49m\u001b[43m(\u001b[49m\u001b[43mx_tonos\u001b[49m\u001b[43m,\u001b[49m\u001b[43m \u001b[49m\u001b[43mrate\u001b[49m\u001b[38;5;241;43m=\u001b[39;49m\u001b[43mFS\u001b[49m\u001b[43m)\u001b[49m\n",
      "File \u001b[1;32mC:\\ProgramData\\Anaconda3\\lib\\site-packages\\IPython\\lib\\display.py:130\u001b[0m, in \u001b[0;36mAudio.__init__\u001b[1;34m(self, data, filename, url, embed, rate, autoplay, normalize, element_id)\u001b[0m\n\u001b[0;32m    128\u001b[0m \u001b[38;5;28;01mif\u001b[39;00m rate \u001b[38;5;129;01mis\u001b[39;00m \u001b[38;5;28;01mNone\u001b[39;00m:\n\u001b[0;32m    129\u001b[0m     \u001b[38;5;28;01mraise\u001b[39;00m \u001b[38;5;167;01mValueError\u001b[39;00m(\u001b[38;5;124m\"\u001b[39m\u001b[38;5;124mrate must be specified when data is a numpy array or list of audio samples.\u001b[39m\u001b[38;5;124m\"\u001b[39m)\n\u001b[1;32m--> 130\u001b[0m \u001b[38;5;28mself\u001b[39m\u001b[38;5;241m.\u001b[39mdata \u001b[38;5;241m=\u001b[39m \u001b[43mAudio\u001b[49m\u001b[38;5;241;43m.\u001b[39;49m\u001b[43m_make_wav\u001b[49m\u001b[43m(\u001b[49m\u001b[43mdata\u001b[49m\u001b[43m,\u001b[49m\u001b[43m \u001b[49m\u001b[43mrate\u001b[49m\u001b[43m,\u001b[49m\u001b[43m \u001b[49m\u001b[43mnormalize\u001b[49m\u001b[43m)\u001b[49m\n",
      "File \u001b[1;32mC:\\ProgramData\\Anaconda3\\lib\\site-packages\\IPython\\lib\\display.py:152\u001b[0m, in \u001b[0;36mAudio._make_wav\u001b[1;34m(data, rate, normalize)\u001b[0m\n\u001b[0;32m    149\u001b[0m \u001b[38;5;28;01mimport\u001b[39;00m \u001b[38;5;21;01mwave\u001b[39;00m\n\u001b[0;32m    151\u001b[0m \u001b[38;5;28;01mtry\u001b[39;00m:\n\u001b[1;32m--> 152\u001b[0m     scaled, nchan \u001b[38;5;241m=\u001b[39m \u001b[43mAudio\u001b[49m\u001b[38;5;241;43m.\u001b[39;49m\u001b[43m_validate_and_normalize_with_numpy\u001b[49m\u001b[43m(\u001b[49m\u001b[43mdata\u001b[49m\u001b[43m,\u001b[49m\u001b[43m \u001b[49m\u001b[43mnormalize\u001b[49m\u001b[43m)\u001b[49m\n\u001b[0;32m    153\u001b[0m \u001b[38;5;28;01mexcept\u001b[39;00m \u001b[38;5;167;01mImportError\u001b[39;00m:\n\u001b[0;32m    154\u001b[0m     scaled, nchan \u001b[38;5;241m=\u001b[39m Audio\u001b[38;5;241m.\u001b[39m_validate_and_normalize_without_numpy(data, normalize)\n",
      "File \u001b[1;32mC:\\ProgramData\\Anaconda3\\lib\\site-packages\\IPython\\lib\\display.py:185\u001b[0m, in \u001b[0;36mAudio._validate_and_normalize_with_numpy\u001b[1;34m(data, normalize)\u001b[0m\n\u001b[0;32m    182\u001b[0m \u001b[38;5;28;01melse\u001b[39;00m:\n\u001b[0;32m    183\u001b[0m     \u001b[38;5;28;01mraise\u001b[39;00m \u001b[38;5;167;01mValueError\u001b[39;00m(\u001b[38;5;124m'\u001b[39m\u001b[38;5;124mArray audio input must be a 1D or 2D array\u001b[39m\u001b[38;5;124m'\u001b[39m)\n\u001b[1;32m--> 185\u001b[0m max_abs_value \u001b[38;5;241m=\u001b[39m \u001b[43mnp\u001b[49m\u001b[38;5;241;43m.\u001b[39;49m\u001b[43mmax\u001b[49m\u001b[43m(\u001b[49m\u001b[43mnp\u001b[49m\u001b[38;5;241;43m.\u001b[39;49m\u001b[43mabs\u001b[49m\u001b[43m(\u001b[49m\u001b[43mdata\u001b[49m\u001b[43m)\u001b[49m\u001b[43m)\u001b[49m\n\u001b[0;32m    186\u001b[0m normalization_factor \u001b[38;5;241m=\u001b[39m Audio\u001b[38;5;241m.\u001b[39m_get_normalization_factor(max_abs_value, normalize)\n\u001b[0;32m    187\u001b[0m scaled \u001b[38;5;241m=\u001b[39m data \u001b[38;5;241m/\u001b[39m normalization_factor \u001b[38;5;241m*\u001b[39m \u001b[38;5;241m32767\u001b[39m\n",
      "File \u001b[1;32m<__array_function__ internals>:5\u001b[0m, in \u001b[0;36mamax\u001b[1;34m(*args, **kwargs)\u001b[0m\n",
      "File \u001b[1;32mC:\\ProgramData\\Anaconda3\\lib\\site-packages\\numpy\\core\\fromnumeric.py:2754\u001b[0m, in \u001b[0;36mamax\u001b[1;34m(a, axis, out, keepdims, initial, where)\u001b[0m\n\u001b[0;32m   2638\u001b[0m \u001b[38;5;129m@array_function_dispatch\u001b[39m(_amax_dispatcher)\n\u001b[0;32m   2639\u001b[0m \u001b[38;5;28;01mdef\u001b[39;00m \u001b[38;5;21mamax\u001b[39m(a, axis\u001b[38;5;241m=\u001b[39m\u001b[38;5;28;01mNone\u001b[39;00m, out\u001b[38;5;241m=\u001b[39m\u001b[38;5;28;01mNone\u001b[39;00m, keepdims\u001b[38;5;241m=\u001b[39mnp\u001b[38;5;241m.\u001b[39m_NoValue, initial\u001b[38;5;241m=\u001b[39mnp\u001b[38;5;241m.\u001b[39m_NoValue,\n\u001b[0;32m   2640\u001b[0m          where\u001b[38;5;241m=\u001b[39mnp\u001b[38;5;241m.\u001b[39m_NoValue):\n\u001b[0;32m   2641\u001b[0m     \u001b[38;5;124;03m\"\"\"\u001b[39;00m\n\u001b[0;32m   2642\u001b[0m \u001b[38;5;124;03m    Return the maximum of an array or maximum along an axis.\u001b[39;00m\n\u001b[0;32m   2643\u001b[0m \n\u001b[1;32m   (...)\u001b[0m\n\u001b[0;32m   2752\u001b[0m \u001b[38;5;124;03m    5\u001b[39;00m\n\u001b[0;32m   2753\u001b[0m \u001b[38;5;124;03m    \"\"\"\u001b[39;00m\n\u001b[1;32m-> 2754\u001b[0m     \u001b[38;5;28;01mreturn\u001b[39;00m \u001b[43m_wrapreduction\u001b[49m\u001b[43m(\u001b[49m\u001b[43ma\u001b[49m\u001b[43m,\u001b[49m\u001b[43m \u001b[49m\u001b[43mnp\u001b[49m\u001b[38;5;241;43m.\u001b[39;49m\u001b[43mmaximum\u001b[49m\u001b[43m,\u001b[49m\u001b[43m \u001b[49m\u001b[38;5;124;43m'\u001b[39;49m\u001b[38;5;124;43mmax\u001b[39;49m\u001b[38;5;124;43m'\u001b[39;49m\u001b[43m,\u001b[49m\u001b[43m \u001b[49m\u001b[43maxis\u001b[49m\u001b[43m,\u001b[49m\u001b[43m \u001b[49m\u001b[38;5;28;43;01mNone\u001b[39;49;00m\u001b[43m,\u001b[49m\u001b[43m \u001b[49m\u001b[43mout\u001b[49m\u001b[43m,\u001b[49m\n\u001b[0;32m   2755\u001b[0m \u001b[43m                          \u001b[49m\u001b[43mkeepdims\u001b[49m\u001b[38;5;241;43m=\u001b[39;49m\u001b[43mkeepdims\u001b[49m\u001b[43m,\u001b[49m\u001b[43m \u001b[49m\u001b[43minitial\u001b[49m\u001b[38;5;241;43m=\u001b[39;49m\u001b[43minitial\u001b[49m\u001b[43m,\u001b[49m\u001b[43m \u001b[49m\u001b[43mwhere\u001b[49m\u001b[38;5;241;43m=\u001b[39;49m\u001b[43mwhere\u001b[49m\u001b[43m)\u001b[49m\n",
      "File \u001b[1;32mC:\\ProgramData\\Anaconda3\\lib\\site-packages\\numpy\\core\\fromnumeric.py:86\u001b[0m, in \u001b[0;36m_wrapreduction\u001b[1;34m(obj, ufunc, method, axis, dtype, out, **kwargs)\u001b[0m\n\u001b[0;32m     83\u001b[0m         \u001b[38;5;28;01melse\u001b[39;00m:\n\u001b[0;32m     84\u001b[0m             \u001b[38;5;28;01mreturn\u001b[39;00m reduction(axis\u001b[38;5;241m=\u001b[39maxis, out\u001b[38;5;241m=\u001b[39mout, \u001b[38;5;241m*\u001b[39m\u001b[38;5;241m*\u001b[39mpasskwargs)\n\u001b[1;32m---> 86\u001b[0m \u001b[38;5;28;01mreturn\u001b[39;00m ufunc\u001b[38;5;241m.\u001b[39mreduce(obj, axis, dtype, out, \u001b[38;5;241m*\u001b[39m\u001b[38;5;241m*\u001b[39mpasskwargs)\n",
      "\u001b[1;31mValueError\u001b[0m: zero-size array to reduction operation maximum which has no identity"
     ]
    }
   ],
   "source": [
    "#escuchamos el resultado\n",
    "x_tonos=tonos('981#123')\n",
    "IPython.display.Audio(x_tonos, rate=FS)\n"
   ]
  },
  {
   "cell_type": "code",
   "execution_count": null,
   "id": "d690c4e2",
   "metadata": {},
   "outputs": [],
   "source": [
    "plt.plot(x_tonos)"
   ]
  },
  {
   "cell_type": "markdown",
   "id": "184d1deb",
   "metadata": {},
   "source": [
    "### Ejercicio: Añade ruido a la señal\n",
    "Para ser más realista vamos a agregar ruido a la señal de tonos.\n",
    "\n",
    "Podéis usar la función random.normal de numpy pero tened cuidado con la $\\sigma$ que usais para no modificar completamente la señal original. Ese valor dependerá de la amplitud que tenéis para las sinusoidales"
   ]
  },
  {
   "cell_type": "code",
   "execution_count": null,
   "id": "f6459c6c",
   "metadata": {},
   "outputs": [],
   "source": [
    "#Ejercicio añadir ruido"
   ]
  },
  {
   "cell_type": "code",
   "execution_count": null,
   "id": "cc2d9f60",
   "metadata": {},
   "outputs": [],
   "source": [
    "#visualizamos los tonos con ruido\n",
    "plt.plot(x_tonos)"
   ]
  },
  {
   "cell_type": "markdown",
   "id": "80e338c5",
   "metadata": {},
   "source": [
    "### Ejercicio\n",
    "Desarrolla una función que separe del array de tonos los números de las espacios vacíos. La función tendría que recibir el array de tonos y devolver un array de tuplas. Cada tupla contiene el primer y último índice de cada número o símbolo que tenemos que decodificar\n",
    "\n",
    "[(1, 2400), (4800,7200),...]\n",
    "\n",
    "Tendremos que generar *ventanas* y calcular la **energía local** de esa ventana para ver si tiene una energía superior a un threshold o no (por culpa del posible ruído no podemos filtrar por el cero) y así separar los tonos de los espacios vacíos. Recordamos el cálculo de la energía para una señal finita:\n",
    "\n",
    "$E_{local}=\\sum\\limits_{0}^{N-1}|x[n]|^2$\n",
    "\n",
    "Lo vamos a simplificar mucho creando ventanas del ancho de los tonos (FS$\\cdot$ancho_tono). Lo realista sería emplear ventanas más pequeñas para ir analizando la secuencia porque en la realidad puede tener interferencias y no estar todo *perfecto*.\n",
    "\n",
    "Siguiendo con la simplificación, podéis hacer un reshape de la señal  con los tonos empleando el tamaño de la ventana. La idea es crear una matriz con un número de columnas igual al ancho de la ventana que estamos empleando, de esa forma se creará una matriz con tantas filas como ventanas estamos analizando."
   ]
  },
  {
   "cell_type": "code",
   "execution_count": null,
   "id": "6bb6f34a",
   "metadata": {},
   "outputs": [],
   "source": [
    "#Ejercicio separar tonos"
   ]
  },
  {
   "cell_type": "markdown",
   "id": "db943ced",
   "metadata": {},
   "source": [
    "### Ejercicio\n",
    "\n",
    "Crea un decodificador de los tonos. La función recibirá la señal con los tonos y el array de tuplas con los índices inicial y final de cada tono. Empleando la DFT podéis encontrar las frecuencias de las que está compuesto  cada tono y en consecuencia obtener el número o símbolo que lo generó. Para pasar de la frecuencia discreta a la del *mundo real*, tenéis que multiplicar por $F_s$ (la operación contraria que se hizo para la generación de los tonos con las  sinusoidales):\n",
    "\n",
    "$F_{baja}=F_s f_{ruido-baja}~ H_z$\n",
    "\n",
    "$F_{alta}=F_s f_{ruido-alta}~ H_z$\n",
    "\n",
    "Podemos usar la función que creamos en la práctica anterior para buscar las frecuencias de los 'n' picos máximos.\n",
    "\n",
    "Una vez obtenida la frecuencia en el *mundo real*, tenemos que compararla con las frecuencias posibles. Fijaos que existe una lista de posibles frecuencias bajas y otro de posibles frecuencias altas. La combinación es la que da el número marcado. Al tener ruido en la señal vais a tener que buscar la frecuencia más cercana de las posibles a la que habéis encontrado."
   ]
  },
  {
   "cell_type": "code",
   "execution_count": null,
   "id": "ad12ce87",
   "metadata": {},
   "outputs": [],
   "source": [
    "def get_frequencies(X, freq,elements):\n",
    "        X_modules=abs(X.copy())\n",
    "        #argsort devuelve una lista ordenada con los índices con los valores máximos\n",
    "        #al negarlo consigo darle la vuelta al orden y me es más fácil recuperar lo que \n",
    "        #me interesa. \n",
    "        idx=  (-X_modules).argsort()\n",
    "        #Creo un array que solo tiene las frecuencias positivas ordenadas y devuelvo los\n",
    "        # \"elements\" que me piden\n",
    "        return [ (X_modules[i], freq[i]) for i in idx if freq[i]>0][:elements]     \n",
    "\n",
    "#Ejercicio obtener números"
   ]
  }
 ],
 "metadata": {
  "kernelspec": {
   "display_name": "Python 3 (ipykernel)",
   "language": "python",
   "name": "python3"
  },
  "language_info": {
   "codemirror_mode": {
    "name": "ipython",
    "version": 3
   },
   "file_extension": ".py",
   "mimetype": "text/x-python",
   "name": "python",
   "nbconvert_exporter": "python",
   "pygments_lexer": "ipython3",
   "version": "3.9.15"
  }
 },
 "nbformat": 4,
 "nbformat_minor": 5
}
