{
 "cells": [
  {
   "cell_type": "markdown",
   "id": "broadband-consequence",
   "metadata": {},
   "source": [
    "# Señales en tiempo discreto\n",
    "\n",
    "En este Notebook vamos a implementar algunas señales y operaciones básicas  vistas en la teoría. "
   ]
  },
  {
   "cell_type": "code",
   "execution_count": 1,
   "id": "ultimate-vanilla",
   "metadata": {},
   "outputs": [],
   "source": [
    "#librerias necesarias para la práctica\n",
    "%matplotlib inline \n",
    "import matplotlib.pyplot as plt\n",
    "import numpy as np\n",
    "from random import randrange\n",
    "import IPython\n",
    "plt.rcParams[\"figure.figsize\"] = (14,4) #dimensiones por defecto al plotear (width, height)"
   ]
  },
  {
   "cell_type": "markdown",
   "id": "blond-presence",
   "metadata": {},
   "source": [
    "## Visualización \n",
    "\n",
    "Un gráfico típico que nos encontraremos en la teoría y en los libros es el de \"piruleta\" o stem (barras con un círculo encima). Este tipo de gráficos se pueden realizar facilmente con matplotlib.  Voy a dejar una función ya configurada que podeis modificar a vuestro gusto."
   ]
  },
  {
   "cell_type": "code",
   "execution_count": 2,
   "id": "stupid-controversy",
   "metadata": {},
   "outputs": [],
   "source": [
    "#Este es un método de visualización muy básico para hacer pruebas\n",
    "def plot_stem( t , y, y_lim=None, view_baseline=False, title=None):\n",
    "    \"\"\"Función que configura y visualiza un gráfico stem \n",
    "\n",
    "       Parámetros:\n",
    "       t -- muestras de tiempo\n",
    "       y -- secuencia para visualizar\n",
    "       y_lim -- tupla de la forma (min, max) que establece los límites en el eje de ordenadas. Por defecto None\n",
    "       view_baseline -- Establece una línea horizontal en el eje de las x a la altura de  y=0 . Por defecto False\n",
    "\n",
    "    \"\"\"\n",
    "    markerline, stemlines, baseline = plt.stem(t, y)\n",
    "    plt.setp(baseline, visible=view_baseline)\n",
    "    plt.setp(markerline, color=\"crimson\",markersize = 10)\n",
    "    plt.setp(stemlines, color=\"crimson\", linewidth = 4)\n",
    "    plt.axvline(x=0, linewidth=1,color=\"black\")\n",
    "    plt.ylim(y_lim)\n",
    "    if title is not None:\n",
    "        plt.title(title)\n",
    "    plt.show()\n",
    "    \n",
    "    \n"
   ]
  },
  {
   "cell_type": "markdown",
   "id": "domestic-tumor",
   "metadata": {},
   "source": [
    "# Señales básicas\n",
    "Vamos ahora a implementar algunas de las señales básicas que vimos en la teoría\n",
    "## Impulso unitario\n",
    "Todas las muestras son 0 excepto la n=0 que es 1. Representa un fenómeno físico de una duración muy corta\n",
    "\n",
    "\n",
    "![Impulso unitario](./impulso.png)"
   ]
  },
  {
   "cell_type": "code",
   "execution_count": 11,
   "id": "dedicated-inspector",
   "metadata": {},
   "outputs": [
    {
     "data": {
      "image/png": "[encoded data removed]",
      "text/plain": [
       "<Figure size 1008x288 with 1 Axes>"
      ]
     },
     "metadata": {
      "needs_background": "light"
     },
     "output_type": "display_data"
    },
    {
     "data": {
      "image/png": "[encoded data removed]",
      "text/plain": [
       "<Figure size 1008x288 with 1 Axes>"
      ]
     },
     "metadata": {
      "needs_background": "light"
     },
     "output_type": "display_data"
    },
    {
     "data": {
      "image/png": "[encoded data removed]",
      "text/plain": [
       "<Figure size 1008x288 with 1 Axes>"
      ]
     },
     "metadata": {
      "needs_background": "light"
     },
     "output_type": "display_data"
    }
   ],
   "source": [
    "#definición del impulso unitario\n",
    "def impulso_unitario(x):\n",
    "    return 1 * (x == 0)\n",
    "\n",
    "muestras = np.arange(-10,10,1)\n",
    "delta_signal = impulso_unitario( muestras )\n",
    "plot_stem( muestras, delta_signal, view_baseline=True )\n",
    "\n",
    "def pulso(n=0, linf=-100, lsup=100):\n",
    "    return [(1 if i==n else 0) for i in range(linf, lsup+1)]\n",
    "\n",
    "signal1 = pulso(0, -100, 100)\n",
    "plt.plot(signal1, 'o')\n",
    "plt.show()\n",
    "\n",
    "signal2 = pulso(0, -10, 10)\n",
    "plt.plot(signal2, 'o')\n",
    "plt.show()"
   ]
  },
  {
   "cell_type": "markdown",
   "id": "patent-cleaners",
   "metadata": {},
   "source": [
    "Una propiedad interesante es que cualquier secuencia arbitraria puede expresarse como una suma de impulsos desplazados y escalados\n",
    "\n",
    "\n",
    "$x[n]=\\sum \\limits _{k=-\\infty} ^{\\infty}x[k] \\delta[n-k] $\n",
    "\n",
    "<span style='background:yellow' ><b>Ejercicios</b></span>\n",
    "Genera y visualiza las siguientes secuencias impulso uitarios en los intervalos temporales especificados\n",
    "\n",
    "* a) $\\delta_{1}=2\\delta[n],~~~~~ -20<=n<=20$\n",
    "* b) $\\delta_{2}=3.5\\delta[n-115],~~~~~  100<=n<=150$\n",
    "* c) $\\delta_{3}=-0.5\\delta[n],~~~~~ 1<=n<=20$\n",
    "* d) $\\delta_{4}=\\delta[n+110],~~~~~ -120<=n<=100$"
   ]
  },
  {
   "cell_type": "code",
   "execution_count": 14,
   "id": "concerned-citizen",
   "metadata": {},
   "outputs": [
    {
     "data": {
      "image/png": "[encoded data removed]",
      "text/plain": [
       "<Figure size 1008x288 with 1 Axes>"
      ]
     },
     "metadata": {
      "needs_background": "light"
     },
     "output_type": "display_data"
    }
   ],
   "source": [
    "#Implementación de las soluciones a los ejercicios\n",
    "#a)\n",
    "muestras = np.arange(-20,20,1)\n",
    "delta_signal = impulso_unitario( muestras )\n",
    "plot_stem( muestras, delta_signal, view_baseline=True )"
   ]
  },
  {
   "cell_type": "markdown",
   "id": "controlled-murder",
   "metadata": {},
   "source": [
    "## Escalon Unidad\n",
    "Es similar a la acción de un interruptor. 1 para valores >= 0 y 0 para el resto\n",
    "\n",
    "![Impulso unitario](./escalon.png)\n",
    "\n",
    "\n",
    "Relaciones interesantes entre el escalón unidad y el impulso\n",
    "\n",
    "$u[n]=\\sum \\limits _{k=-\\infty} ^{n}\\delta[k]=\\sum \\limits _{k=0} ^{\\infty} \\delta[n-k]$\n",
    "\n",
    "\n",
    "$\\delta[n]=u[n]-u[n-1]$"
   ]
  },
  {
   "cell_type": "markdown",
   "id": "technological-pearl",
   "metadata": {},
   "source": [
    "<span style='background:yellow' ><b>Ejercicio</b></span> Implementa una función para crear el escalón unidad. Genera y visualiza una secuencia de prueba\n"
   ]
  },
  {
   "cell_type": "code",
   "execution_count": null,
   "id": "imported-investing",
   "metadata": {},
   "outputs": [],
   "source": [
    "#Crear y visualizar la señal escalon unidad\n",
    "\n",
    "def escalon_unidad(x):\n",
    "    #escribir el código necesario\n",
    "    pass\n",
    "\n",
    "\n"
   ]
  },
  {
   "cell_type": "markdown",
   "id": "classical-composite",
   "metadata": {},
   "source": [
    "<span style='background:yellow' ><b>Ejercicios</b></span>. Genera y visualiza las siguientes secuencias\n",
    "* $u_{1}[n]=2u[n],~~~~~ -10<=n<=30$\n",
    "* $u_{2}[n]=u[n-10],~~~~~ 0<=n<=50$\n",
    "* $u_{3}[n]=-0.5u[n+100],~~~~~ -120<=n<=20$\n",
    "\n"
   ]
  },
  {
   "cell_type": "code",
   "execution_count": null,
   "id": "surprised-wales",
   "metadata": {},
   "outputs": [],
   "source": [
    "#implementación de los ejercicios\n",
    "\n"
   ]
  },
  {
   "cell_type": "markdown",
   "id": "brilliant-setting",
   "metadata": {},
   "source": [
    "## Secuencia Rampa \n",
    "\n",
    "![Rampa unidad](./rampa.png)\n",
    "\n",
    "<span style=\"background:yellow\"><b>Ejercicio</b></span> Implementa una función para crear una señal rampa . Genera y visualiza una secuencia de prueba entre -10 y 10"
   ]
  },
  {
   "cell_type": "code",
   "execution_count": null,
   "id": "loved-cross",
   "metadata": {},
   "outputs": [],
   "source": [
    "#Crear y visualizar la señal rampa\n",
    "\n",
    "def rampa(x):\n",
    "     pass"
   ]
  },
  {
   "cell_type": "markdown",
   "id": "entitled-booking",
   "metadata": {},
   "source": [
    "## Señal exponencial\n",
    "La señal esponencial tiene la forma general:\n",
    "## $x[n]=A\\alpha^{n}$\n",
    "Si $A$ y $\\alpha$ son números reales, la secuencia es real\n",
    "\n",
    "![Señal exponencial](./exponencial.png)"
   ]
  },
  {
   "cell_type": "markdown",
   "id": "packed-argument",
   "metadata": {},
   "source": [
    "<span style=\"background:yellow\"><b>Ejercicio</b></span>: Implementa una función para generar una secuencia exponencial real. Crea y visualiza una secuencia de prueba\n",
    "\n",
    "\n",
    "* La función tendrá <b>un parámetro que permita emplear el escalón de unidad</b> para el control de la señal de la salida (como vimos en teoría). Si este parámetro está a True entonces solo dará los valores de la exponencial con n>=0 y todos los demás serán 0"
   ]
  },
  {
   "cell_type": "code",
   "execution_count": null,
   "id": "illegal-dylan",
   "metadata": {},
   "outputs": [],
   "source": [
    "#Crear y visualizar la señal exponencial\n",
    "def exponential_signal(x, alpha, amplitud=1, impulso=True):\n",
    "    pass\n"
   ]
  },
  {
   "cell_type": "markdown",
   "id": "electronic-plumbing",
   "metadata": {},
   "source": [
    "<span style=\"background:yellow\"><b>Ejercicios</b></span>:\n",
    "Genera y visualiza en el intervalo  $-20<=n<30$ las siguientes secuencias:\n",
    "* a) Una exponencial real creciente\n",
    "* b) Una exponencial real creciente cuyos valores van alternando el signo\n",
    "* c) Una exponencial real decreciente\n",
    "* d) Una exponencial real decreciente cuyos valores van alternando el signo\n",
    "* e) Obten la suma de los valores de la exponencial del apartado c)\n",
    "\n",
    "<b>Emplea el escalón unidad</b> para la gestión de los valores de salida en los diferentes apartados \n"
   ]
  },
  {
   "cell_type": "code",
   "execution_count": null,
   "id": "possible-disclosure",
   "metadata": {},
   "outputs": [],
   "source": [
    "#Implementación ejercicios exponencial real\n"
   ]
  },
  {
   "cell_type": "markdown",
   "id": "7438d37f",
   "metadata": {},
   "source": [
    "En los ejercicios  anteriores hemos trabajado con una secuencia real pero, tal y como hemos visto en la teoría, la secuencia exponencial también puede ser compleja. La secuencia exponencial compleja, con $A$ y $\\alpha\"$ números complejos, tiene la forma:\n",
    "\n",
    "## $x[n]=A\\alpha^{n}=|A|e^{j\\phi} |\\alpha|^n e^{j \\omega_0n } =|A||\\alpha|^n e^{\\omega_0n+\\phi}$\n",
    "\n",
    "\n",
    "Al ser una señal compleja podemos representar la parte real y la imaginaria por separado\n",
    "\n",
    "\n",
    "\n",
    "<span style=\"background:yellow\"><b>Ejercicios</b></span>:\n",
    "\n",
    "\n",
    "- Desarrolla una función que genere secuencias exponenciales complejas (parte real e imaginaria) recibiendo los siguientes argumentos($A,\\alpha, \\omega$ y $\\phi$). esta función procesará los datos de entrada y devolverá una tupla con los valores reales e imaginarios de la secuencia. Para probarla podéis crear y visualizar la exponencial compleja con los siguientes argumentos:\n",
    "    - $|A|=2$\n",
    "    - $|\\alpha|=0.9$\n",
    "    - $\\omega_0=\\pi/10$ \n",
    "    \n",
    "    - $\\phi=\\pi/16$\n",
    "        \n",
    "  \n",
    "\n",
    "\n",
    "<b>Nota:</b> el siguiente ejercicio trata con sinusoidales, parte del código es compartido"
   ]
  },
  {
   "cell_type": "code",
   "execution_count": null,
   "id": "3b77bc85",
   "metadata": {},
   "outputs": [],
   "source": [
    "#Desarrollar la función para tratar con exponenciales complejas\n",
    "#mi recomendación es crear una función sinusoidal que se aproveche para el siguiente ejercicio\n",
    "\n"
   ]
  },
  {
   "cell_type": "markdown",
   "id": "conservative-impossible",
   "metadata": {},
   "source": [
    "## Señal sinusoidal\n",
    "\n",
    "## $x[n]=Acos(\\omega_{0}n+ \\phi)$\n",
    "\n",
    "$\\omega_{0}:$ frecuencia en radianes por muestra. Lo podemos expresar también en Hz: $\\omega_{0}=2\\pi f_{0}$\n",
    "![Señal sinusoidal](./sinusoidal.png)\n",
    " \n"
   ]
  },
  {
   "cell_type": "markdown",
   "id": "manual-wrong",
   "metadata": {},
   "source": [
    "<span style=\"background:yellow\"><b>Ejercicio:</b></span> Crea, a través de una función, y visualiza una señal sinusoidal\n",
    "\n",
    "- La función permitirá recibir radianes o hercios y tendrán preferencia los radianes si se cubren los 2 parámetros\n",
    "- cos es una función de numpy\n",
    "- pi es una constante de numpy\n",
    "- Para visualizarla podéis emplear la función que os proporciono que la mostrará como una secuencia en discreta. En el caso de que quisierais simular un continuo en una señal sinusoidal podéis hacer los siguiente:\n",
    "     - crear las muestras con np.linspace para simular un continuo\n",
    "     - Visualizar con plt.plot\n",
    "- Para probarlo podéis emplear: \n",
    "     - $A=1$\n",
    "     - $\\omega_0=\\pi/16$ o $f_0=1/32$\n",
    "     - $\\phi=\\pi$\n",
    "\n"
   ]
  },
  {
   "cell_type": "code",
   "execution_count": null,
   "id": "unnecessary-heater",
   "metadata": {},
   "outputs": [],
   "source": [
    "#Crear y visualizar la señal exponencial\n",
    "\n",
    "    "
   ]
  },
  {
   "cell_type": "markdown",
   "id": "banner-expert",
   "metadata": {},
   "source": [
    "<span style=\"background:yellow\"><b>Ejercicios</b></span>\n",
    "Crea y visualiza las siguientes secuencias en los intervalos correspondientes\n",
    "* $s_{1}[n]=cos(\\pi n/15), ~~~~~-20 <= n <=40$\n",
    "* $s_{2}[n]=2cos(\\pi n/15 + \\pi /3 ), ~~~~~-20 <= n <=5$\n",
    "* $s_{3}[n]=cos(n/2), ~~~~~ 0<=n<=40$\n",
    "\n",
    "\n",
    "* Analiza si las secuencias anteriores son periódicas. Puedes emplear el título de la image (parámetro title de plot_stem) para etiquetarlas como periódicas o aperiódicas e imprimir su frecuencia  $f_0$"
   ]
  },
  {
   "cell_type": "code",
   "execution_count": null,
   "id": "joint-leader",
   "metadata": {},
   "outputs": [],
   "source": [
    "#Ejercicios sinusoidales\n",
    "\n"
   ]
  },
  {
   "cell_type": "markdown",
   "id": "parallel-chosen",
   "metadata": {},
   "source": [
    "# Operaciones elementales con secuencias\n",
    "\n",
    "## Suma y Producto\n",
    "La suma y el producto de 2 secuencias $x_{1}[n]$ y $x_{2}[n]$ se define como la suma y el producto muestra a muestra\n",
    "\n",
    "Aparece un problema cuando las secuencias están definidas en diferentes intervalos de tiempo. Podemos aplicar una de las dos siguientes soluciones:\n",
    "* Añadir ceros para cubrir las zonas que no definidas\n",
    "* Aplicar la operación solo al intervalo común\n",
    "\n",
    "<span style=\"background:yellow\"><b>Ejercicio</b></span>\n",
    "* Representar la secuencia generada tanto  por la suma como por el producto de las secuencias $u_{2}[n]$ y $s_{1}[n]$ de los ejercicios anteriores\n",
    "\n",
    "\n",
    "<b>Nota</b>: Implementar las 2 soluciones comentadas anteriormente. Para poder implementar estas soluciones, las funciones que desarrolleis necesitarán conocer las secuencias y también sus límites\n",
    "\n",
    "Recordatorio\n",
    "* $s_{1}[n]=cos(\\pi n/15), ~~~~~-20 <= n <=40$\n",
    "* $u_{2}[n]=u[n-10],~~~~~ 0<=n<=50$\n",
    "\n",
    "\n"
   ]
  },
  {
   "cell_type": "code",
   "execution_count": null,
   "id": "ff0acc5a",
   "metadata": {},
   "outputs": [],
   "source": [
    "#Crea las funciones para poder sumar y multiplicar \n",
    "#1) solo en el intervalo común\n",
    "#2) añadiendo ceros en las secuencias hasta \"completarlas\"\n",
    "#Desarrolla la suma y el producto de u2 y s1 de los dos modos"
   ]
  },
  {
   "cell_type": "markdown",
   "id": "attempted-organizer",
   "metadata": {},
   "source": [
    "## Escalado o cambio de amplitud\n",
    "Dada $x[n]$ y la constante real A, obtenemos una nueva secuencia  $y[n]=Ax[n]$, donde cada muestra de $x[n]$ queda multiplicada por la constante A. Cuando  $|A| > 1$, la secuencia resultante es una versión amplificada de la  original, mientras que si $|A| < 1$, la señal es uan versión atenuada. Además si A<0 también se produce un cambio de polaridad.\n",
    "\n",
    "<span style=\"background:yellow\"><b>Ejercicios</b></span>\n",
    "Utilizar la secuencia $u_{2}$ para representar los siguientes escalados\n",
    "* A = 2\n",
    "* A= 0.5\n",
    "* A = -0.6\n",
    "\n",
    "Recordatorio\n",
    "* $u_{2}[n]=u[n-10],~~~~~ 0<=n<=50$\n"
   ]
  },
  {
   "cell_type": "code",
   "execution_count": null,
   "id": "fitting-vehicle",
   "metadata": {},
   "outputs": [],
   "source": [
    "#Ejercicios de escalado de secuencias"
   ]
  },
  {
   "cell_type": "markdown",
   "id": "juvenile-sharing",
   "metadata": {},
   "source": [
    "## Desplazamiento\n",
    "Dada $x[n]$ y la constante entera $k$, la secuencia desplazada $y[n]=x[n-k]$ será una traslación de $k$ unidades hacia la derecha  si k>0 o hacia la izquierda si k<0. El desplazamiento hacia el futuro no es posible en señales recogidas en tiempo real pero puede emplearse en datos almacenados. Con las secuencias truncadas un desplazamiento origina una pérdida de valores por un extremo. Existen 2 formas de gestionarlo:\n",
    "* Tratar la señal original como una señal de soporte finito (meter ceros en los valores que no tenemos)\n",
    "* Extender la señal original como si fuese periódica\n",
    "\n",
    "<span style=\"background:yellow\"><b>Ejercicios</b></span>\n",
    "* Crear una función que permita desplazar una secuencia $k$ unidades de tiempo. La función tratará la secuencia original como una secuencia de soporte finito (desplazamiento lineal)\n",
    "\n",
    "* Crear una función que permita desplazar una secuencia $k$ unidades de tiempo. La función tratará la secuencia original como una señal períodica (desplazamiento circular)\n",
    "\n",
    "Para probar las funciones vamos a considerar la secuencia \n",
    "\n",
    "$x[n]=0.99^{n}, ~~~~~ 0<=n<=39$\n",
    "\n",
    "* Realiza un desplazamiento lineal de 10 unidades (n-10)\n",
    "* Realice un desplazamiento circular de 10 unidades hacia el futuro (n+10)\n",
    "* Visualizar las secuencias resultantes\n"
   ]
  },
  {
   "cell_type": "code",
   "execution_count": null,
   "id": "64e75ee9",
   "metadata": {},
   "outputs": [],
   "source": [
    "#Desarrolla una función que permita el desplazamiento con soporte finito\n",
    "#Desarrolla una función que permita el desplazamiento circular"
   ]
  },
  {
   "cell_type": "markdown",
   "id": "insured-showcase",
   "metadata": {},
   "source": [
    "## Reflexión\n",
    "Partiendo de x[n] la secuencia reflejada será x[-n]. Gráficamente, la reflexión consiste en un abatimiento de la señal  respecto al eje de ordenadas. \n",
    "\n",
    "\n",
    "<span style=\"background:yellow\"><b>Ejercicio</b></span>: realizar la reflexión de la secuencia anterior: $x[n]=0.99^{n}u[n], ~~~~~ -10<=n<=39$\n",
    "\n",
    "Visualizar ambas secuencias\n",
    "\n",
    "<b>Nota:</b>: es necesario gestionar los índices en la visualización \n",
    "\n"
   ]
  },
  {
   "cell_type": "code",
   "execution_count": null,
   "id": "0025cac4",
   "metadata": {},
   "outputs": [],
   "source": [
    "#Crea una función que permita reflejar una secuencia\n",
    "#Es necesario que gestioneis los índices \n",
    "def reflejar_secuencia(secuencia, idx_secuencia):\n",
    "    pass"
   ]
  },
  {
   "cell_type": "markdown",
   "id": "initial-engineering",
   "metadata": {},
   "source": [
    "## Energía y  potencia de una señal\n",
    "\n",
    "Hemos visto en la teoría que la energía de una señal se calcula como:\n",
    "\n",
    "\n",
    "$E= \\sum\\limits_{n=-\\infty}^{\\infty} |x[n]|^2$ \n",
    "\n",
    "\n",
    "Llamamos <b>señal de energía</b> a una señal con energía finita\n",
    "\n",
    "El cálculo de la energia para una secuencia finita se calcula aplicando directamente la fórmula sobre los valores de la señal\n",
    "\n",
    "\n",
    "Las señales con energía infinita pueden tener potencia media finita\n",
    "\n",
    "La potencia media se calcula como:\n",
    "$P=\\lim\\limits_{N=-\\infty} \\frac{1}{2N+1}\\sum\\limits_{n=-\\infty}^{\\infty} |x[n]|^2$\n",
    "\n",
    "\n",
    "* Si la energía es finita, entonces la potencia media es infinita\n",
    "* Si la energía es infinita, entonces la potencia media puede ser finita o infinita\n",
    "\n",
    "\n",
    "Llamamos <b>señal de potencia</b> a una señal con potencia media finita\n",
    "\n",
    "La potencia media de una señal periódica $\\tilde{x}[n]$es finita e igual a la potencia media sobre un período\n",
    "\n",
    "$P_{\\tilde{x}}=\\frac{1}{N}\\sum\\limits_{n=0}^{N-1} |x[n]|^2$\n"
   ]
  },
  {
   "cell_type": "markdown",
   "id": "selective-reform",
   "metadata": {},
   "source": [
    "<span style=\"background:yellow\"><b>Ejercicio</b></span>: Calcula la energía para la siguiente secuencia finita"
   ]
  },
  {
   "cell_type": "code",
   "execution_count": null,
   "id": "bound-genetics",
   "metadata": {},
   "outputs": [],
   "source": [
    "x=[randrange(-10,10) for i in range(1000)]"
   ]
  },
  {
   "cell_type": "code",
   "execution_count": null,
   "id": "dated-jimmy",
   "metadata": {},
   "outputs": [],
   "source": [
    "#Calcula la energía de la secuencia anterior"
   ]
  },
  {
   "cell_type": "markdown",
   "id": "funny-teacher",
   "metadata": {},
   "source": [
    "<span style=\"background:yellow\"><b>Ejercicio</b></span>: \n",
    "Empleando la función desarrollada para crear una sinusoidal, emplead los siguientes valores para generar la secuencia correspondiente en el intervalo [-20,40] y calcular su potencia media\n",
    "\n",
    "* |A|=4\n",
    "* $w_0=\\frac{\\pi}{15}$\n",
    "* $\\phi=\\frac{\\pi}{3}$\n",
    "* $-20<=n<=40$\n",
    "\n"
   ]
  },
  {
   "cell_type": "code",
   "execution_count": null,
   "id": "fd439906",
   "metadata": {},
   "outputs": [],
   "source": [
    "#Crea la sinusoidal y calcula su potencia. Requiere comprobar que es periódica y,\n",
    "#en caso de serlo, calcular su período"
   ]
  }
 ],
 "metadata": {
  "kernelspec": {
   "display_name": "Python 3 (ipykernel)",
   "language": "python",
   "name": "python3"
  },
  "language_info": {
   "codemirror_mode": {
    "name": "ipython",
    "version": 3
   },
   "file_extension": ".py",
   "mimetype": "text/x-python",
   "name": "python",
   "nbconvert_exporter": "python",
   "pygments_lexer": "ipython3",
   "version": "3.9.7"
  }
 },
 "nbformat": 4,
 "nbformat_minor": 5
}
